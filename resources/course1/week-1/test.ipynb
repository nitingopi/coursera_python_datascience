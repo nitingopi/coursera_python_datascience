{
 "cells": [
  {
   "cell_type": "code",
   "execution_count": 3,
   "id": "c4b9ad32-44f9-4f43-a0ed-24f1d5d9af24",
   "metadata": {},
   "outputs": [],
   "source": [
    "x = 1\n",
    "y = 2\n",
    "z = x+3"
   ]
  },
  {
   "cell_type": "code",
   "execution_count": 4,
   "id": "014a0fc2-ff19-473b-bdad-267f39294fe2",
   "metadata": {},
   "outputs": [
    {
     "data": {
      "text/plain": [
       "4"
      ]
     },
     "execution_count": 4,
     "metadata": {},
     "output_type": "execute_result"
    }
   ],
   "source": [
    "z"
   ]
  },
  {
   "cell_type": "code",
   "execution_count": 5,
   "id": "8801faa9-84a1-4ce6-b6c3-ad8c5863fbd3",
   "metadata": {},
   "outputs": [],
   "source": [
    "def add_numbers(x,y):\n",
    "    z = x + y\n",
    "    return z"
   ]
  },
  {
   "cell_type": "code",
   "execution_count": 6,
   "id": "ad575f11-1f1b-41a8-9088-cf476a87d6c9",
   "metadata": {},
   "outputs": [],
   "source": [
    "sums = add_numbers(2,3)"
   ]
  },
  {
   "cell_type": "code",
   "execution_count": 7,
   "id": "2eb6a877-3117-4789-bb88-3710def02250",
   "metadata": {},
   "outputs": [
    {
     "data": {
      "text/plain": [
       "5"
      ]
     },
     "execution_count": 7,
     "metadata": {},
     "output_type": "execute_result"
    }
   ],
   "source": [
    "sums"
   ]
  },
  {
   "cell_type": "code",
   "execution_count": 8,
   "id": "43e4274c-5bd8-4e6f-84c1-634dbfd8cec9",
   "metadata": {},
   "outputs": [
    {
     "name": "stdout",
     "output_type": "stream",
     "text": [
      "/home/nitin/work/coursera_python_datascience/resources/course1/week-1\n"
     ]
    },
    {
     "data": {
      "text/plain": [
       "[{'': '1',\n",
       "  'manufacturer': 'audi',\n",
       "  'model': 'a4',\n",
       "  'displ': '1.8',\n",
       "  'year': '1999',\n",
       "  'cyl': '4',\n",
       "  'trans': 'auto(l5)',\n",
       "  'drv': 'f',\n",
       "  'cty': '18',\n",
       "  'hwy': '29',\n",
       "  'fl': 'p',\n",
       "  'class': 'compact'},\n",
       " {'': '2',\n",
       "  'manufacturer': 'audi',\n",
       "  'model': 'a4',\n",
       "  'displ': '1.8',\n",
       "  'year': '1999',\n",
       "  'cyl': '4',\n",
       "  'trans': 'manual(m5)',\n",
       "  'drv': 'f',\n",
       "  'cty': '21',\n",
       "  'hwy': '29',\n",
       "  'fl': 'p',\n",
       "  'class': 'compact'},\n",
       " {'': '3',\n",
       "  'manufacturer': 'audi',\n",
       "  'model': 'a4',\n",
       "  'displ': '2',\n",
       "  'year': '2008',\n",
       "  'cyl': '4',\n",
       "  'trans': 'manual(m6)',\n",
       "  'drv': 'f',\n",
       "  'cty': '20',\n",
       "  'hwy': '31',\n",
       "  'fl': 'p',\n",
       "  'class': 'compact'}]"
      ]
     },
     "execution_count": 8,
     "metadata": {},
     "output_type": "execute_result"
    }
   ],
   "source": [
    "import csv\n",
    "%precision 2\n",
    "import os\n",
    "print(os.getcwd())\n",
    "# from datasets import 'mpg.csv'\n",
    "with open('/home/nitin/work/coursera_python_datascience/resources/course1/week-1/datasets/mpg.csv') as csv_file:\n",
    "    mpg = list(csv.DictReader(csv_file))\n",
    "mpg[:3]    "
   ]
  },
  {
   "cell_type": "code",
   "execution_count": 9,
   "id": "f9a12ebc-c055-426e-80b6-a540f4a582d3",
   "metadata": {},
   "outputs": [
    {
     "data": {
      "text/plain": [
       "234"
      ]
     },
     "execution_count": 9,
     "metadata": {},
     "output_type": "execute_result"
    }
   ],
   "source": [
    "len(mpg)\n"
   ]
  },
  {
   "cell_type": "code",
   "execution_count": 10,
   "id": "d2e77e36-c0ca-4103-9eaf-c96c8f2eaaa2",
   "metadata": {},
   "outputs": [
    {
     "data": {
      "text/plain": [
       "dict_keys(['', 'manufacturer', 'model', 'displ', 'year', 'cyl', 'trans', 'drv', 'cty', 'hwy', 'fl', 'class'])"
      ]
     },
     "execution_count": 10,
     "metadata": {},
     "output_type": "execute_result"
    }
   ],
   "source": [
    "mpg[0].keys()"
   ]
  },
  {
   "cell_type": "code",
   "execution_count": 11,
   "id": "95d255bd-d29b-4bd0-93c3-0da81a122982",
   "metadata": {},
   "outputs": [
    {
     "data": {
      "text/plain": [
       "16.86"
      ]
     },
     "execution_count": 11,
     "metadata": {},
     "output_type": "execute_result"
    }
   ],
   "source": [
    "sum(float(d['cty']) for d in mpg) / len(mpg)"
   ]
  },
  {
   "cell_type": "code",
   "execution_count": 12,
   "id": "8d27dd44-9610-4349-9305-43e94cc61742",
   "metadata": {},
   "outputs": [
    {
     "name": "stdout",
     "output_type": "stream",
     "text": [
      "YYYY MM DD HH\n"
     ]
    }
   ],
   "source": [
    "str = 'ConexusDelivery_HH_YYYYMMDD_XX.csv.gz'\n",
    "file_name = str.split('.')[0]\n",
    "file_breakdown = file_name.split('_')\n",
    "hour = file_breakdown[1]\n",
    "ymd = file_breakdown[2]\n",
    "year = ymd[:4]\n",
    "month = ymd[4:6]\n",
    "day = ymd[6:8]\n",
    "print(f'{year} {month} {day} {hour}')"
   ]
  },
  {
   "cell_type": "code",
   "execution_count": 13,
   "id": "6ce77118-9da0-45ed-9d2b-0fc3ca8b5fa9",
   "metadata": {},
   "outputs": [
    {
     "data": {
      "text/plain": [
       "23.44"
      ]
     },
     "execution_count": 13,
     "metadata": {},
     "output_type": "execute_result"
    }
   ],
   "source": [
    "sum(float(d['hwy']) for d in mpg) / len(mpg)"
   ]
  },
  {
   "cell_type": "code",
   "execution_count": 14,
   "id": "945df63a-a1b6-4197-8cda-3eb816d45451",
   "metadata": {},
   "outputs": [
    {
     "data": {
      "text/plain": [
       "{'4', '5', '6', '8'}"
      ]
     },
     "execution_count": 14,
     "metadata": {},
     "output_type": "execute_result"
    }
   ],
   "source": [
    "cylinders = set( d['cyl'] for d in mpg)\n",
    "cylinders"
   ]
  },
  {
   "cell_type": "code",
   "execution_count": 15,
   "id": "f1aad762-d707-4814-9009-507bca37624c",
   "metadata": {},
   "outputs": [
    {
     "data": {
      "text/plain": [
       "[('4', 21.01), ('5', 20.50), ('6', 16.22), ('8', 12.57)]"
      ]
     },
     "execution_count": 15,
     "metadata": {},
     "output_type": "execute_result"
    }
   ],
   "source": [
    "ctyMlgPerCyl = []\n",
    "for c in cylinders:\n",
    "    summpg = 0\n",
    "    cyltypecount = 0\n",
    "    for d in mpg:\n",
    "        if d['cyl'] == c:\n",
    "            summpg += float(d['cty'])\n",
    "            cyltypecount += 1\n",
    "    ctyMlgPerCyl.append((c, summpg/cyltypecount))\n",
    "ctyMlgPerCyl.sort(key=lambda x : x[0])\n",
    "ctyMlgPerCyl\n",
    "            "
   ]
  },
  {
   "cell_type": "code",
   "execution_count": 16,
   "id": "6578d38b-9ca9-4948-a980-ab13f2edf95b",
   "metadata": {},
   "outputs": [
    {
     "data": {
      "text/plain": [
       "{'2seater', 'compact', 'midsize', 'minivan', 'pickup', 'subcompact', 'suv'}"
      ]
     },
     "execution_count": 16,
     "metadata": {},
     "output_type": "execute_result"
    }
   ],
   "source": [
    "\n",
    "classes = set( d['class'] for d in mpg)\n",
    "classes"
   ]
  },
  {
   "cell_type": "code",
   "execution_count": 17,
   "id": "5a00e923-e2e5-4cdd-8003-5dcd1113842d",
   "metadata": {},
   "outputs": [
    {
     "data": {
      "text/plain": [
       "[('2seater', 15.40),\n",
       " ('compact', 20.13),\n",
       " ('midsize', 18.76),\n",
       " ('minivan', 15.82),\n",
       " ('pickup', 13.00),\n",
       " ('subcompact', 20.37),\n",
       " ('suv', 13.50)]"
      ]
     },
     "execution_count": 17,
     "metadata": {},
     "output_type": "execute_result"
    }
   ],
   "source": [
    "ctyMpgPerCls = []\n",
    "for c in classes:\n",
    "    summpg = 0\n",
    "    clsTypeCount = 0\n",
    "    for d in mpg:\n",
    "        if d['class'] == c :\n",
    "            summpg += float(d['cty'])\n",
    "            clsTypeCount += 1\n",
    "    ctyMpgPerCls.append((c, summpg/clsTypeCount))\n",
    "ctyMpgPerCls.sort(key=lambda x : x[0])\n",
    "ctyMpgPerCls"
   ]
  },
  {
   "cell_type": "code",
   "execution_count": 18,
   "id": "67e6d73e-e3a5-4922-ba4f-4f853459978b",
   "metadata": {},
   "outputs": [],
   "source": [
    "import numpy as np\n",
    "import math"
   ]
  },
  {
   "cell_type": "code",
   "execution_count": 19,
   "id": "cdeb6722-a266-4180-b2cc-63e776ada11f",
   "metadata": {},
   "outputs": [
    {
     "data": {
      "text/plain": [
       "1"
      ]
     },
     "execution_count": 19,
     "metadata": {},
     "output_type": "execute_result"
    }
   ],
   "source": [
    "b = np.array([1,2,3,4])\n",
    "b.ndim"
   ]
  },
  {
   "cell_type": "code",
   "execution_count": 20,
   "id": "fa5f6879-f0c7-4ed6-8dc5-0720e5447a06",
   "metadata": {},
   "outputs": [
    {
     "data": {
      "text/plain": [
       "array([1, 2, 3, 4])"
      ]
     },
     "execution_count": 20,
     "metadata": {},
     "output_type": "execute_result"
    }
   ],
   "source": [
    "b"
   ]
  },
  {
   "cell_type": "code",
   "execution_count": 21,
   "id": "fde724de-c493-4665-bfe9-9c199cfba238",
   "metadata": {},
   "outputs": [
    {
     "data": {
      "text/plain": [
       "(4,)"
      ]
     },
     "execution_count": 21,
     "metadata": {},
     "output_type": "execute_result"
    }
   ],
   "source": [
    "b.shape\n"
   ]
  },
  {
   "cell_type": "code",
   "execution_count": 22,
   "id": "a44422ee-79bb-4ddc-b690-e7dcd9e65a85",
   "metadata": {},
   "outputs": [
    {
     "data": {
      "text/plain": [
       "(3, 3)"
      ]
     },
     "execution_count": 22,
     "metadata": {},
     "output_type": "execute_result"
    }
   ],
   "source": [
    "c = np.array([[1,2,3],[4,5,6],[7,8,9]])\n",
    "c.shape"
   ]
  },
  {
   "cell_type": "code",
   "execution_count": 23,
   "id": "94675c8a-a928-44b1-ad33-455de5fd3f26",
   "metadata": {},
   "outputs": [
    {
     "data": {
      "text/plain": [
       "2"
      ]
     },
     "execution_count": 23,
     "metadata": {},
     "output_type": "execute_result"
    }
   ],
   "source": [
    "c.ndim\n",
    "\n"
   ]
  },
  {
   "cell_type": "code",
   "execution_count": 24,
   "id": "935b707f-ec25-4d54-8c06-2824ac872763",
   "metadata": {},
   "outputs": [
    {
     "data": {
      "text/plain": [
       "(2, 3, 3)"
      ]
     },
     "execution_count": 24,
     "metadata": {},
     "output_type": "execute_result"
    }
   ],
   "source": [
    "d = np.array([[[1,2,3.4],[4,5,6],[7,8,9]],[[1,2,3],[4,5,6],[7,8,9]]])\n",
    "d.shape"
   ]
  },
  {
   "cell_type": "code",
   "execution_count": 25,
   "id": "7ba9a36c-645f-40d2-9f77-ef34bfee4f8d",
   "metadata": {},
   "outputs": [
    {
     "data": {
      "text/plain": [
       "3"
      ]
     },
     "execution_count": 25,
     "metadata": {},
     "output_type": "execute_result"
    }
   ],
   "source": [
    "d.ndim"
   ]
  },
  {
   "cell_type": "code",
   "execution_count": 26,
   "id": "0811eca8-5418-4b61-adc9-b0db0254ae63",
   "metadata": {},
   "outputs": [
    {
     "data": {
      "text/plain": [
       "dtype('float64')"
      ]
     },
     "execution_count": 26,
     "metadata": {},
     "output_type": "execute_result"
    }
   ],
   "source": [
    "d.dtype"
   ]
  },
  {
   "cell_type": "code",
   "execution_count": 27,
   "id": "9bc647fd-fbd4-4ca9-87cb-78ed962e1786",
   "metadata": {},
   "outputs": [
    {
     "data": {
      "text/plain": [
       "array([[[1. , 2. , 3.4],\n",
       "        [4. , 5. , 6. ],\n",
       "        [7. , 8. , 9. ]],\n",
       "\n",
       "       [[1. , 2. , 3. ],\n",
       "        [4. , 5. , 6. ],\n",
       "        [7. , 8. , 9. ]]])"
      ]
     },
     "execution_count": 27,
     "metadata": {},
     "output_type": "execute_result"
    }
   ],
   "source": [
    "d"
   ]
  },
  {
   "cell_type": "code",
   "execution_count": 28,
   "id": "868b6c11-4546-44da-b0ac-8120b497b6ac",
   "metadata": {},
   "outputs": [
    {
     "name": "stdout",
     "output_type": "stream",
     "text": [
      "[10 12 14 16 18 20 22 24 26 28 30 32 34 36 38 40 42 44 46 48]\n",
      "[1.         1.07142857 1.14285714 1.21428571 1.28571429 1.35714286\n",
      " 1.42857143 1.5        1.57142857 1.64285714 1.71428571 1.78571429\n",
      " 1.85714286 1.92857143 2.        ]\n"
     ]
    }
   ],
   "source": [
    "f = np.arange(10, 50, 2)\n",
    "print(f)\n",
    "g = np.linspace(1,2,15)\n",
    "print(g)"
   ]
  },
  {
   "cell_type": "code",
   "execution_count": 29,
   "id": "4f22b6bf-10d0-4f1e-939b-1394f82d3a2a",
   "metadata": {},
   "outputs": [
    {
     "name": "stdout",
     "output_type": "stream",
     "text": [
      "[11 22 33 44]\n",
      "[ 10  40  90 160]\n"
     ]
    }
   ],
   "source": [
    "a = np.array([10,20,30,40])\n",
    "b = np.array([1,2,3,4])\n",
    "c = a+b\n",
    "print(c)\n",
    "d = a * b\n",
    "print(d)"
   ]
  },
  {
   "cell_type": "code",
   "execution_count": 30,
   "id": "a4e3a743-f74a-4118-9ef8-b3f01e9aa155",
   "metadata": {},
   "outputs": [
    {
     "data": {
      "text/plain": [
       "array([-17.22222222, -22.77777778, -20.        , -25.55555556,\n",
       "       -17.22222222])"
      ]
     },
     "execution_count": 30,
     "metadata": {},
     "output_type": "execute_result"
    }
   ],
   "source": [
    "farenheit = np.array([0, -10, -5, -15, 0])\n",
    "celcius = (farenheit - 31) * (5/9)\n",
    "celcius"
   ]
  },
  {
   "cell_type": "code",
   "execution_count": 31,
   "id": "8e7be231-2f2a-4e06-8af5-12e4446e1ca6",
   "metadata": {},
   "outputs": [
    {
     "data": {
      "text/plain": [
       "array([ True, False, False, False,  True])"
      ]
     },
     "execution_count": 31,
     "metadata": {},
     "output_type": "execute_result"
    }
   ],
   "source": [
    "celcius > -20"
   ]
  },
  {
   "cell_type": "code",
   "execution_count": 32,
   "id": "555a6528-5202-431f-a2b3-d096f823c96b",
   "metadata": {},
   "outputs": [
    {
     "data": {
      "text/plain": [
       "array([[2, 0],\n",
       "       [0, 4]])"
      ]
     },
     "execution_count": 32,
     "metadata": {},
     "output_type": "execute_result"
    }
   ],
   "source": [
    "A = np.array([[1,1],[0,1]])\n",
    "B = np.array([[2,0],[3,4]])\n",
    "A*B"
   ]
  },
  {
   "cell_type": "code",
   "execution_count": 33,
   "id": "5070a88d-ca96-4509-91b7-ab8dd6f3b9f8",
   "metadata": {},
   "outputs": [
    {
     "data": {
      "text/plain": [
       "array([[5, 4],\n",
       "       [3, 4]])"
      ]
     },
     "execution_count": 33,
     "metadata": {},
     "output_type": "execute_result"
    }
   ],
   "source": [
    "A@B"
   ]
  },
  {
   "cell_type": "code",
   "execution_count": 34,
   "id": "8855f8f0-49bd-4d80-b2c5-f6cb4fcb988f",
   "metadata": {},
   "outputs": [
    {
     "data": {
      "text/plain": [
       "array([[1, 1],\n",
       "       [0, 1]])"
      ]
     },
     "execution_count": 34,
     "metadata": {},
     "output_type": "execute_result"
    }
   ],
   "source": [
    "A\n"
   ]
  },
  {
   "cell_type": "code",
   "execution_count": 35,
   "id": "92a1c66d-e91c-4040-865f-5dcb914c4822",
   "metadata": {},
   "outputs": [
    {
     "data": {
      "text/plain": [
       "array([[2, 0],\n",
       "       [3, 4]])"
      ]
     },
     "execution_count": 35,
     "metadata": {},
     "output_type": "execute_result"
    }
   ],
   "source": [
    "B"
   ]
  },
  {
   "cell_type": "code",
   "execution_count": 36,
   "id": "fde7cc13-45b4-4473-aafe-54120c02287d",
   "metadata": {},
   "outputs": [
    {
     "data": {
      "text/plain": [
       "array([1, 2, 3])"
      ]
     },
     "execution_count": 36,
     "metadata": {},
     "output_type": "execute_result"
    }
   ],
   "source": [
    "a = np.array([1,2,3])\n",
    "a"
   ]
  },
  {
   "cell_type": "code",
   "execution_count": 37,
   "id": "2b50727c-efc3-44f8-8952-b3254c28fbd1",
   "metadata": {},
   "outputs": [
    {
     "data": {
      "text/plain": [
       "1"
      ]
     },
     "execution_count": 37,
     "metadata": {},
     "output_type": "execute_result"
    }
   ],
   "source": [
    "a.ndim"
   ]
  },
  {
   "cell_type": "code",
   "execution_count": 38,
   "id": "480e5f55-5152-4001-b718-1f7ea72256a5",
   "metadata": {},
   "outputs": [
    {
     "data": {
      "text/plain": [
       "array([[1, 2, 3],\n",
       "       [4, 5, 6]])"
      ]
     },
     "execution_count": 38,
     "metadata": {},
     "output_type": "execute_result"
    }
   ],
   "source": [
    "b = np.array([[1,2,3],[4,5,6]])\n",
    "b"
   ]
  },
  {
   "cell_type": "code",
   "execution_count": 39,
   "id": "4a758091-aa4f-439c-9445-0db572d74d9b",
   "metadata": {},
   "outputs": [
    {
     "data": {
      "text/plain": [
       "(2, 3)"
      ]
     },
     "execution_count": 39,
     "metadata": {},
     "output_type": "execute_result"
    }
   ],
   "source": [
    "b.shape"
   ]
  },
  {
   "cell_type": "code",
   "execution_count": 40,
   "id": "c942353b-13be-449b-a013-b0a7ffa30c90",
   "metadata": {},
   "outputs": [
    {
     "data": {
      "text/plain": [
       "dtype('int64')"
      ]
     },
     "execution_count": 40,
     "metadata": {},
     "output_type": "execute_result"
    }
   ],
   "source": [
    "a.dtype"
   ]
  },
  {
   "cell_type": "code",
   "execution_count": 41,
   "id": "e52cf3a7-7040-4692-b2d5-1ad80c5625cc",
   "metadata": {},
   "outputs": [
    {
     "data": {
      "text/plain": [
       "dtype('float64')"
      ]
     },
     "execution_count": 41,
     "metadata": {},
     "output_type": "execute_result"
    }
   ],
   "source": [
    "c = np.array([1, 3.4, 5.0])\n",
    "c.dtype"
   ]
  },
  {
   "cell_type": "code",
   "execution_count": 42,
   "id": "85802110-a45d-40f6-bc39-c1ed922ba461",
   "metadata": {},
   "outputs": [
    {
     "data": {
      "text/plain": [
       "array([1. , 3.4, 5. ])"
      ]
     },
     "execution_count": 42,
     "metadata": {},
     "output_type": "execute_result"
    }
   ],
   "source": [
    "c"
   ]
  },
  {
   "cell_type": "code",
   "execution_count": 43,
   "id": "a2ac49c4-c5c2-4228-b41a-a43cb081e88a",
   "metadata": {},
   "outputs": [],
   "source": [
    "d = np.zeros((2,3))"
   ]
  },
  {
   "cell_type": "code",
   "execution_count": 44,
   "id": "8d99c779-cda5-491f-b5ec-997d4284f557",
   "metadata": {},
   "outputs": [
    {
     "data": {
      "text/plain": [
       "array([[0., 0., 0.],\n",
       "       [0., 0., 0.]])"
      ]
     },
     "execution_count": 44,
     "metadata": {},
     "output_type": "execute_result"
    }
   ],
   "source": [
    "d\n",
    "\n"
   ]
  },
  {
   "cell_type": "code",
   "execution_count": 45,
   "id": "064b842b-1b45-485a-a431-7eef737ab8d4",
   "metadata": {},
   "outputs": [
    {
     "data": {
      "text/plain": [
       "array([[1., 1., 1.],\n",
       "       [1., 1., 1.]])"
      ]
     },
     "execution_count": 45,
     "metadata": {},
     "output_type": "execute_result"
    }
   ],
   "source": [
    "e = np.ones((2,3))\n",
    "e"
   ]
  },
  {
   "cell_type": "code",
   "execution_count": 46,
   "id": "7366765c-28cf-4212-b045-c2b935dfb237",
   "metadata": {},
   "outputs": [
    {
     "data": {
      "text/plain": [
       "array([[0.54242276, 0.39029957, 0.43934697],\n",
       "       [0.85194595, 0.63856259, 0.27729318]])"
      ]
     },
     "execution_count": 46,
     "metadata": {},
     "output_type": "execute_result"
    }
   ],
   "source": [
    "f = np.random.rand(2,3)\n",
    "f"
   ]
  },
  {
   "cell_type": "code",
   "execution_count": 47,
   "id": "4dd7f27f-40cd-49a2-89db-e554bfe1bbcf",
   "metadata": {},
   "outputs": [
    {
     "data": {
      "text/plain": [
       "array([11, 13, 15, 17, 19, 21, 23, 25, 27, 29, 31, 33, 35, 37, 39, 41, 43,\n",
       "       45, 47, 49])"
      ]
     },
     "execution_count": 47,
     "metadata": {},
     "output_type": "execute_result"
    }
   ],
   "source": [
    "g = np.arange(11,50,2)\n",
    "g"
   ]
  },
  {
   "cell_type": "code",
   "execution_count": 48,
   "id": "c8a185e8-2246-4418-a2ed-3a54cf39e7fa",
   "metadata": {},
   "outputs": [
    {
     "data": {
      "text/plain": [
       "array([0.        , 0.14285714, 0.28571429, 0.42857143, 0.57142857,\n",
       "       0.71428571, 0.85714286, 1.        , 1.14285714, 1.28571429,\n",
       "       1.42857143, 1.57142857, 1.71428571, 1.85714286, 2.        ])"
      ]
     },
     "execution_count": 48,
     "metadata": {},
     "output_type": "execute_result"
    }
   ],
   "source": [
    "h = np.linspace(0,2,15)\n",
    "h"
   ]
  },
  {
   "cell_type": "code",
   "execution_count": 49,
   "id": "edbb3e77-f960-4c2e-8c47-8c8c6bbf4ad2",
   "metadata": {},
   "outputs": [
    {
     "data": {
      "text/plain": [
       "array([11, 22, 33, 44])"
      ]
     },
     "execution_count": 49,
     "metadata": {},
     "output_type": "execute_result"
    }
   ],
   "source": [
    "a = np.array([10,20,30,40])\n",
    "b = np.array([1,2,3,4])\n",
    "c = a+b\n",
    "c"
   ]
  },
  {
   "cell_type": "code",
   "execution_count": 50,
   "id": "46964f82-8057-4f46-97b2-9302381601d5",
   "metadata": {},
   "outputs": [
    {
     "data": {
      "text/plain": [
       "array([ 10,  40,  90, 160])"
      ]
     },
     "execution_count": 50,
     "metadata": {},
     "output_type": "execute_result"
    }
   ],
   "source": [
    "d = a * b\n",
    "d"
   ]
  },
  {
   "cell_type": "code",
   "execution_count": 51,
   "id": "583599cc-cad9-4ac2-85aa-0cb68a35fc24",
   "metadata": {},
   "outputs": [
    {
     "data": {
      "text/plain": [
       "array([1, 2, 3])"
      ]
     },
     "execution_count": 51,
     "metadata": {},
     "output_type": "execute_result"
    }
   ],
   "source": [
    "a = np.array([1,2,3,4,5])\n",
    "a[:3]"
   ]
  },
  {
   "cell_type": "code",
   "execution_count": 52,
   "id": "8cce5175-d992-40bc-801d-7e396b1e8b31",
   "metadata": {},
   "outputs": [
    {
     "data": {
      "text/plain": [
       "array([2, 3, 4, 5])"
      ]
     },
     "execution_count": 52,
     "metadata": {},
     "output_type": "execute_result"
    }
   ],
   "source": [
    "a[1:7]"
   ]
  },
  {
   "cell_type": "code",
   "execution_count": 53,
   "id": "e92728e8-22ca-48af-9d2c-8d33e232199a",
   "metadata": {},
   "outputs": [],
   "source": [
    "a = np.array([[1,2,3,4],[5,6,7,8],[9,10,11,12]])"
   ]
  },
  {
   "cell_type": "code",
   "execution_count": 54,
   "id": "41649112-eb57-4eba-af88-99235a79bc6e",
   "metadata": {},
   "outputs": [
    {
     "data": {
      "text/plain": [
       "array([[ 1,  2,  3,  4],\n",
       "       [ 5,  6,  7,  8],\n",
       "       [ 9, 10, 11, 12]])"
      ]
     },
     "execution_count": 54,
     "metadata": {},
     "output_type": "execute_result"
    }
   ],
   "source": [
    "a"
   ]
  },
  {
   "cell_type": "code",
   "execution_count": 55,
   "id": "5b5e42b7-c170-4798-9928-f49e6d16d504",
   "metadata": {},
   "outputs": [
    {
     "data": {
      "text/plain": [
       "array([[1, 2, 3, 4],\n",
       "       [5, 6, 7, 8]])"
      ]
     },
     "execution_count": 55,
     "metadata": {},
     "output_type": "execute_result"
    }
   ],
   "source": [
    "a[:2]"
   ]
  },
  {
   "cell_type": "code",
   "execution_count": 56,
   "id": "b7ee9a3b-4196-4f5b-8c62-852acb272355",
   "metadata": {},
   "outputs": [
    {
     "data": {
      "text/plain": [
       "array([[2, 3],\n",
       "       [6, 7]])"
      ]
     },
     "execution_count": 56,
     "metadata": {},
     "output_type": "execute_result"
    }
   ],
   "source": [
    "a[:2, 1:3]"
   ]
  },
  {
   "cell_type": "code",
   "execution_count": 57,
   "id": "2aa4b927-2a37-46d9-a398-9ec54282abf9",
   "metadata": {},
   "outputs": [
    {
     "data": {
      "text/plain": [
       "array([[ 7.4  ,  0.7  ,  0.   , ...,  0.56 ,  9.4  ,  5.   ],\n",
       "       [ 7.8  ,  0.88 ,  0.   , ...,  0.68 ,  9.8  ,  5.   ],\n",
       "       [ 7.8  ,  0.76 ,  0.04 , ...,  0.65 ,  9.8  ,  5.   ],\n",
       "       ...,\n",
       "       [ 6.3  ,  0.51 ,  0.13 , ...,  0.75 , 11.   ,  6.   ],\n",
       "       [ 5.9  ,  0.645,  0.12 , ...,  0.71 , 10.2  ,  5.   ],\n",
       "       [ 6.   ,  0.31 ,  0.47 , ...,  0.66 , 11.   ,  6.   ]])"
      ]
     },
     "execution_count": 57,
     "metadata": {},
     "output_type": "execute_result"
    }
   ],
   "source": [
    "wines = np.genfromtxt(\"/home/nitin/work/coursera_python_datascience/resources/course1/week-1/datasets/winequality-red.csv\", delimiter=\";\", skip_header=1)\n",
    "wines"
   ]
  },
  {
   "cell_type": "code",
   "execution_count": 58,
   "id": "9b8b2f61-bb07-43f7-8591-fe3ced683126",
   "metadata": {},
   "outputs": [
    {
     "data": {
      "text/plain": [
       "(1599,)"
      ]
     },
     "execution_count": 58,
     "metadata": {},
     "output_type": "execute_result"
    }
   ],
   "source": [
    "wines_2 = wines[:,0]\n",
    "wines_2.shape"
   ]
  },
  {
   "cell_type": "code",
   "execution_count": 59,
   "id": "d88a6861-c6f2-43af-9ed8-77720e2b78ff",
   "metadata": {},
   "outputs": [
    {
     "data": {
      "text/plain": [
       "array([[7.4],\n",
       "       [7.8],\n",
       "       [7.8],\n",
       "       ...,\n",
       "       [6.3],\n",
       "       [5.9],\n",
       "       [6. ]])"
      ]
     },
     "execution_count": 59,
     "metadata": {},
     "output_type": "execute_result"
    }
   ],
   "source": [
    "wines[:, :1]"
   ]
  },
  {
   "cell_type": "code",
   "execution_count": 60,
   "id": "1d10de74-c3a6-4b9f-9e78-a9e370062f85",
   "metadata": {},
   "outputs": [
    {
     "data": {
      "text/plain": [
       "(1599, 1)"
      ]
     },
     "execution_count": 60,
     "metadata": {},
     "output_type": "execute_result"
    }
   ],
   "source": [
    "wines_1  = wines[:, 0:1]\n",
    "wines_1.shape"
   ]
  },
  {
   "cell_type": "code",
   "execution_count": 61,
   "id": "eadb495f-a769-40fa-a7c4-2304aa5c0fe8",
   "metadata": {},
   "outputs": [
    {
     "data": {
      "text/plain": [
       "(1599, 12)"
      ]
     },
     "execution_count": 61,
     "metadata": {},
     "output_type": "execute_result"
    }
   ],
   "source": [
    "wines_3 = wines[:, ]\n",
    "wines_3.shape"
   ]
  },
  {
   "cell_type": "code",
   "execution_count": 62,
   "id": "27764074-f610-420c-9186-4776db12b3b4",
   "metadata": {},
   "outputs": [
    {
     "data": {
      "text/plain": [
       "(1599, 12)"
      ]
     },
     "execution_count": 62,
     "metadata": {},
     "output_type": "execute_result"
    }
   ],
   "source": [
    "wines.shape"
   ]
  },
  {
   "cell_type": "code",
   "execution_count": 63,
   "id": "d252d9a5-e724-462c-9a7d-ab2dc61f3859",
   "metadata": {},
   "outputs": [
    {
     "data": {
      "text/plain": [
       "5.6360225140712945"
      ]
     },
     "execution_count": 63,
     "metadata": {},
     "output_type": "execute_result"
    }
   ],
   "source": [
    "wines[:,-1].mean()"
   ]
  },
  {
   "cell_type": "code",
   "execution_count": null,
   "id": "efaf243b-8d68-41c9-852e-b81ff26c2713",
   "metadata": {},
   "outputs": [],
   "source": []
  },
  {
   "cell_type": "code",
   "execution_count": 64,
   "id": "2d4df447-9887-4102-a1d4-1451e3dae544",
   "metadata": {},
   "outputs": [
    {
     "data": {
      "text/plain": [
       "array([['Serial No.', 'GRE Score', 'TOEFL Score', ..., 'CGPA',\n",
       "        'Research', 'Chance of Admit'],\n",
       "       ['1', '337', '118', ..., '9.65', '1', '0.92'],\n",
       "       ['2', '324', '107', ..., '8.87', '1', '0.76'],\n",
       "       ...,\n",
       "       ['398', '330', '116', ..., '9.45', '1', '0.91'],\n",
       "       ['399', '312', '103', ..., '8.78', '0', '0.67'],\n",
       "       ['400', '333', '117', ..., '9.66', '1', '0.95']], dtype='<U17')"
      ]
     },
     "execution_count": 64,
     "metadata": {},
     "output_type": "execute_result"
    }
   ],
   "source": [
    "graduate_admission = np.genfromtxt(\"/home/nitin/work/coursera_python_datascience/resources/course1/week-1/datasets/Admission_Predict.csv\", dtype=None, delimiter=\",\", encoding=None)\n",
    "graduate_admission"
   ]
  },
  {
   "cell_type": "code",
   "execution_count": 65,
   "id": "e8c6d8dd-075f-430a-b63f-599636985663",
   "metadata": {},
   "outputs": [
    {
     "data": {
      "text/plain": [
       "array([(  1, 337, 118, 4, 4.5, 4.5, 9.65, 1, 0.92),\n",
       "       (  2, 324, 107, 4, 4. , 4.5, 8.87, 1, 0.76),\n",
       "       (  3, 316, 104, 3, 3. , 3.5, 8.  , 1, 0.72),\n",
       "       (  4, 322, 110, 3, 3.5, 2.5, 8.67, 1, 0.8 ),\n",
       "       (  5, 314, 103, 2, 2. , 3. , 8.21, 0, 0.65),\n",
       "       (  6, 330, 115, 5, 4.5, 3. , 9.34, 1, 0.9 ),\n",
       "       (  7, 321, 109, 3, 3. , 4. , 8.2 , 1, 0.75),\n",
       "       (  8, 308, 101, 2, 3. , 4. , 7.9 , 0, 0.68),\n",
       "       (  9, 302, 102, 1, 2. , 1.5, 8.  , 0, 0.5 ),\n",
       "       ( 10, 323, 108, 3, 3.5, 3. , 8.6 , 0, 0.45),\n",
       "       ( 11, 325, 106, 3, 3.5, 4. , 8.4 , 1, 0.52),\n",
       "       ( 12, 327, 111, 4, 4. , 4.5, 9.  , 1, 0.84),\n",
       "       ( 13, 328, 112, 4, 4. , 4.5, 9.1 , 1, 0.78),\n",
       "       ( 14, 307, 109, 3, 4. , 3. , 8.  , 1, 0.62),\n",
       "       ( 15, 311, 104, 3, 3.5, 2. , 8.2 , 1, 0.61),\n",
       "       ( 16, 314, 105, 3, 3.5, 2.5, 8.3 , 0, 0.54),\n",
       "       ( 17, 317, 107, 3, 4. , 3. , 8.7 , 0, 0.66),\n",
       "       ( 18, 319, 106, 3, 4. , 3. , 8.  , 1, 0.65),\n",
       "       ( 19, 318, 110, 3, 4. , 3. , 8.8 , 0, 0.63),\n",
       "       ( 20, 303, 102, 3, 3.5, 3. , 8.5 , 0, 0.62),\n",
       "       ( 21, 312, 107, 3, 3. , 2. , 7.9 , 1, 0.64),\n",
       "       ( 22, 325, 114, 4, 3. , 2. , 8.4 , 0, 0.7 ),\n",
       "       ( 23, 328, 116, 5, 5. , 5. , 9.5 , 1, 0.94),\n",
       "       ( 24, 334, 119, 5, 5. , 4.5, 9.7 , 1, 0.95),\n",
       "       ( 25, 336, 119, 5, 4. , 3.5, 9.8 , 1, 0.97),\n",
       "       ( 26, 340, 120, 5, 4.5, 4.5, 9.6 , 1, 0.94),\n",
       "       ( 27, 322, 109, 5, 4.5, 3.5, 8.8 , 0, 0.76),\n",
       "       ( 28, 298,  98, 2, 1.5, 2.5, 7.5 , 1, 0.44),\n",
       "       ( 29, 295,  93, 1, 2. , 2. , 7.2 , 0, 0.46),\n",
       "       ( 30, 310,  99, 2, 1.5, 2. , 7.3 , 0, 0.54),\n",
       "       ( 31, 300,  97, 2, 3. , 3. , 8.1 , 1, 0.65),\n",
       "       ( 32, 327, 103, 3, 4. , 4. , 8.3 , 1, 0.74),\n",
       "       ( 33, 338, 118, 4, 3. , 4.5, 9.4 , 1, 0.91),\n",
       "       ( 34, 340, 114, 5, 4. , 4. , 9.6 , 1, 0.9 ),\n",
       "       ( 35, 331, 112, 5, 4. , 5. , 9.8 , 1, 0.94),\n",
       "       ( 36, 320, 110, 5, 5. , 5. , 9.2 , 1, 0.88),\n",
       "       ( 37, 299, 106, 2, 4. , 4. , 8.4 , 0, 0.64),\n",
       "       ( 38, 300, 105, 1, 1. , 2. , 7.8 , 0, 0.58),\n",
       "       ( 39, 304, 105, 1, 3. , 1.5, 7.5 , 0, 0.52),\n",
       "       ( 40, 307, 108, 2, 4. , 3.5, 7.7 , 0, 0.48),\n",
       "       ( 41, 308, 110, 3, 3.5, 3. , 8.  , 1, 0.46),\n",
       "       ( 42, 316, 105, 2, 2.5, 2.5, 8.2 , 1, 0.49),\n",
       "       ( 43, 313, 107, 2, 2.5, 2. , 8.5 , 1, 0.53),\n",
       "       ( 44, 332, 117, 4, 4.5, 4. , 9.1 , 0, 0.87),\n",
       "       ( 45, 326, 113, 5, 4.5, 4. , 9.4 , 1, 0.91),\n",
       "       ( 46, 322, 110, 5, 5. , 4. , 9.1 , 1, 0.88),\n",
       "       ( 47, 329, 114, 5, 4. , 5. , 9.3 , 1, 0.86),\n",
       "       ( 48, 339, 119, 5, 4.5, 4. , 9.7 , 0, 0.89),\n",
       "       ( 49, 321, 110, 3, 3.5, 5. , 8.85, 1, 0.82),\n",
       "       ( 50, 327, 111, 4, 3. , 4. , 8.4 , 1, 0.78),\n",
       "       ( 51, 313,  98, 3, 2.5, 4.5, 8.3 , 1, 0.76),\n",
       "       ( 52, 312, 100, 2, 1.5, 3.5, 7.9 , 1, 0.56),\n",
       "       ( 53, 334, 116, 4, 4. , 3. , 8.  , 1, 0.78),\n",
       "       ( 54, 324, 112, 4, 4. , 2.5, 8.1 , 1, 0.72),\n",
       "       ( 55, 322, 110, 3, 3. , 3.5, 8.  , 0, 0.7 ),\n",
       "       ( 56, 320, 103, 3, 3. , 3. , 7.7 , 0, 0.64),\n",
       "       ( 57, 316, 102, 3, 2. , 3. , 7.4 , 0, 0.64),\n",
       "       ( 58, 298,  99, 2, 4. , 2. , 7.6 , 0, 0.46),\n",
       "       ( 59, 300,  99, 1, 3. , 2. , 6.8 , 1, 0.36),\n",
       "       ( 60, 311, 104, 2, 2. , 2. , 8.3 , 0, 0.42),\n",
       "       ( 61, 309, 100, 2, 3. , 3. , 8.1 , 0, 0.48),\n",
       "       ( 62, 307, 101, 3, 4. , 3. , 8.2 , 0, 0.47),\n",
       "       ( 63, 304, 105, 2, 3. , 3. , 8.2 , 1, 0.54),\n",
       "       ( 64, 315, 107, 2, 4. , 3. , 8.5 , 1, 0.56),\n",
       "       ( 65, 325, 111, 3, 3. , 3.5, 8.7 , 0, 0.52),\n",
       "       ( 66, 325, 112, 4, 3.5, 3.5, 8.92, 0, 0.55),\n",
       "       ( 67, 327, 114, 3, 3. , 3. , 9.02, 0, 0.61),\n",
       "       ( 68, 316, 107, 2, 3.5, 3.5, 8.64, 1, 0.57),\n",
       "       ( 69, 318, 109, 3, 3.5, 4. , 9.22, 1, 0.68),\n",
       "       ( 70, 328, 115, 4, 4.5, 4. , 9.16, 1, 0.78),\n",
       "       ( 71, 332, 118, 5, 5. , 5. , 9.64, 1, 0.94),\n",
       "       ( 72, 336, 112, 5, 5. , 5. , 9.76, 1, 0.96),\n",
       "       ( 73, 321, 111, 5, 5. , 5. , 9.45, 1, 0.93),\n",
       "       ( 74, 314, 108, 4, 4.5, 4. , 9.04, 1, 0.84),\n",
       "       ( 75, 314, 106, 3, 3. , 5. , 8.9 , 0, 0.74),\n",
       "       ( 76, 329, 114, 2, 2. , 4. , 8.56, 1, 0.72),\n",
       "       ( 77, 327, 112, 3, 3. , 3. , 8.72, 1, 0.74),\n",
       "       ( 78, 301,  99, 2, 3. , 2. , 8.22, 0, 0.64),\n",
       "       ( 79, 296,  95, 2, 3. , 2. , 7.54, 1, 0.44),\n",
       "       ( 80, 294,  93, 1, 1.5, 2. , 7.36, 0, 0.46),\n",
       "       ( 81, 312, 105, 3, 2. , 3. , 8.02, 1, 0.5 ),\n",
       "       ( 82, 340, 120, 4, 5. , 5. , 9.5 , 1, 0.96),\n",
       "       ( 83, 320, 110, 5, 5. , 4.5, 9.22, 1, 0.92),\n",
       "       ( 84, 322, 115, 5, 4. , 4.5, 9.36, 1, 0.92),\n",
       "       ( 85, 340, 115, 5, 4.5, 4.5, 9.45, 1, 0.94),\n",
       "       ( 86, 319, 103, 4, 4.5, 3.5, 8.66, 0, 0.76),\n",
       "       ( 87, 315, 106, 3, 4.5, 3.5, 8.42, 0, 0.72),\n",
       "       ( 88, 317, 107, 2, 3.5, 3. , 8.28, 0, 0.66),\n",
       "       ( 89, 314, 108, 3, 4.5, 3.5, 8.14, 0, 0.64),\n",
       "       ( 90, 316, 109, 4, 4.5, 3.5, 8.76, 1, 0.74),\n",
       "       ( 91, 318, 106, 2, 4. , 4. , 7.92, 1, 0.64),\n",
       "       ( 92, 299,  97, 3, 5. , 3.5, 7.66, 0, 0.38),\n",
       "       ( 93, 298,  98, 2, 4. , 3. , 8.03, 0, 0.34),\n",
       "       ( 94, 301,  97, 2, 3. , 3. , 7.88, 1, 0.44),\n",
       "       ( 95, 303,  99, 3, 2. , 2.5, 7.66, 0, 0.36),\n",
       "       ( 96, 304, 100, 4, 1.5, 2.5, 7.84, 0, 0.42),\n",
       "       ( 97, 306, 100, 2, 3. , 3. , 8.  , 0, 0.48),\n",
       "       ( 98, 331, 120, 3, 4. , 4. , 8.96, 1, 0.86),\n",
       "       ( 99, 332, 119, 4, 5. , 4.5, 9.24, 1, 0.9 ),\n",
       "       (100, 323, 113, 3, 4. , 4. , 8.88, 1, 0.79),\n",
       "       (101, 322, 107, 3, 3.5, 3.5, 8.46, 1, 0.71),\n",
       "       (102, 312, 105, 2, 2.5, 3. , 8.12, 0, 0.64),\n",
       "       (103, 314, 106, 2, 4. , 3.5, 8.25, 0, 0.62),\n",
       "       (104, 317, 104, 2, 4.5, 4. , 8.47, 0, 0.57),\n",
       "       (105, 326, 112, 3, 3.5, 3. , 9.05, 1, 0.74),\n",
       "       (106, 316, 110, 3, 4. , 4.5, 8.78, 1, 0.69),\n",
       "       (107, 329, 111, 4, 4.5, 4.5, 9.18, 1, 0.87),\n",
       "       (108, 338, 117, 4, 3.5, 4.5, 9.46, 1, 0.91),\n",
       "       (109, 331, 116, 5, 5. , 5. , 9.38, 1, 0.93),\n",
       "       (110, 304, 103, 5, 5. , 4. , 8.64, 0, 0.68),\n",
       "       (111, 305, 108, 5, 3. , 3. , 8.48, 0, 0.61),\n",
       "       (112, 321, 109, 4, 4. , 4. , 8.68, 1, 0.69),\n",
       "       (113, 301, 107, 3, 3.5, 3.5, 8.34, 1, 0.62),\n",
       "       (114, 320, 110, 2, 4. , 3.5, 8.56, 0, 0.72),\n",
       "       (115, 311, 105, 3, 3.5, 3. , 8.45, 1, 0.59),\n",
       "       (116, 310, 106, 4, 4.5, 4.5, 9.04, 1, 0.66),\n",
       "       (117, 299, 102, 3, 4. , 3.5, 8.62, 0, 0.56),\n",
       "       (118, 290, 104, 4, 2. , 2.5, 7.46, 0, 0.45),\n",
       "       (119, 296,  99, 2, 3. , 3.5, 7.28, 0, 0.47),\n",
       "       (120, 327, 104, 5, 3. , 3.5, 8.84, 1, 0.71),\n",
       "       (121, 335, 117, 5, 5. , 5. , 9.56, 1, 0.94),\n",
       "       (122, 334, 119, 5, 4.5, 4.5, 9.48, 1, 0.94),\n",
       "       (123, 310, 106, 4, 1.5, 2.5, 8.36, 0, 0.57),\n",
       "       (124, 308, 108, 3, 3.5, 3.5, 8.22, 0, 0.61),\n",
       "       (125, 301, 106, 4, 2.5, 3. , 8.47, 0, 0.57),\n",
       "       (126, 300, 100, 3, 2. , 3. , 8.66, 1, 0.64),\n",
       "       (127, 323, 113, 3, 4. , 3. , 9.32, 1, 0.85),\n",
       "       (128, 319, 112, 3, 2.5, 2. , 8.71, 1, 0.78),\n",
       "       (129, 326, 112, 3, 3.5, 3. , 9.1 , 1, 0.84),\n",
       "       (130, 333, 118, 5, 5. , 5. , 9.35, 1, 0.92),\n",
       "       (131, 339, 114, 5, 4. , 4.5, 9.76, 1, 0.96),\n",
       "       (132, 303, 105, 5, 5. , 4.5, 8.65, 0, 0.77),\n",
       "       (133, 309, 105, 5, 3.5, 3.5, 8.56, 0, 0.71),\n",
       "       (134, 323, 112, 5, 4. , 4.5, 8.78, 0, 0.79),\n",
       "       (135, 333, 113, 5, 4. , 4. , 9.28, 1, 0.89),\n",
       "       (136, 314, 109, 4, 3.5, 4. , 8.77, 1, 0.82),\n",
       "       (137, 312, 103, 3, 5. , 4. , 8.45, 0, 0.76),\n",
       "       (138, 316, 100, 2, 1.5, 3. , 8.16, 1, 0.71),\n",
       "       (139, 326, 116, 2, 4.5, 3. , 9.08, 1, 0.8 ),\n",
       "       (140, 318, 109, 1, 3.5, 3.5, 9.12, 0, 0.78),\n",
       "       (141, 329, 110, 2, 4. , 3. , 9.15, 1, 0.84),\n",
       "       (142, 332, 118, 2, 4.5, 3.5, 9.36, 1, 0.9 ),\n",
       "       (143, 331, 115, 5, 4. , 3.5, 9.44, 1, 0.92),\n",
       "       (144, 340, 120, 4, 4.5, 4. , 9.92, 1, 0.97),\n",
       "       (145, 325, 112, 2, 3. , 3.5, 8.96, 1, 0.8 ),\n",
       "       (146, 320, 113, 2, 2. , 2.5, 8.64, 1, 0.81),\n",
       "       (147, 315, 105, 3, 2. , 2.5, 8.48, 0, 0.75),\n",
       "       (148, 326, 114, 3, 3. , 3. , 9.11, 1, 0.83),\n",
       "       (149, 339, 116, 4, 4. , 3.5, 9.8 , 1, 0.96),\n",
       "       (150, 311, 106, 2, 3.5, 3. , 8.26, 1, 0.79),\n",
       "       (151, 334, 114, 4, 4. , 4. , 9.43, 1, 0.93),\n",
       "       (152, 332, 116, 5, 5. , 5. , 9.28, 1, 0.94),\n",
       "       (153, 321, 112, 5, 5. , 5. , 9.06, 1, 0.86),\n",
       "       (154, 324, 105, 3, 3. , 4. , 8.75, 0, 0.79),\n",
       "       (155, 326, 108, 3, 3. , 3.5, 8.89, 0, 0.8 ),\n",
       "       (156, 312, 109, 3, 3. , 3. , 8.69, 0, 0.77),\n",
       "       (157, 315, 105, 3, 2. , 2.5, 8.34, 0, 0.7 ),\n",
       "       (158, 309, 104, 2, 2. , 2.5, 8.26, 0, 0.65),\n",
       "       (159, 306, 106, 2, 2. , 2.5, 8.14, 0, 0.61),\n",
       "       (160, 297, 100, 1, 1.5, 2. , 7.9 , 0, 0.52),\n",
       "       (161, 315, 103, 1, 1.5, 2. , 7.86, 0, 0.57),\n",
       "       (162, 298,  99, 1, 1.5, 3. , 7.46, 0, 0.53),\n",
       "       (163, 318, 109, 3, 3. , 3. , 8.5 , 0, 0.67),\n",
       "       (164, 317, 105, 3, 3.5, 3. , 8.56, 0, 0.68),\n",
       "       (165, 329, 111, 4, 4.5, 4. , 9.01, 1, 0.81),\n",
       "       (166, 322, 110, 5, 4.5, 4. , 8.97, 0, 0.78),\n",
       "       (167, 302, 102, 3, 3.5, 5. , 8.33, 0, 0.65),\n",
       "       (168, 313, 102, 3, 2. , 3. , 8.27, 0, 0.64),\n",
       "       (169, 293,  97, 2, 2. , 4. , 7.8 , 1, 0.64),\n",
       "       (170, 311,  99, 2, 2.5, 3. , 7.98, 0, 0.65),\n",
       "       (171, 312, 101, 2, 2.5, 3.5, 8.04, 1, 0.68),\n",
       "       (172, 334, 117, 5, 4. , 4.5, 9.07, 1, 0.89),\n",
       "       (173, 322, 110, 4, 4. , 5. , 9.13, 1, 0.86),\n",
       "       (174, 323, 113, 4, 4. , 4.5, 9.23, 1, 0.89),\n",
       "       (175, 321, 111, 4, 4. , 4. , 8.97, 1, 0.87),\n",
       "       (176, 320, 111, 4, 4.5, 3.5, 8.87, 1, 0.85),\n",
       "       (177, 329, 119, 4, 4.5, 4.5, 9.16, 1, 0.9 ),\n",
       "       (178, 319, 110, 3, 3.5, 3.5, 9.04, 0, 0.82),\n",
       "       (179, 309, 108, 3, 2.5, 3. , 8.12, 0, 0.72),\n",
       "       (180, 307, 102, 3, 3. , 3. , 8.27, 0, 0.73),\n",
       "       (181, 300, 104, 3, 3.5, 3. , 8.16, 0, 0.71),\n",
       "       (182, 305, 107, 2, 2.5, 2.5, 8.42, 0, 0.71),\n",
       "       (183, 299, 100, 2, 3. , 3.5, 7.88, 0, 0.68),\n",
       "       (184, 314, 110, 3, 4. , 4. , 8.8 , 0, 0.75),\n",
       "       (185, 316, 106, 2, 2.5, 4. , 8.32, 0, 0.72),\n",
       "       (186, 327, 113, 4, 4.5, 4.5, 9.11, 1, 0.89),\n",
       "       (187, 317, 107, 3, 3.5, 3. , 8.68, 1, 0.84),\n",
       "       (188, 335, 118, 5, 4.5, 3.5, 9.44, 1, 0.93),\n",
       "       (189, 331, 115, 5, 4.5, 3.5, 9.36, 1, 0.93),\n",
       "       (190, 324, 112, 5, 5. , 5. , 9.08, 1, 0.88),\n",
       "       (191, 324, 111, 5, 4.5, 4. , 9.16, 1, 0.9 ),\n",
       "       (192, 323, 110, 5, 4. , 5. , 8.98, 1, 0.87),\n",
       "       (193, 322, 114, 5, 4.5, 4. , 8.94, 1, 0.86),\n",
       "       (194, 336, 118, 5, 4.5, 5. , 9.53, 1, 0.94),\n",
       "       (195, 316, 109, 3, 3.5, 3. , 8.76, 0, 0.77),\n",
       "       (196, 307, 107, 2, 3. , 3.5, 8.52, 1, 0.78),\n",
       "       (197, 306, 105, 2, 3. , 2.5, 8.26, 0, 0.73),\n",
       "       (198, 310, 106, 2, 3.5, 2.5, 8.33, 0, 0.73),\n",
       "       (199, 311, 104, 3, 4.5, 4.5, 8.43, 0, 0.7 ),\n",
       "       (200, 313, 107, 3, 4. , 4.5, 8.69, 0, 0.72),\n",
       "       (201, 317, 103, 3, 2.5, 3. , 8.54, 1, 0.73),\n",
       "       (202, 315, 110, 2, 3.5, 3. , 8.46, 1, 0.72),\n",
       "       (203, 340, 120, 5, 4.5, 4.5, 9.91, 1, 0.97),\n",
       "       (204, 334, 120, 5, 4. , 5. , 9.87, 1, 0.97),\n",
       "       (205, 298, 105, 3, 3.5, 4. , 8.54, 0, 0.69),\n",
       "       (206, 295,  99, 2, 2.5, 3. , 7.65, 0, 0.57),\n",
       "       (207, 315,  99, 2, 3.5, 3. , 7.89, 0, 0.63),\n",
       "       (208, 310, 102, 3, 3.5, 4. , 8.02, 1, 0.66),\n",
       "       (209, 305, 106, 2, 3. , 3. , 8.16, 0, 0.64),\n",
       "       (210, 301, 104, 3, 3.5, 4. , 8.12, 1, 0.68),\n",
       "       (211, 325, 108, 4, 4.5, 4. , 9.06, 1, 0.79),\n",
       "       (212, 328, 110, 4, 5. , 4. , 9.14, 1, 0.82),\n",
       "       (213, 338, 120, 4, 5. , 5. , 9.66, 1, 0.95),\n",
       "       (214, 333, 119, 5, 5. , 4.5, 9.78, 1, 0.96),\n",
       "       (215, 331, 117, 4, 4.5, 5. , 9.42, 1, 0.94),\n",
       "       (216, 330, 116, 5, 5. , 4.5, 9.36, 1, 0.93),\n",
       "       (217, 322, 112, 4, 4.5, 4.5, 9.26, 1, 0.91),\n",
       "       (218, 321, 109, 4, 4. , 4. , 9.13, 1, 0.85),\n",
       "       (219, 324, 110, 4, 3. , 3.5, 8.97, 1, 0.84),\n",
       "       (220, 312, 104, 3, 3.5, 3.5, 8.42, 0, 0.74),\n",
       "       (221, 313, 103, 3, 4. , 4. , 8.75, 0, 0.76),\n",
       "       (222, 316, 110, 3, 3.5, 4. , 8.56, 0, 0.75),\n",
       "       (223, 324, 113, 4, 4.5, 4. , 8.79, 0, 0.76),\n",
       "       (224, 308, 109, 2, 3. , 4. , 8.45, 0, 0.71),\n",
       "       (225, 305, 105, 2, 3. , 2. , 8.23, 0, 0.67),\n",
       "       (226, 296,  99, 2, 2.5, 2.5, 8.03, 0, 0.61),\n",
       "       (227, 306, 110, 2, 3.5, 4. , 8.45, 0, 0.63),\n",
       "       (228, 312, 110, 2, 3.5, 3. , 8.53, 0, 0.64),\n",
       "       (229, 318, 112, 3, 4. , 3.5, 8.67, 0, 0.71),\n",
       "       (230, 324, 111, 4, 3. , 3. , 9.01, 1, 0.82),\n",
       "       (231, 313, 104, 3, 4. , 4.5, 8.65, 0, 0.73),\n",
       "       (232, 319, 106, 3, 3.5, 2.5, 8.33, 1, 0.74),\n",
       "       (233, 312, 107, 2, 2.5, 3.5, 8.27, 0, 0.69),\n",
       "       (234, 304, 100, 2, 2.5, 3.5, 8.07, 0, 0.64),\n",
       "       (235, 330, 113, 5, 5. , 4. , 9.31, 1, 0.91),\n",
       "       (236, 326, 111, 5, 4.5, 4. , 9.23, 1, 0.88),\n",
       "       (237, 325, 112, 4, 4. , 4.5, 9.17, 1, 0.85),\n",
       "       (238, 329, 114, 5, 4.5, 5. , 9.19, 1, 0.86),\n",
       "       (239, 310, 104, 3, 2. , 3.5, 8.37, 0, 0.7 ),\n",
       "       (240, 299, 100, 1, 1.5, 2. , 7.89, 0, 0.59),\n",
       "       (241, 296, 101, 1, 2.5, 3. , 7.68, 0, 0.6 ),\n",
       "       (242, 317, 103, 2, 2.5, 2. , 8.15, 0, 0.65),\n",
       "       (243, 324, 115, 3, 3.5, 3. , 8.76, 1, 0.7 ),\n",
       "       (244, 325, 114, 3, 3.5, 3. , 9.04, 1, 0.76),\n",
       "       (245, 314, 107, 2, 2.5, 4. , 8.56, 0, 0.63),\n",
       "       (246, 328, 110, 4, 4. , 2.5, 9.02, 1, 0.81),\n",
       "       (247, 316, 105, 3, 3. , 3.5, 8.73, 0, 0.72),\n",
       "       (248, 311, 104, 2, 2.5, 3.5, 8.48, 0, 0.71),\n",
       "       (249, 324, 110, 3, 3.5, 4. , 8.87, 1, 0.8 ),\n",
       "       (250, 321, 111, 3, 3.5, 4. , 8.83, 1, 0.77),\n",
       "       (251, 320, 104, 3, 3. , 2.5, 8.57, 1, 0.74),\n",
       "       (252, 316,  99, 2, 2.5, 3. , 9.  , 0, 0.7 ),\n",
       "       (253, 318, 100, 2, 2.5, 3.5, 8.54, 1, 0.71),\n",
       "       (254, 335, 115, 4, 4.5, 4.5, 9.68, 1, 0.93),\n",
       "       (255, 321, 114, 4, 4. , 5. , 9.12, 0, 0.85),\n",
       "       (256, 307, 110, 4, 4. , 4.5, 8.37, 0, 0.79),\n",
       "       (257, 309,  99, 3, 4. , 4. , 8.56, 0, 0.76),\n",
       "       (258, 324, 100, 3, 4. , 5. , 8.64, 1, 0.78),\n",
       "       (259, 326, 102, 4, 5. , 5. , 8.76, 1, 0.77),\n",
       "       (260, 331, 119, 4, 5. , 4.5, 9.34, 1, 0.9 ),\n",
       "       (261, 327, 108, 5, 5. , 3.5, 9.13, 1, 0.87),\n",
       "       (262, 312, 104, 3, 3.5, 4. , 8.09, 0, 0.71),\n",
       "       (263, 308, 103, 2, 2.5, 4. , 8.36, 1, 0.7 ),\n",
       "       (264, 324, 111, 3, 2.5, 1.5, 8.79, 1, 0.7 ),\n",
       "       (265, 325, 110, 2, 3. , 2.5, 8.76, 1, 0.75),\n",
       "       (266, 313, 102, 3, 2.5, 2.5, 8.68, 0, 0.71),\n",
       "       (267, 312, 105, 2, 2. , 2.5, 8.45, 0, 0.72),\n",
       "       (268, 314, 107, 3, 3. , 3.5, 8.17, 1, 0.73),\n",
       "       (269, 327, 113, 4, 4.5, 5. , 9.14, 0, 0.83),\n",
       "       (270, 308, 108, 4, 4.5, 5. , 8.34, 0, 0.77),\n",
       "       (271, 306, 105, 2, 2.5, 3. , 8.22, 1, 0.72),\n",
       "       (272, 299,  96, 2, 1.5, 2. , 7.86, 0, 0.54),\n",
       "       (273, 294,  95, 1, 1.5, 1.5, 7.64, 0, 0.49),\n",
       "       (274, 312,  99, 1, 1. , 1.5, 8.01, 1, 0.52),\n",
       "       (275, 315, 100, 1, 2. , 2.5, 7.95, 0, 0.58),\n",
       "       (276, 322, 110, 3, 3.5, 3. , 8.96, 1, 0.78),\n",
       "       (277, 329, 113, 5, 5. , 4.5, 9.45, 1, 0.89),\n",
       "       (278, 320, 101, 2, 2.5, 3. , 8.62, 0, 0.7 ),\n",
       "       (279, 308, 103, 2, 3. , 3.5, 8.49, 0, 0.66),\n",
       "       (280, 304, 102, 2, 3. , 4. , 8.73, 0, 0.67),\n",
       "       (281, 311, 102, 3, 4.5, 4. , 8.64, 1, 0.68),\n",
       "       (282, 317, 110, 3, 4. , 4.5, 9.11, 1, 0.8 ),\n",
       "       (283, 312, 106, 3, 4. , 3.5, 8.79, 1, 0.81),\n",
       "       (284, 321, 111, 3, 2.5, 3. , 8.9 , 1, 0.8 ),\n",
       "       (285, 340, 112, 4, 5. , 4.5, 9.66, 1, 0.94),\n",
       "       (286, 331, 116, 5, 4. , 4. , 9.26, 1, 0.93),\n",
       "       (287, 336, 118, 5, 4.5, 4. , 9.19, 1, 0.92),\n",
       "       (288, 324, 114, 5, 5. , 4.5, 9.08, 1, 0.89),\n",
       "       (289, 314, 104, 4, 5. , 5. , 9.02, 0, 0.82),\n",
       "       (290, 313, 109, 3, 4. , 3.5, 9.  , 0, 0.79),\n",
       "       (291, 307, 105, 2, 2.5, 3. , 7.65, 0, 0.58),\n",
       "       (292, 300, 102, 2, 1.5, 2. , 7.87, 0, 0.56),\n",
       "       (293, 302,  99, 2, 1. , 2. , 7.97, 0, 0.56),\n",
       "       (294, 312,  98, 1, 3.5, 3. , 8.18, 1, 0.64),\n",
       "       (295, 316, 101, 2, 2.5, 2. , 8.32, 1, 0.61),\n",
       "       (296, 317, 100, 2, 3. , 2.5, 8.57, 0, 0.68),\n",
       "       (297, 310, 107, 3, 3.5, 3.5, 8.67, 0, 0.76),\n",
       "       (298, 320, 120, 3, 4. , 4.5, 9.11, 0, 0.86),\n",
       "       (299, 330, 114, 3, 4.5, 4.5, 9.24, 1, 0.9 ),\n",
       "       (300, 305, 112, 3, 3. , 3.5, 8.65, 0, 0.71),\n",
       "       (301, 309, 106, 2, 2.5, 2.5, 8.  , 0, 0.62),\n",
       "       (302, 319, 108, 2, 2.5, 3. , 8.76, 0, 0.66),\n",
       "       (303, 322, 105, 2, 3. , 3. , 8.45, 1, 0.65),\n",
       "       (304, 323, 107, 3, 3.5, 3.5, 8.55, 1, 0.73),\n",
       "       (305, 313, 106, 2, 2.5, 2. , 8.43, 0, 0.62),\n",
       "       (306, 321, 109, 3, 3.5, 3.5, 8.8 , 1, 0.74),\n",
       "       (307, 323, 110, 3, 4. , 3.5, 9.1 , 1, 0.79),\n",
       "       (308, 325, 112, 4, 4. , 4. , 9.  , 1, 0.8 ),\n",
       "       (309, 312, 108, 3, 3.5, 3. , 8.53, 0, 0.69),\n",
       "       (310, 308, 110, 4, 3.5, 3. , 8.6 , 0, 0.7 ),\n",
       "       (311, 320, 104, 3, 3. , 3.5, 8.74, 1, 0.76),\n",
       "       (312, 328, 108, 4, 4.5, 4. , 9.18, 1, 0.84),\n",
       "       (313, 311, 107, 4, 4.5, 4.5, 9.  , 1, 0.78),\n",
       "       (314, 301, 100, 3, 3.5, 3. , 8.04, 0, 0.67),\n",
       "       (315, 305, 105, 2, 3. , 4. , 8.13, 0, 0.66),\n",
       "       (316, 308, 104, 2, 2.5, 3. , 8.07, 0, 0.65),\n",
       "       (317, 298, 101, 2, 1.5, 2. , 7.86, 0, 0.54),\n",
       "       (318, 300,  99, 1, 1. , 2.5, 8.01, 0, 0.58),\n",
       "       (319, 324, 111, 3, 2.5, 2. , 8.8 , 1, 0.79),\n",
       "       (320, 327, 113, 4, 3.5, 3. , 8.69, 1, 0.8 ),\n",
       "       (321, 317, 106, 3, 4. , 3.5, 8.5 , 1, 0.75),\n",
       "       (322, 323, 104, 3, 4. , 4. , 8.44, 1, 0.73),\n",
       "       (323, 314, 107, 2, 2.5, 4. , 8.27, 0, 0.72),\n",
       "       (324, 305, 102, 2, 2. , 2.5, 8.18, 0, 0.62),\n",
       "       (325, 315, 104, 3, 3. , 2.5, 8.33, 0, 0.67),\n",
       "       (326, 326, 116, 3, 3.5, 4. , 9.14, 1, 0.81),\n",
       "       (327, 299, 100, 3, 2. , 2. , 8.02, 0, 0.63),\n",
       "       (328, 295, 101, 2, 2.5, 2. , 7.86, 0, 0.69),\n",
       "       (329, 324, 112, 4, 4. , 3.5, 8.77, 1, 0.8 ),\n",
       "       (330, 297,  96, 2, 2.5, 1.5, 7.89, 0, 0.43),\n",
       "       (331, 327, 113, 3, 3.5, 3. , 8.66, 1, 0.8 ),\n",
       "       (332, 311, 105, 2, 3. , 2. , 8.12, 1, 0.73),\n",
       "       (333, 308, 106, 3, 3.5, 2.5, 8.21, 1, 0.75),\n",
       "       (334, 319, 108, 3, 3. , 3.5, 8.54, 1, 0.71),\n",
       "       (335, 312, 107, 4, 4.5, 4. , 8.65, 1, 0.73),\n",
       "       (336, 325, 111, 4, 4. , 4.5, 9.11, 1, 0.83),\n",
       "       (337, 319, 110, 3, 3. , 2.5, 8.79, 0, 0.72),\n",
       "       (338, 332, 118, 5, 5. , 5. , 9.47, 1, 0.94),\n",
       "       (339, 323, 108, 5, 4. , 4. , 8.74, 1, 0.81),\n",
       "       (340, 324, 107, 5, 3.5, 4. , 8.66, 1, 0.81),\n",
       "       (341, 312, 107, 3, 3. , 3. , 8.46, 1, 0.75),\n",
       "       (342, 326, 110, 3, 3.5, 3.5, 8.76, 1, 0.79),\n",
       "       (343, 308, 106, 3, 3. , 3. , 8.24, 0, 0.58),\n",
       "       (344, 305, 103, 2, 2.5, 3.5, 8.13, 0, 0.59),\n",
       "       (345, 295,  96, 2, 1.5, 2. , 7.34, 0, 0.47),\n",
       "       (346, 316,  98, 1, 1.5, 2. , 7.43, 0, 0.49),\n",
       "       (347, 304,  97, 2, 1.5, 2. , 7.64, 0, 0.47),\n",
       "       (348, 299,  94, 1, 1. , 1. , 7.34, 0, 0.42),\n",
       "       (349, 302,  99, 1, 2. , 2. , 7.25, 0, 0.57),\n",
       "       (350, 313, 101, 3, 2.5, 3. , 8.04, 0, 0.62),\n",
       "       (351, 318, 107, 3, 3. , 3.5, 8.27, 1, 0.74),\n",
       "       (352, 325, 110, 4, 3.5, 4. , 8.67, 1, 0.73),\n",
       "       (353, 303, 100, 2, 3. , 3.5, 8.06, 1, 0.64),\n",
       "       (354, 300, 102, 3, 3.5, 2.5, 8.17, 0, 0.63),\n",
       "       (355, 297,  98, 2, 2.5, 3. , 7.67, 0, 0.59),\n",
       "       (356, 317, 106, 2, 2. , 3.5, 8.12, 0, 0.73),\n",
       "       (357, 327, 109, 3, 3.5, 4. , 8.77, 1, 0.79),\n",
       "       (358, 301, 104, 2, 3.5, 3.5, 7.89, 1, 0.68),\n",
       "       (359, 314, 105, 2, 2.5, 2. , 7.64, 0, 0.7 ),\n",
       "       (360, 321, 107, 2, 2. , 1.5, 8.44, 0, 0.81),\n",
       "       (361, 322, 110, 3, 4. , 5. , 8.64, 1, 0.85),\n",
       "       (362, 334, 116, 4, 4. , 3.5, 9.54, 1, 0.93),\n",
       "       (363, 338, 115, 5, 4.5, 5. , 9.23, 1, 0.91),\n",
       "       (364, 306, 103, 2, 2.5, 3. , 8.36, 0, 0.69),\n",
       "       (365, 313, 102, 3, 3.5, 4. , 8.9 , 1, 0.77),\n",
       "       (366, 330, 114, 4, 4.5, 3. , 9.17, 1, 0.86),\n",
       "       (367, 320, 104, 3, 3.5, 4.5, 8.34, 1, 0.74),\n",
       "       (368, 311,  98, 1, 1. , 2.5, 7.46, 0, 0.57),\n",
       "       (369, 298,  92, 1, 2. , 2. , 7.88, 0, 0.51),\n",
       "       (370, 301,  98, 1, 2. , 3. , 8.03, 1, 0.67),\n",
       "       (371, 310, 103, 2, 2.5, 2.5, 8.24, 0, 0.72),\n",
       "       (372, 324, 110, 3, 3.5, 3. , 9.22, 1, 0.89),\n",
       "       (373, 336, 119, 4, 4.5, 4. , 9.62, 1, 0.95),\n",
       "       (374, 321, 109, 3, 3. , 3. , 8.54, 1, 0.79),\n",
       "       (375, 315, 105, 2, 2. , 2.5, 7.65, 0, 0.39),\n",
       "       (376, 304, 101, 2, 2. , 2.5, 7.66, 0, 0.38),\n",
       "       (377, 297,  96, 2, 2.5, 2. , 7.43, 0, 0.34),\n",
       "       (378, 290, 100, 1, 1.5, 2. , 7.56, 0, 0.47),\n",
       "       (379, 303,  98, 1, 2. , 2.5, 7.65, 0, 0.56),\n",
       "       (380, 311,  99, 1, 2.5, 3. , 8.43, 1, 0.71),\n",
       "       (381, 322, 104, 3, 3.5, 4. , 8.84, 1, 0.78),\n",
       "       (382, 319, 105, 3, 3. , 3.5, 8.67, 1, 0.73),\n",
       "       (383, 324, 110, 4, 4.5, 4. , 9.15, 1, 0.82),\n",
       "       (384, 300, 100, 3, 3. , 3.5, 8.26, 0, 0.62),\n",
       "       (385, 340, 113, 4, 5. , 5. , 9.74, 1, 0.96),\n",
       "       (386, 335, 117, 5, 5. , 5. , 9.82, 1, 0.96),\n",
       "       (387, 302, 101, 2, 2.5, 3.5, 7.96, 0, 0.46),\n",
       "       (388, 307, 105, 2, 2. , 3.5, 8.1 , 0, 0.53),\n",
       "       (389, 296,  97, 2, 1.5, 2. , 7.8 , 0, 0.49),\n",
       "       (390, 320, 108, 3, 3.5, 4. , 8.44, 1, 0.76),\n",
       "       (391, 314, 102, 2, 2. , 2.5, 8.24, 0, 0.64),\n",
       "       (392, 318, 106, 3, 2. , 3. , 8.65, 0, 0.71),\n",
       "       (393, 326, 112, 4, 4. , 3.5, 9.12, 1, 0.84),\n",
       "       (394, 317, 104, 2, 3. , 3. , 8.76, 0, 0.77),\n",
       "       (395, 329, 111, 4, 4.5, 4. , 9.23, 1, 0.89),\n",
       "       (396, 324, 110, 3, 3.5, 3.5, 9.04, 1, 0.82),\n",
       "       (397, 325, 107, 3, 3. , 3.5, 9.11, 1, 0.84),\n",
       "       (398, 330, 116, 4, 5. , 4.5, 9.45, 1, 0.91),\n",
       "       (399, 312, 103, 3, 3.5, 4. , 8.78, 0, 0.67),\n",
       "       (400, 333, 117, 4, 5. , 4. , 9.66, 1, 0.95)],\n",
       "      dtype=[('Serial_No', '<i8'), ('GRE_Score', '<i8'), ('TOEFL_Score', '<i8'), ('University_Rating', '<i8'), ('SOP', '<f8'), ('LOR', '<f8'), ('CGPA', '<f8'), ('Research', '<i8'), ('Chance_of_Admit', '<f8')])"
      ]
     },
     "execution_count": 65,
     "metadata": {},
     "output_type": "execute_result"
    }
   ],
   "source": [
    "graduate_admission = np.genfromtxt(\"/home/nitin/work/coursera_python_datascience/resources/course1/week-1/datasets/Admission_Predict.csv\", dtype=None, delimiter=\",\",skip_header=1,\n",
    "                                  names=('Serial No.','GRE Score','TOEFL Score','University Rating','SOP','LOR ','CGPA','Research','Chance of Admit'))\n",
    "graduate_admission"
   ]
  },
  {
   "cell_type": "code",
   "execution_count": 66,
   "id": "7675f7e4-70e2-4511-a904-468ce087a6e9",
   "metadata": {},
   "outputs": [
    {
     "data": {
      "text/plain": [
       "(400,)"
      ]
     },
     "execution_count": 66,
     "metadata": {},
     "output_type": "execute_result"
    }
   ],
   "source": [
    "graduate_admission.shape"
   ]
  },
  {
   "cell_type": "code",
   "execution_count": 67,
   "id": "fe9828bf-57bb-4661-bf99-e72d428eb43d",
   "metadata": {},
   "outputs": [
    {
     "data": {
      "text/plain": [
       "array([9.65, 8.87, 8.  , 8.67, 8.21])"
      ]
     },
     "execution_count": 67,
     "metadata": {},
     "output_type": "execute_result"
    }
   ],
   "source": [
    "graduate_admission['CGPA'][0:5]"
   ]
  },
  {
   "cell_type": "code",
   "execution_count": 68,
   "id": "b3771d32-4c10-4d8d-8974-101f00105a88",
   "metadata": {},
   "outputs": [
    {
     "data": {
      "text/plain": [
       "array([3.86 , 3.548, 3.2  , 3.468, 3.284, 3.736, 3.28 , 3.16 , 3.2  ,\n",
       "       3.44 , 3.36 , 3.6  , 3.64 , 3.2  , 3.28 , 3.32 , 3.48 , 3.2  ,\n",
       "       3.52 , 3.4  ])"
      ]
     },
     "execution_count": 68,
     "metadata": {},
     "output_type": "execute_result"
    }
   ],
   "source": [
    "graduate_admission['CGPA'] = graduate_admission['CGPA']/10 * 4\n",
    "graduate_admission['CGPA'][:20]"
   ]
  },
  {
   "cell_type": "code",
   "execution_count": 69,
   "id": "1f6b5f32-07ad-4c1a-9ac5-b3bd850982fa",
   "metadata": {},
   "outputs": [
    {
     "data": {
      "text/plain": [
       "219"
      ]
     },
     "execution_count": 69,
     "metadata": {},
     "output_type": "execute_result"
    }
   ],
   "source": [
    "len(graduate_admission[graduate_admission['Research'] == 1])"
   ]
  },
  {
   "cell_type": "code",
   "execution_count": 70,
   "id": "711e6f57-673e-46f4-a0b2-cc4f68b04c76",
   "metadata": {},
   "outputs": [
    {
     "name": "stdout",
     "output_type": "stream",
     "text": [
      "328.7350427350427\n",
      "302.2857142857143\n"
     ]
    }
   ],
   "source": [
    "print(graduate_admission[graduate_admission['Chance_of_Admit'] > 0.8]['GRE_Score'].mean())\n",
    "print(graduate_admission[graduate_admission['Chance_of_Admit'] < 0.4]['GRE_Score'].mean())"
   ]
  },
  {
   "cell_type": "code",
   "execution_count": 71,
   "id": "b2d1fbca-c0e3-45b2-b6fa-49ccf8d325ec",
   "metadata": {},
   "outputs": [],
   "source": [
    "import re"
   ]
  },
  {
   "cell_type": "code",
   "execution_count": 72,
   "id": "82d2e282-e589-4c32-8255-5d9e588241a1",
   "metadata": {},
   "outputs": [
    {
     "name": "stdout",
     "output_type": "stream",
     "text": [
      "Wonderful!\n"
     ]
    }
   ],
   "source": [
    "text = \"This is a good day\"\n",
    "if re.search(\"good\", text):\n",
    "    print(\"Wonderful!\")\n",
    "else:\n",
    "    print(\"Alas\")"
   ]
  },
  {
   "cell_type": "code",
   "execution_count": 73,
   "id": "c7fe3410-6294-472a-a956-23c20f0d91d3",
   "metadata": {},
   "outputs": [
    {
     "name": "stdout",
     "output_type": "stream",
     "text": [
      "String was not found\n"
     ]
    }
   ],
   "source": [
    "text = \"itin works dilligently. Nitin is a good boy. Nitin gets good grades.\"\n",
    "found = re.search(\"^Nitin\", text)\n",
    "if found:\n",
    "    print(\"string was found\")\n",
    "else:\n",
    "    print(\"String was not found\")"
   ]
  },
  {
   "cell_type": "code",
   "execution_count": 74,
   "id": "befe825d-a303-4d3a-b292-8087fd4329cc",
   "metadata": {},
   "outputs": [
    {
     "data": {
      "text/plain": [
       "['B', 'B', 'B', 'B', 'B', 'B', 'B']"
      ]
     },
     "execution_count": 74,
     "metadata": {},
     "output_type": "execute_result"
    }
   ],
   "source": [
    "grades = \"ACAABDABCDBCADCCBADDCBBAACDB\"\n",
    "re.findall(\"B\",grades)"
   ]
  },
  {
   "cell_type": "code",
   "execution_count": 75,
   "id": "52aa2f1b-69b1-4269-8d56-395ab5a96ed1",
   "metadata": {},
   "outputs": [
    {
     "data": {
      "text/plain": [
       "['AB', 'AB']"
      ]
     },
     "execution_count": 75,
     "metadata": {},
     "output_type": "execute_result"
    }
   ],
   "source": [
    "re.findall(\"AB\",grades)"
   ]
  },
  {
   "cell_type": "code",
   "execution_count": 76,
   "id": "571a309c-392d-45a3-988e-7c3486e97cba",
   "metadata": {},
   "outputs": [
    {
     "data": {
      "text/plain": [
       "['A', 'A', 'A', 'B', 'A', 'B', 'B', 'A', 'B', 'A', 'B', 'B', 'A', 'A', 'B']"
      ]
     },
     "execution_count": 76,
     "metadata": {},
     "output_type": "execute_result"
    }
   ],
   "source": [
    "re.findall(\"[AB]\",grades)"
   ]
  },
  {
   "cell_type": "code",
   "execution_count": 77,
   "id": "229a43b4-bb44-4550-b50a-4c4b9fffb622",
   "metadata": {},
   "outputs": [
    {
     "data": {
      "text/plain": [
       "['AC', 'AA', 'AB', 'AD', 'AD', 'AA']"
      ]
     },
     "execution_count": 77,
     "metadata": {},
     "output_type": "execute_result"
    }
   ],
   "source": [
    "re.findall(\"[A][A-D]\",grades)"
   ]
  },
  {
   "cell_type": "code",
   "execution_count": 78,
   "id": "f95a1812-0e20-4641-bb2d-5dc7ff1962bf",
   "metadata": {},
   "outputs": [
    {
     "data": {
      "text/plain": [
       "['AC', 'AB', 'AB', 'AC']"
      ]
     },
     "execution_count": 78,
     "metadata": {},
     "output_type": "execute_result"
    }
   ],
   "source": [
    "re.findall(\"AB|AC\",grades)"
   ]
  },
  {
   "cell_type": "code",
   "execution_count": 79,
   "id": "35ffbf17-c87e-4e99-b69f-1e3cb6f1060a",
   "metadata": {},
   "outputs": [
    {
     "data": {
      "text/plain": [
       "['C',\n",
       " 'B',\n",
       " 'D',\n",
       " 'B',\n",
       " 'C',\n",
       " 'D',\n",
       " 'B',\n",
       " 'C',\n",
       " 'D',\n",
       " 'C',\n",
       " 'C',\n",
       " 'B',\n",
       " 'D',\n",
       " 'D',\n",
       " 'C',\n",
       " 'B',\n",
       " 'B',\n",
       " 'C',\n",
       " 'D',\n",
       " 'B']"
      ]
     },
     "execution_count": 79,
     "metadata": {},
     "output_type": "execute_result"
    }
   ],
   "source": [
    "re.findall(\"[^A]\",grades)"
   ]
  },
  {
   "cell_type": "code",
   "execution_count": 80,
   "id": "69cc25fd-f25a-4b17-9b12-7c7358600058",
   "metadata": {},
   "outputs": [
    {
     "data": {
      "text/plain": [
       "[]"
      ]
     },
     "execution_count": 80,
     "metadata": {},
     "output_type": "execute_result"
    }
   ],
   "source": [
    "re.findall(\"^[^A]\",grades)"
   ]
  },
  {
   "cell_type": "code",
   "execution_count": 81,
   "id": "386a4bab-cd81-46d8-ab88-6d5dad82f339",
   "metadata": {},
   "outputs": [
    {
     "data": {
      "text/plain": [
       "[]"
      ]
     },
     "execution_count": 81,
     "metadata": {},
     "output_type": "execute_result"
    }
   ],
   "source": [
    "re.findall(\"AB{2,10}\",grades)"
   ]
  },
  {
   "cell_type": "code",
   "execution_count": 82,
   "id": "da0b7001-72ad-4928-8f1c-d0bb969af610",
   "metadata": {},
   "outputs": [
    {
     "data": {
      "text/plain": [
       "['AA', 'AA']"
      ]
     },
     "execution_count": 82,
     "metadata": {},
     "output_type": "execute_result"
    }
   ],
   "source": [
    "re.findall(\"A{1,1}A{1,1}\",grades)"
   ]
  },
  {
   "cell_type": "code",
   "execution_count": 83,
   "id": "297d4964-7fd2-4da4-bed6-2a3edfd8de53",
   "metadata": {},
   "outputs": [
    {
     "name": "stdout",
     "output_type": "stream",
     "text": [
      "['AA', 'AA', 'AA', 'AA']\n"
     ]
    }
   ],
   "source": [
    "grades2 = \"AABCDFEAAAAAdfffwefAA\"\n",
    "found = re.findall(\"A{1,1}A{1,1}\",grades2)\n",
    "if found:\n",
    "    print(found)"
   ]
  },
  {
   "cell_type": "code",
   "execution_count": 84,
   "id": "9ed82512-81f7-4ff3-968e-c804f6067947",
   "metadata": {},
   "outputs": [
    {
     "data": {
      "text/plain": [
       "'Overview[edit]\\nFERPA gives parents access to their child\\'s education records, an opportunity to seek to have the records amended, and some control over the disclosure of information from the records. With several exceptions, schools must have a student\\'s consent prior to the disclosure of education records after that student is 18 years old. The law applies only to educational agencies and institutions that receive funds under a program administered by the U.S. Department of Education.\\n\\nOther regulations under this act, effective starting January 3, 2012, allow for greater disclosures of personal and directory student identifying information and regulate student IDs and e-mail addresses.[2] For example, schools may provide external companies with a student\\'s personally identifiable information without the student\\'s consent.[2]\\n\\nExamples of situations affected by FERPA include school employees divulging information to anyone other than the student about the student\\'s grades or behavior, and school work posted on a bulletin board with a grade. Generally, schools must have written permission from the parent or eligible student in order to release any information from a student\\'s education record.\\n\\nThis privacy policy also governs how state agencies transmit testing data to federal agencies, such as the Education Data Exchange Network.\\n\\nThis U.S. federal law also gave students 18 years of age or older, or students of any age if enrolled in any post-secondary educational institution, the right of privacy regarding grades, enrollment, and even billing information unless the school has specific permission from the student to share that specific type of information.\\n\\nFERPA also permits a school to disclose personally identifiable information from education records of an \"eligible student\" (a student age 18 or older or enrolled in a postsecondary institution at any age) to his or her parents if the student is a \"dependent student\" as that term is defined in Section 152 of the Internal Revenue Code. Generally, if either parent has claimed the student as a dependent on the parent\\'s most recent income tax statement, the school may non-consensually disclose the student\\'s education records to both parents.[3]\\n\\nThe law allowed students who apply to an educational institution such as graduate school permission to view recommendations submitted by others as part of the application. However, on standard application forms, students are given the option to waive this right.\\n\\nFERPA specifically excludes employees of an educational institution if they are not students.\\n\\nThe act is also referred to as the Buckley Amendment, for one of its proponents, Senator James L. Buckley of New York.\\n\\nAccess to public records[edit]\\nThe citing of FERPA to conceal public records that are not \"educational\" in nature has been widely criticized, including by the act\\'s primary Senate sponsor.[4] For example, in the Owasso Independent School District v. Falvo case, an important part of the debate was determining the relationship between peer-grading and \"education records\" as defined in FERPA. In the Court of Appeals, it was ruled that students placing grades on the work of other students made such work into an \"education record.\" Thus, peer-grading was determined as a violation of FERPA privacy policies because students had access to other students\\' academic performance without full consent.[5] However, when the case went to the Supreme Court, it was officially ruled that peer-grading was not a violation of FERPA. This is because a grade written on a student\\'s work does not become an \"education record\" until the teacher writes the final grade into a grade book.[6]\\n\\nStudent medical records[edit]\\nLegal experts have debated the issue of whether student medical records (for example records of therapy sessions with a therapist at an on-campus counseling center) might be released to the school administration under certain triggering events, such as when a student sued his college or university.[7][8]\\n\\nUsually, student medical treatment records will remain under the protection of FERPA, not the Health Insurance Portability and Accountability Act (HIPAA). This is due to the \"FERPA Exception\" written within HIPAA.[9]'"
      ]
     },
     "execution_count": 84,
     "metadata": {},
     "output_type": "execute_result"
    }
   ],
   "source": [
    "with open('/home/nitin/work/coursera_python_datascience/resources/course1/week-1/datasets/ferpa.txt', 'r') as file:\n",
    "    wiki = file.read()\n",
    "    \n",
    "wiki    \n",
    "    \n"
   ]
  },
  {
   "cell_type": "code",
   "execution_count": 85,
   "id": "5536095c-c34b-4647-9175-bb7f40adde7e",
   "metadata": {},
   "outputs": [
    {
     "name": "stdout",
     "output_type": "stream",
     "text": [
      "\u001b[31mERROR: Could not find a version that satisfies the requirement venv (from versions: none)\u001b[0m\u001b[31m\n",
      "\u001b[0m\u001b[31mERROR: No matching distribution found for venv\u001b[0m\u001b[31m\n",
      "\u001b[0m"
     ]
    }
   ],
   "source": [
    "!pip install venv\n",
    "\n"
   ]
  },
  {
   "cell_type": "code",
   "execution_count": 86,
   "id": "bb6c7283-1fd2-4bd9-864f-b4e1b2694a4b",
   "metadata": {},
   "outputs": [],
   "source": [
    "import pandas as pd\n",
    "# redshift_df = pd.read_csv('C:/Users/28586/Documents/work/Coursera/Files/home/jovyan/work/resources/course1/week-1/datasets/verification_logs_staging.csv', sep=',', dtype={\n",
    "#     'verificationlogkey':'Int64', \n",
    "#     'distributor_id':object, 'provider_id': object, 'orderline_id': object, 'duration':'Int64', 'network_call_sign':object, \n",
    "#     'date_time_of_airing':object, 'title':object, 'segment':object, 'region':object,'status_code':'Int64', 'tenant':object, \n",
    "#     'recordinsertdate':object, 'recordupdatedate':object, 'activeflag':object, 'insertbatchid': 'Int64', 'updatebatchid': 'Int64' \n",
    "#        } )\n",
    "# redshift_df.head(2)\n",
    "# len(redshift_df)"
   ]
  },
  {
   "cell_type": "code",
   "execution_count": 87,
   "id": "7d6dfc16-5c88-4bbb-8636-5a03532e814f",
   "metadata": {},
   "outputs": [
    {
     "data": {
      "text/plain": [
       "['Overview[edit]', 'records[edit]', 'records[edit]']"
      ]
     },
     "execution_count": 87,
     "metadata": {},
     "output_type": "execute_result"
    }
   ],
   "source": [
    "# it will give all texts having chars(a-z or A-Z) (1-100) + word = edit\n",
    "re.findall(\"[a-zA-Z]{1,100}\\[edit\\]\",wiki)"
   ]
  },
  {
   "cell_type": "code",
   "execution_count": 88,
   "id": "c6c702f9-ae8a-4208-bafc-29a5a1c3ad1e",
   "metadata": {},
   "outputs": [
    {
     "data": {
      "text/plain": [
       "['[edit]', '[edit]', '[edit]']"
      ]
     },
     "execution_count": 88,
     "metadata": {},
     "output_type": "execute_result"
    }
   ],
   "source": [
    "# \\s match any whitespace characters\n",
    "re.findall(\"[\\s]{0,100}\\[edit\\]\",wiki)"
   ]
  },
  {
   "cell_type": "code",
   "execution_count": 89,
   "id": "b354844e-ce03-4a68-9e03-a8b35a804390",
   "metadata": {},
   "outputs": [
    {
     "data": {
      "text/plain": [
       "['Overview[edit]', 'records[edit]', 'records[edit]']"
      ]
     },
     "execution_count": 89,
     "metadata": {},
     "output_type": "execute_result"
    }
   ],
   "source": [
    "# * to match zero or more times w to match any character including numbers\n",
    "re.findall(\"[\\w]*\\[edit\\]\", wiki)"
   ]
  },
  {
   "cell_type": "code",
   "execution_count": 90,
   "id": "3876cf32-82cc-4904-ab25-f4c1a74ab20d",
   "metadata": {},
   "outputs": [
    {
     "data": {
      "text/plain": [
       "['Overview[edit]',\n",
       " 'Access to public records[edit]',\n",
       " 'Student medical records[edit]']"
      ]
     },
     "execution_count": 90,
     "metadata": {},
     "output_type": "execute_result"
    }
   ],
   "source": [
    "re.findall(\"[\\w ]*\\[edit\\]\",wiki)"
   ]
  },
  {
   "cell_type": "code",
   "execution_count": 91,
   "id": "207967e1-0e8e-4858-962d-6d29644397c8",
   "metadata": {},
   "outputs": [
    {
     "name": "stdout",
     "output_type": "stream",
     "text": [
      "Overview\n",
      "Access to public records\n",
      "Student medical records\n"
     ]
    }
   ],
   "source": [
    "for title in re.findall(\"[\\w ]*\\[edit\\]\",wiki):\n",
    "    print(re.split(\"[\\[]\",title)[0])"
   ]
  },
  {
   "cell_type": "code",
   "execution_count": 92,
   "id": "40b83377-a00e-46f0-a8ce-75c637436cf5",
   "metadata": {},
   "outputs": [
    {
     "data": {
      "text/plain": [
       "[('Overview', '[edit]'),\n",
       " ('Access to public records', '[edit]'),\n",
       " ('Student medical records', '[edit]')]"
      ]
     },
     "execution_count": 92,
     "metadata": {},
     "output_type": "execute_result"
    }
   ],
   "source": [
    "# group - it will find all the smaller patterns and find matching results\n",
    "re.findall(\"([\\w ]*)(\\[edit\\])\",wiki)"
   ]
  },
  {
   "cell_type": "code",
   "execution_count": 93,
   "id": "0cc6dae3-dd69-4609-82bf-7d4ab8f4a0d5",
   "metadata": {},
   "outputs": [
    {
     "name": "stdout",
     "output_type": "stream",
     "text": [
      "('Overview', '[edit]')\n",
      "('Access to public records', '[edit]')\n",
      "('Student medical records', '[edit]')\n"
     ]
    }
   ],
   "source": [
    "for item in re.finditer(\"([\\w ]*)(\\[edit\\])\",wiki):\n",
    "    print(item.groups())"
   ]
  },
  {
   "cell_type": "code",
   "execution_count": 94,
   "id": "2095cecc-662c-44a0-9544-0a256071ad5d",
   "metadata": {},
   "outputs": [
    {
     "name": "stdout",
     "output_type": "stream",
     "text": [
      "Overview\n",
      "Access to public records\n",
      "Student medical records\n"
     ]
    }
   ],
   "source": [
    "# group(0) - whole match, each subsequent index is portion of match\n",
    "for item in re.finditer(\"([\\w ]*)(\\[edit\\])\",wiki):\n",
    "    print(item.group(1))"
   ]
  },
  {
   "cell_type": "code",
   "execution_count": 95,
   "id": "9288a30a-448f-499f-8fea-d031150667cb",
   "metadata": {},
   "outputs": [
    {
     "name": "stdout",
     "output_type": "stream",
     "text": [
      "{'title': 'Overview', 'edit_link': '[edit]'}\n",
      "{'title': 'Access to public records', 'edit_link': '[edit]'}\n",
      "{'title': 'Student medical records', 'edit_link': '[edit]'}\n"
     ]
    }
   ],
   "source": [
    "for item in re.finditer(\"(?P<title>[\\w ]*)(?P<edit_link>\\[edit\\])\",wiki):\n",
    "    print(item.groupdict())"
   ]
  },
  {
   "cell_type": "code",
   "execution_count": 96,
   "id": "8e30522e-59a6-465d-866d-5fdd43868818",
   "metadata": {},
   "outputs": [
    {
     "name": "stdout",
     "output_type": "stream",
     "text": [
      "<re.Match object; span=(0, 8), match='Overview'>\n",
      "<re.Match object; span=(2715, 2739), match='Access to public records'>\n",
      "<re.Match object; span=(3692, 3715), match='Student medical records'>\n"
     ]
    }
   ],
   "source": [
    "for item in re.finditer(\"(?P<title>[\\w ]+)(?=\\[edit\\])\",wiki):\n",
    "    print(item)"
   ]
  },
  {
   "cell_type": "code",
   "execution_count": 97,
   "id": "1990d6bd-cfe0-46b0-b06a-68efb7a77d09",
   "metadata": {},
   "outputs": [
    {
     "data": {
      "text/plain": [
       "'Buddhist universities and colleges in the United States\\nFrom Wikipedia, the free encyclopedia\\nJump to navigationJump to search\\n\\nThis article needs additional citations for verification. Please help improve this article by adding citations to reliable sources. Unsourced material may be challenged and removed.\\nFind sources: \"Buddhist universities and colleges in the United States\" – news · newspapers · books · scholar · JSTOR (December 2009) (Learn how and when to remove this template message)\\nThere are several Buddhist universities in the United States. Some of these have existed for decades and are accredited. Others are relatively new and are either in the process of being accredited or else have no formal accreditation. The list includes:\\n\\nDhammakaya Open University – located in Azusa, California, part of the Thai Wat Phra Dhammakaya[1]\\nDharmakirti College – located in Tucson, Arizona Now called Awam Tibetan Buddhist Institute (http://awaminstitute.org/)\\nDharma Realm Buddhist University – located in Ukiah, California\\nEwam Buddhist Institute – located in Arlee, Montana\\nNaropa University is located in Boulder, Colorado (Accredited by the Higher Learning Commission)\\nInstitute of Buddhist Studies – located in Berkeley, California\\nMaitripa College – located in Portland, Oregon\\nSoka University of America – located in Aliso Viejo, California\\nUniversity of the West – located in Rosemead, California\\nWon Institute of Graduate Studies – located in Glenside, Pennsylvania\\nReferences[edit]\\n^ Banchanon, Phongphiphat (3 February 2015). รู้จัก \"เครือข่ายธรรมกาย\" [Getting to know the Dhammakaya network]. Forbes Thailand (in Thai). Retrieved 11 November 2016.\\nExternal links[edit]\\nList of Buddhist Universities and Colleges in the world\\n'"
      ]
     },
     "execution_count": 97,
     "metadata": {},
     "output_type": "execute_result"
    }
   ],
   "source": [
    "with open('/home/nitin/work/coursera_python_datascience/resources/course1/week-1/datasets/buddhist.txt', mode='r') as file:\n",
    "    budh = file.read()\n",
    "    \n",
    "budh    "
   ]
  },
  {
   "cell_type": "code",
   "execution_count": 98,
   "id": "5c11d538-48f8-4513-98f3-f0fb61af3b9d",
   "metadata": {},
   "outputs": [
    {
     "name": "stderr",
     "output_type": "stream",
     "text": [
      "ERROR:root:And non-ASCII stuff, too, like Øresund and Malmö\n"
     ]
    }
   ],
   "source": [
    "import logging\n",
    "logging.basicConfig(level=logging.ERROR, force=True)\n",
    "logging.debug('This message should go to the log file')\n",
    "logging.info('So should this')\n",
    "logging.warning('And this, too')\n",
    "logging.error('And non-ASCII stuff, too, like Øresund and Malmö')"
   ]
  },
  {
   "cell_type": "code",
   "execution_count": 99,
   "id": "186faf18-7b7a-4d2c-aabd-cc71cab4a626",
   "metadata": {},
   "outputs": [],
   "source": [
    "pattern =\"\"\"\n",
    "(?P<title>.*)         # university title\n",
    "(-\\ located\\ in\\ )    # indicator for location\n",
    "(?P<city>\\w*)         # city\n",
    "(,\\ )                 # separator for state\n",
    "(?P<state>\\w*)        # state                  \"\"\"    \n",
    "for item in re.finditer(pattern,budh,re.VERBOSE):\n",
    "    print(item)"
   ]
  },
  {
   "cell_type": "code",
   "execution_count": 100,
   "id": "9da780b7-a332-42ef-916c-45100ccc6036",
   "metadata": {},
   "outputs": [],
   "source": [
    "import re\n"
   ]
  },
  {
   "cell_type": "code",
   "execution_count": 101,
   "id": "f4958e94-e90c-4e71-941e-6ee069bb6672",
   "metadata": {},
   "outputs": [
    {
     "name": "stdout",
     "output_type": "stream",
     "text": [
      "wonderful\n"
     ]
    }
   ],
   "source": [
    "txt = 'Nitin is a good boy. He is a good swimmer.'\n",
    "if re.search('good',txt):\n",
    "    print('wonderful')\n",
    "else:\n",
    "    print('oh no')"
   ]
  },
  {
   "cell_type": "code",
   "execution_count": 102,
   "id": "86858fd3-c8c4-4db2-9b0f-99daa51025ce",
   "metadata": {},
   "outputs": [
    {
     "name": "stdout",
     "output_type": "stream",
     "text": [
      "<re.Match object; span=(11, 15), match='good'>\n"
     ]
    }
   ],
   "source": [
    "print(re.search('good',txt))"
   ]
  },
  {
   "cell_type": "code",
   "execution_count": 103,
   "id": "b57edb78-d5d0-4f04-a650-0d1ff9731e3d",
   "metadata": {},
   "outputs": [
    {
     "name": "stdout",
     "output_type": "stream",
     "text": [
      "None\n"
     ]
    }
   ],
   "source": [
    "print(re.match('good',txt))"
   ]
  },
  {
   "cell_type": "code",
   "execution_count": 104,
   "id": "77c472be-3265-4ef6-9a6e-5f8b8c9f8105",
   "metadata": {},
   "outputs": [
    {
     "data": {
      "text/plain": [
       "['He is a good boy. ', ' is hardworking. ', ' is a good swimmer.']"
      ]
     },
     "execution_count": 104,
     "metadata": {},
     "output_type": "execute_result"
    }
   ],
   "source": [
    "txt = 'He is a good boy. Nitin is hardworking. Nitin is a good swimmer.'\n",
    "re.split('Nitin',txt)\n"
   ]
  },
  {
   "cell_type": "code",
   "execution_count": 105,
   "id": "436a5a4c-53c0-45fb-a395-b4d6ed62196c",
   "metadata": {},
   "outputs": [
    {
     "data": {
      "text/plain": [
       "['Nitin', 'Nitin']"
      ]
     },
     "execution_count": 105,
     "metadata": {},
     "output_type": "execute_result"
    }
   ],
   "source": [
    "re.findall('Nitin',txt)\n"
   ]
  },
  {
   "cell_type": "code",
   "execution_count": 106,
   "id": "0cd150f8-ed91-4b68-b8ae-e5099212d558",
   "metadata": {},
   "outputs": [
    {
     "name": "stdout",
     "output_type": "stream",
     "text": [
      "<re.Match object; span=(18, 23), match='Nitin'>\n"
     ]
    }
   ],
   "source": [
    "print(re.search('Nitin',txt))"
   ]
  },
  {
   "cell_type": "code",
   "execution_count": 107,
   "id": "4d0a7ddd-4645-4d92-a424-dc31aebda210",
   "metadata": {},
   "outputs": [
    {
     "name": "stdout",
     "output_type": "stream",
     "text": [
      "<re.Match object; span=(27, 38), match='hardworking'>\n"
     ]
    }
   ],
   "source": [
    "print(re.search('hardworking',txt))"
   ]
  },
  {
   "cell_type": "code",
   "execution_count": 108,
   "id": "c1c356b4-5566-4e6f-9950-a446052c9f29",
   "metadata": {},
   "outputs": [
    {
     "data": {
      "text/plain": [
       "['A', 'A', 'A', 'A', 'A', 'A', 'A', 'A', 'A']"
      ]
     },
     "execution_count": 108,
     "metadata": {},
     "output_type": "execute_result"
    }
   ],
   "source": [
    "grades = 'ABCABBCAACBCCBAACBABCAABC'\n",
    "re.findall('A',grades)"
   ]
  },
  {
   "cell_type": "code",
   "execution_count": 109,
   "id": "04fbf2e3-be35-4953-adaf-7c66ee296dbc",
   "metadata": {},
   "outputs": [
    {
     "data": {
      "text/plain": [
       "9"
      ]
     },
     "execution_count": 109,
     "metadata": {},
     "output_type": "execute_result"
    }
   ],
   "source": [
    "number_a = len(re.findall('A',grades))\n",
    "number_a"
   ]
  },
  {
   "cell_type": "code",
   "execution_count": 110,
   "id": "55f93b73-1360-427c-b6e4-fc2e8df94ad9",
   "metadata": {},
   "outputs": [
    {
     "data": {
      "text/plain": [
       "['A',\n",
       " 'B',\n",
       " 'A',\n",
       " 'B',\n",
       " 'B',\n",
       " 'A',\n",
       " 'A',\n",
       " 'B',\n",
       " 'B',\n",
       " 'A',\n",
       " 'A',\n",
       " 'B',\n",
       " 'A',\n",
       " 'B',\n",
       " 'A',\n",
       " 'A',\n",
       " 'B']"
      ]
     },
     "execution_count": 110,
     "metadata": {},
     "output_type": "execute_result"
    }
   ],
   "source": [
    "re.findall('[AB]',grades)"
   ]
  },
  {
   "cell_type": "code",
   "execution_count": 111,
   "id": "22d1fafe-3389-481e-a478-fc1159586f4d",
   "metadata": {},
   "outputs": [
    {
     "data": {
      "text/plain": [
       "['AB', 'AB', 'AB', 'AB']"
      ]
     },
     "execution_count": 111,
     "metadata": {},
     "output_type": "execute_result"
    }
   ],
   "source": [
    "re.findall('AB',grades)"
   ]
  },
  {
   "cell_type": "code",
   "execution_count": 112,
   "id": "3dd5d9be-eea2-485f-9236-59f2922e7267",
   "metadata": {},
   "outputs": [
    {
     "data": {
      "text/plain": [
       "['BA', 'BA']"
      ]
     },
     "execution_count": 112,
     "metadata": {},
     "output_type": "execute_result"
    }
   ],
   "source": [
    "re.findall('BA',grades)"
   ]
  },
  {
   "cell_type": "code",
   "execution_count": 113,
   "id": "7ac121c0-b35a-4631-8215-af36dfe1253d",
   "metadata": {},
   "outputs": [
    {
     "data": {
      "text/plain": [
       "['A',\n",
       " 'B',\n",
       " 'A',\n",
       " 'B',\n",
       " 'B',\n",
       " 'A',\n",
       " 'A',\n",
       " 'B',\n",
       " 'B',\n",
       " 'A',\n",
       " 'A',\n",
       " 'B',\n",
       " 'A',\n",
       " 'B',\n",
       " 'A',\n",
       " 'A',\n",
       " 'B']"
      ]
     },
     "execution_count": 113,
     "metadata": {},
     "output_type": "execute_result"
    }
   ],
   "source": [
    "re.findall('[A-B]',grades)"
   ]
  },
  {
   "cell_type": "code",
   "execution_count": 114,
   "id": "5b9bf794-ac2c-4e94-be1a-74588fe19387",
   "metadata": {},
   "outputs": [
    {
     "data": {
      "text/plain": [
       "['AB', 'AB', 'AC', 'AC', 'AB', 'AB']"
      ]
     },
     "execution_count": 114,
     "metadata": {},
     "output_type": "execute_result"
    }
   ],
   "source": [
    "re.findall('AB|AC',grades)"
   ]
  },
  {
   "cell_type": "code",
   "execution_count": 115,
   "id": "8e8795c0-e009-44ca-bf03-adad7ac273d9",
   "metadata": {},
   "outputs": [
    {
     "data": {
      "text/plain": [
       "['AB', 'AB', 'AC', 'AC', 'AB', 'AB']"
      ]
     },
     "execution_count": 115,
     "metadata": {},
     "output_type": "execute_result"
    }
   ],
   "source": [
    "re.findall('[A][BC]',grades)"
   ]
  },
  {
   "cell_type": "code",
   "execution_count": 117,
   "id": "67118014",
   "metadata": {},
   "outputs": [
    {
     "data": {
      "text/plain": [
       "['A',\n",
       " 'C',\n",
       " 'A',\n",
       " 'C',\n",
       " 'A',\n",
       " 'A',\n",
       " 'C',\n",
       " 'C',\n",
       " 'C',\n",
       " 'A',\n",
       " 'A',\n",
       " 'C',\n",
       " 'A',\n",
       " 'C',\n",
       " 'A',\n",
       " 'A',\n",
       " 'C']"
      ]
     },
     "execution_count": 117,
     "metadata": {},
     "output_type": "execute_result"
    }
   ],
   "source": [
    "re.findall('[AC]',grades)"
   ]
  },
  {
   "cell_type": "code",
   "execution_count": 117,
   "id": "a9276806-83af-46cf-8cf3-0cd790602dce",
   "metadata": {},
   "outputs": [
    {
     "data": {
      "text/plain": [
       "['B', 'B', 'B', 'B', 'B', 'B', 'B', 'B']"
      ]
     },
     "execution_count": 117,
     "metadata": {},
     "output_type": "execute_result"
    }
   ],
   "source": [
    "re.findall('[^AC]',grades)"
   ]
  },
  {
   "cell_type": "code",
   "execution_count": 118,
   "id": "5b4b6ddf-cc8a-4a7b-a1f9-bc14dc4afc22",
   "metadata": {},
   "outputs": [
    {
     "data": {
      "text/plain": [
       "['A']"
      ]
     },
     "execution_count": 118,
     "metadata": {},
     "output_type": "execute_result"
    }
   ],
   "source": [
    "re.findall(\"^[^BC]\", grades)"
   ]
  },
  {
   "cell_type": "code",
   "execution_count": 156,
   "id": "c77ba34f",
   "metadata": {},
   "outputs": [],
   "source": [
    "url = 'I refer to https://google.com and I never refer http://www.baidu.com if I have htt://www.baidu.com to search h://www.baidu.com anything'\n"
   ]
  },
  {
   "cell_type": "code",
   "execution_count": 157,
   "id": "a7247972-642b-4a4f-8d4d-76e1de5905b7",
   "metadata": {},
   "outputs": [
    {
     "data": {
      "text/plain": [
       "['google.com', 'www.baidu.com', 'www.baidu.com', 'www.baidu.com']"
      ]
     },
     "execution_count": 157,
     "metadata": {},
     "output_type": "execute_result"
    }
   ],
   "source": [
    "re.findall('(?<=[https]:\\/\\/)([a-zA-Z0-9.]*)',url)"
   ]
  },
  {
   "cell_type": "code",
   "execution_count": 158,
   "id": "ddf36c51-f65f-42ed-b084-0802d7fccde7",
   "metadata": {},
   "outputs": [
    {
     "name": "stdout",
     "output_type": "stream",
     "text": [
      "['bat', 'bot']\n"
     ]
    }
   ],
   "source": [
    "string = 'bat, lat, mat, bet, let, met, bit, lit, mit, bot, lot, mot'\n",
    "result = re.findall('b[ao]t', string)\n",
    "print(result)"
   ]
  },
  {
   "cell_type": "code",
   "execution_count": 376,
   "id": "0f5c9421-341b-466c-982b-ae73b08c91f9",
   "metadata": {},
   "outputs": [
    {
     "data": {
      "text/plain": [
       "['AC']"
      ]
     },
     "execution_count": 376,
     "metadata": {},
     "output_type": "execute_result"
    }
   ],
   "source": [
    "s = 'ACBCAC'\n",
    "re.findall('^AC',s)"
   ]
  },
  {
   "cell_type": "code",
   "execution_count": 377,
   "id": "37beb69b",
   "metadata": {},
   "outputs": [
    {
     "data": {
      "text/plain": [
       "array([0.05157019, 0.67764351, 0.01847179, 0.8870158 ])"
      ]
     },
     "execution_count": 377,
     "metadata": {},
     "output_type": "execute_result"
    }
   ],
   "source": [
    "a1 = np.random.rand(4)\n",
    "a1"
   ]
  },
  {
   "cell_type": "code",
   "execution_count": 378,
   "id": "a4188559",
   "metadata": {},
   "outputs": [
    {
     "data": {
      "text/plain": [
       "(4,)"
      ]
     },
     "execution_count": 378,
     "metadata": {},
     "output_type": "execute_result"
    }
   ],
   "source": [
    "a1.shape"
   ]
  },
  {
   "cell_type": "code",
   "execution_count": 379,
   "id": "123c1916",
   "metadata": {},
   "outputs": [
    {
     "data": {
      "text/plain": [
       "array([[0.93883627],\n",
       "       [0.31832717],\n",
       "       [0.33727025],\n",
       "       [0.82334224]])"
      ]
     },
     "execution_count": 379,
     "metadata": {},
     "output_type": "execute_result"
    }
   ],
   "source": [
    "a2 = np.random.rand(4,1)\n",
    "a2"
   ]
  },
  {
   "cell_type": "code",
   "execution_count": 380,
   "id": "d987d293",
   "metadata": {},
   "outputs": [
    {
     "data": {
      "text/plain": [
       "(4, 1)"
      ]
     },
     "execution_count": 380,
     "metadata": {},
     "output_type": "execute_result"
    }
   ],
   "source": [
    "a2.shape"
   ]
  },
  {
   "cell_type": "code",
   "execution_count": 381,
   "id": "28c99e8f",
   "metadata": {},
   "outputs": [
    {
     "data": {
      "text/plain": [
       "array([[1, 2, 3, 4]])"
      ]
     },
     "execution_count": 381,
     "metadata": {},
     "output_type": "execute_result"
    }
   ],
   "source": [
    "a3 = np.array([[1,2,3,4]])\n",
    "a3"
   ]
  },
  {
   "cell_type": "code",
   "execution_count": 382,
   "id": "adefacb9",
   "metadata": {},
   "outputs": [
    {
     "data": {
      "text/plain": [
       "(1, 4)"
      ]
     },
     "execution_count": 382,
     "metadata": {},
     "output_type": "execute_result"
    }
   ],
   "source": [
    "a3.shape"
   ]
  },
  {
   "cell_type": "code",
   "execution_count": 383,
   "id": "e45bb919",
   "metadata": {},
   "outputs": [
    {
     "data": {
      "text/plain": [
       "array([1, 2, 3])"
      ]
     },
     "execution_count": 383,
     "metadata": {},
     "output_type": "execute_result"
    }
   ],
   "source": [
    "a4 = np.arange(1,4,1)\n",
    "a4"
   ]
  },
  {
   "cell_type": "code",
   "execution_count": 384,
   "id": "4602de01",
   "metadata": {},
   "outputs": [
    {
     "data": {
      "text/plain": [
       "(3,)"
      ]
     },
     "execution_count": 384,
     "metadata": {},
     "output_type": "execute_result"
    }
   ],
   "source": [
    "a4.shape"
   ]
  },
  {
   "cell_type": "code",
   "execution_count": 385,
   "id": "c94dda55",
   "metadata": {},
   "outputs": [
    {
     "data": {
      "text/plain": [
       "array([1., 2., 3., 4.])"
      ]
     },
     "execution_count": 385,
     "metadata": {},
     "output_type": "execute_result"
    }
   ],
   "source": [
    "a5 = np.linspace(1,4,4)\n",
    "a5"
   ]
  },
  {
   "cell_type": "code",
   "execution_count": 386,
   "id": "5f64164e",
   "metadata": {},
   "outputs": [
    {
     "data": {
      "text/plain": [
       "(4,)"
      ]
     },
     "execution_count": 386,
     "metadata": {},
     "output_type": "execute_result"
    }
   ],
   "source": [
    "a5.shape"
   ]
  },
  {
   "cell_type": "code",
   "execution_count": 387,
   "id": "d9ca55f5",
   "metadata": {},
   "outputs": [
    {
     "name": "stdout",
     "output_type": "stream",
     "text": [
      "[[0 0 1]\n",
      " [1 1 1]]\n"
     ]
    }
   ],
   "source": [
    "old = np.array([[1, 1, 1], [1, 1, 1]])\n",
    "new = old\n",
    "new[0, :2] = 0\n",
    "\n",
    "print(old)"
   ]
  },
  {
   "cell_type": "code",
   "execution_count": 405,
   "id": "76f9ff55",
   "metadata": {},
   "outputs": [
    {
     "data": {
      "text/plain": [
       "['Amy', 'Mary', 'Ruth', 'Peter']"
      ]
     },
     "execution_count": 405,
     "metadata": {},
     "output_type": "execute_result"
    }
   ],
   "source": [
    "simple_string = \"\"\"Amy is 5 years old, and her sister Mary is 2 years old. \n",
    "    Ruth and Peter, their parents, have 3 kids.\"\"\"\n",
    "pattern = '[A-Z][a-z]*'\n",
    "re.findall(pattern,simple_string)    "
   ]
  },
  {
   "cell_type": "code",
   "execution_count": 406,
   "id": "3051e8ef",
   "metadata": {},
   "outputs": [
    {
     "data": {
      "text/plain": [
       "'Ronald Mayr: A\\nBell Kassulke: B\\nJacqueline Rupp: A \\nAlexander Zeller: C\\nValentina Denk: C \\nSimon Loidl: B \\nElias Jovanovic: B \\nStefanie Weninger: A \\nFabian Peer: C \\nHakim Botros: B\\nEmilie Lorentsen: B\\nHerman Karlsen: C\\nNathalie Delacruz: C\\nCasey Hartman: C\\nLily Walker : A\\nGerard Wang: C\\nTony Mcdowell: C\\nJake Wood: B\\nFatemeh Akhtar: B\\nKim Weston: B\\nNicholas Beatty: A\\nKirsten Williams: C\\nVaishali Surana: C\\nCoby Mccormack: C\\nYasmin Dar: B\\nRomy Donnelly: A\\nViswamitra Upandhye: B\\nKendrick Hilpert: A\\nKillian Kaufman: B\\nElwood Page: B\\nMukti Patel: A\\nEmily Lesch: C\\nElodie Booker: B\\nJedd Kim: A\\nAnnabel Davies: A\\nAdnan Chen: B\\nJonathan Berg: C\\nHank Spinka: B\\nAgnes Schneider: C\\nKimberly Green: A\\nLola-Rose Coates: C\\nRose Christiansen: C\\nShirley Hintz: C\\nHannah Bayer: B'"
      ]
     },
     "execution_count": 406,
     "metadata": {},
     "output_type": "execute_result"
    }
   ],
   "source": [
    "with open('/home/nitin/work/coursera_python_datascience/assignments/course1_assignment1/assets/grades.txt', mode='r') as file:\n",
    "    grades = file.read()\n",
    "    \n",
    "grades"
   ]
  },
  {
   "cell_type": "code",
   "execution_count": 416,
   "id": "923c599f",
   "metadata": {},
   "outputs": [
    {
     "data": {
      "text/plain": [
       "['Bell Kassulke',\n",
       " 'Simon Loidl',\n",
       " 'Elias Jovanovic',\n",
       " 'Hakim Botros',\n",
       " 'Emilie Lorentsen',\n",
       " 'Jake Wood',\n",
       " 'Fatemeh Akhtar',\n",
       " 'Kim Weston',\n",
       " 'Yasmin Dar',\n",
       " 'Viswamitra Upandhye',\n",
       " 'Killian Kaufman',\n",
       " 'Elwood Page',\n",
       " 'Elodie Booker',\n",
       " 'Adnan Chen',\n",
       " 'Hank Spinka',\n",
       " 'Hannah Bayer']"
      ]
     },
     "execution_count": 416,
     "metadata": {},
     "output_type": "execute_result"
    }
   ],
   "source": [
    "pattern = '([\\w ]+)(?=: B)'\n",
    "re.findall(pattern,grades)"
   ]
  },
  {
   "cell_type": "code",
   "execution_count": 417,
   "id": "3a8d6d44",
   "metadata": {},
   "outputs": [
    {
     "data": {
      "text/plain": [
       "'146.204.224.152 - feest6811 [21/Jun/2019:15:45:24 -0700] \"POST /incentivize HTTP/1.1\" 302 4622\\n197.109.77.178 - kertzmann3129 [21/Jun/2019:15:45:25 -0700] \"DELETE /virtual/solutions/target/web+services HTTP/2.0\" 203 26554\\n156.127.178.177 - okuneva5222 [21/Jun/2019:15:45:27 -0700] \"DELETE /interactive/transparent/niches/revolutionize HTTP/1.1\" 416 14701\\n100.32.205.59 - ortiz8891 [21/Jun/2019:15:45:28 -0700] \"PATCH /architectures HTTP/1.0\" 204 6048\\n168.95.156.240 - stark2413 [21/Jun/2019:15:45:31 -0700] \"GET /engage HTTP/2.0\" 201 9645\\n71.172.239.195 - dooley1853 [21/Jun/2019:15:45:32 -0700] \"PUT /cutting-edge HTTP/2.0\" 406 24498\\n180.95.121.94 - mohr6893 [21/Jun/2019:15:45:34 -0700] \"PATCH /extensible/reinvent HTTP/1.1\" 201 27330\\n144.23.247.108 - auer7552 [21/Jun/2019:15:45:35 -0700] \"POST /extensible/infrastructures/one-to-one/enterprise HTTP/1.1\" 100 22921\\n2.179.103.97 - lind8584 [21/Jun/2019:15:45:36 -0700] \"POST /grow/front-end/e-commerce/robust HTTP/2.0\" 304 14641\\n241.114.184.133 - tromp8355 [21/Jun/2019:15:45:37 -0700] \"GET /redefine/orchestrate HTTP/1.0\" 204 29059\\n224.188.38.4 - keebler1423 [21/Jun/2019:15:45:40 -0700] \"PUT /orchestrate/out-of-the-box/unleash/syndicate HTTP/1.1\" 404 28211\\n94.11.36.112 - klein8508 [21/Jun/2019:15:45:41 -0700] \"POST /enhance/solutions/bricks-and-clicks HTTP/1.1\" 404 24768\\n126.196.238.197 - gusikowski9864 [21/Jun/2019:15:45:45 -0700] \"DELETE /rich/reinvent HTTP/2.0\" 405 7894\\n103.247.168.212 - medhurst2732 [21/Jun/2019:15:45:49 -0700] \"HEAD /scale/global/leverage HTTP/1.0\" 203 15844\\n57.86.153.68 - dubuque8645 [21/Jun/2019:15:45:50 -0700] \"POST /innovative/roi/robust/systems HTTP/1.1\" 406 29046\\n231.220.8.214 - luettgen1860 [21/Jun/2019:15:45:52 -0700] \"HEAD /systems/sexy HTTP/1.1\" 201 2578\\n219.133.7.154 - price5585 [21/Jun/2019:15:45:53 -0700] \"GET /incubate/incubate HTTP/1.1\" 201 12126\\n159.252.184.44 - fay7852 [21/Jun/2019:15:45:54 -0700] \"GET /convergence HTTP/2.0\" 404 23856\\n40.167.172.66 - kshlerin3090 [21/Jun/2019:15:45:57 -0700] \"HEAD /convergence HTTP/2.0\" 501 16287\\n167.153.239.72 - schaden8853 [21/Jun/2019:15:45:58 -0700] \"DELETE /bandwidth/reintermediate/engage HTTP/2.0\" 302 17774\\n115.214.173.248 - hauck8214 [21/Jun/2019:15:46:00 -0700] \"PUT /optimize HTTP/1.1\" 401 13160\\n21.43.188.186 - kunze2653 [21/Jun/2019:15:46:02 -0700] \"DELETE /bandwidth/turn-key/users HTTP/2.0\" 201 2248\\n86.187.99.249 - tillman6650 [21/Jun/2019:15:46:03 -0700] \"POST /efficient/unleash HTTP/1.1\" 405 22390\\n76.72.133.93 - carroll1056 [21/Jun/2019:15:46:05 -0700] \"POST /morph/optimize/plug-and-play HTTP/2.0\" 400 27172\\n73.162.151.229 - dubuque3528 [21/Jun/2019:15:46:08 -0700] \"DELETE /transition/holistic/e-business HTTP/2.0\" 301 13923\\n13.112.8.80 - rau5026 [21/Jun/2019:15:46:09 -0700] \"HEAD /ubiquitous/transparent HTTP/1.1\" 200 16928\\n159.253.153.40 - - [21/Jun/2019:15:46:10 -0700] \"POST /e-business HTTP/1.0\" 504 19845\\n136.195.158.6 - feeney9464 [21/Jun/2019:15:46:11 -0700] \"HEAD /open-source/markets HTTP/2.0\" 204 21149\\n219.194.113.255 - - [21/Jun/2019:15:46:12 -0700] \"PATCH /next-generation/niches/mindshare HTTP/1.0\" 503 20246\\n59.101.239.174 - brekke3293 [21/Jun/2019:15:46:13 -0700] \"DELETE /ubiquitous/seize/web-enabled HTTP/2.0\" 302 14017\\n233.187.15.207 - - [21/Jun/2019:15:46:14 -0700] \"GET /harness/intuitive HTTP/1.0\" 304 21006\\n62.79.96.179 - mayer1069 [21/Jun/2019:15:46:15 -0700] \"HEAD /facilitate HTTP/1.0\" 404 7905\\n217.70.194.150 - batz2602 [21/Jun/2019:15:46:16 -0700] \"PUT /functionalities/channels/productize/mission-critical HTTP/2.0\" 404 23186\\n161.242.130.180 - - [21/Jun/2019:15:46:17 -0700] \"DELETE /methodologies/experiences HTTP/2.0\" 100 25437\\n155.127.24.96 - - [21/Jun/2019:15:46:18 -0700] \"POST /mindshare/optimize/vertical HTTP/2.0\" 500 6154\\n63.208.115.205 - - [21/Jun/2019:15:46:19 -0700] \"PATCH /revolutionize HTTP/1.0\" 404 4283\\n5.10.80.69 - - [21/Jun/2019:15:46:20 -0700] \"PATCH /niches/back-end HTTP/2.0\" 406 15834\\n11.57.203.39 - carroll8889 [21/Jun/2019:15:46:21 -0700] \"HEAD /visionary/cultivate HTTP/1.1\" 404 15391\\n124.137.187.175 - - [21/Jun/2019:15:46:22 -0700] \"DELETE /expedite/exploit/cultivate/web-enabled HTTP/1.0\" 403 2606\\n203.36.55.39 - collins6322 [21/Jun/2019:15:46:23 -0700] \"PATCH /efficient/productize/disintermediate HTTP/1.1\" 504 13377\\n175.5.52.40 - - [21/Jun/2019:15:46:24 -0700] \"POST /real-time HTTP/1.1\" 200 2660\\n232.220.131.214 - - [21/Jun/2019:15:46:25 -0700] \"GET /wireless/matrix/synergistic/expedite HTTP/1.1\" 205 15081\\n87.234.209.125 - labadie6990 [21/Jun/2019:15:46:26 -0700] \"GET /unleash/aggregate HTTP/2.0\" 304 23351\\n177.164.9.130 - collins9387 [21/Jun/2019:15:46:27 -0700] \"DELETE /portals/evolve/proactive HTTP/1.0\" 200 241\\n71.17.229.20 - - [21/Jun/2019:15:46:28 -0700] \"POST /incubate/rich/web+services/markets HTTP/1.1\" 100 10107\\n161.106.82.60 - yundt9152 [21/Jun/2019:15:46:29 -0700] \"PUT /e-tailers HTTP/1.1\" 401 2396\\n118.244.60.25 - - [21/Jun/2019:15:46:30 -0700] \"PATCH /orchestrate/mission-critical/cross-platform/scalable HTTP/1.0\" 403 19962\\n226.97.226.58 - kautzer4542 [21/Jun/2019:15:46:31 -0700] \"PATCH /functionalities/convergence/repurpose/reinvent HTTP/1.1\" 304 26501\\n153.60.64.187 - - [21/Jun/2019:15:46:32 -0700] \"HEAD /schemas HTTP/1.1\" 406 17921\\n226.59.29.125 - - [21/Jun/2019:15:46:33 -0700] \"POST /enable/e-business/orchestrate/portals HTTP/2.0\" 204 28548\\n180.234.185.134 - windler5463 [21/Jun/2019:15:46:34 -0700] \"POST /synergies/innovative/enterprise HTTP/1.1\" 404 11810\\n202.186.241.42 - - [21/Jun/2019:15:46:35 -0700] \"HEAD /visualize/mindshare/orchestrate/optimize HTTP/2.0\" 404 18685\\n130.240.69.236 - hoeger9514 [21/Jun/2019:15:46:36 -0700] \"PUT /drive HTTP/2.0\" 504 13772\\n226.187.228.119 - bednar5295 [21/Jun/2019:15:46:37 -0700] \"HEAD /streamline/metrics/visionary/deliverables HTTP/1.1\" 304 9305\\n169.191.251.30 - champlin3406 [21/Jun/2019:15:46:38 -0700] \"PUT /out-of-the-box/value-added/engineer HTTP/2.0\" 403 24645\\n33.212.159.241 - kertzmann4700 [21/Jun/2019:15:46:39 -0700] \"HEAD /evolve/drive/transition HTTP/1.1\" 404 25376\\n151.2.27.136 - kunde3872 [21/Jun/2019:15:46:40 -0700] \"HEAD /monetize HTTP/1.1\" 416 25141\\n164.193.154.113 - - [21/Jun/2019:15:46:41 -0700] \"PUT /virtual/compelling HTTP/1.1\" 400 11447\\n230.72.69.136 - quitzon6990 [21/Jun/2019:15:46:42 -0700] \"POST /channels HTTP/1.1\" 200 4175\\n189.128.147.107 - johnson1417 [21/Jun/2019:15:46:43 -0700] \"PUT /synergize/innovative HTTP/1.0\" 501 23017\\n40.78.198.130 - - [21/Jun/2019:15:46:44 -0700] \"DELETE /e-enable/architectures/orchestrate HTTP/1.0\" 205 5033\\n63.134.169.160 - - [21/Jun/2019:15:46:45 -0700] \"PUT /syndicate HTTP/1.1\" 302 7654\\n98.74.141.240 - terry3353 [21/Jun/2019:15:46:46 -0700] \"GET /paradigms/reintermediate/web-enabled HTTP/1.1\" 403 9171\\n249.157.76.12 - doyle8092 [21/Jun/2019:15:46:47 -0700] \"HEAD /end-to-end/open-source/markets HTTP/1.0\" 501 9767\\n191.83.194.6 - tillman4353 [21/Jun/2019:15:46:48 -0700] \"PATCH /frictionless/evolve/methodologies HTTP/1.1\" 416 29253\\n161.10.120.228 - - [21/Jun/2019:15:46:49 -0700] \"DELETE /transform/optimize/envisioneer HTTP/1.0\" 416 9872\\n28.251.116.209 - wuckert7686 [21/Jun/2019:15:46:50 -0700] \"DELETE /productize/maximize HTTP/1.1\" 504 19918\\n146.37.57.224 - - [21/Jun/2019:15:46:51 -0700] \"PUT /strategize/web+services/envisioneer HTTP/1.1\" 205 16226\\n113.136.44.97 - schinner1581 [21/Jun/2019:15:46:52 -0700] \"HEAD /intuitive/communities/maximize/repurpose HTTP/1.1\" 405 29798\\n236.57.192.231 - - [21/Jun/2019:15:46:53 -0700] \"GET /whiteboard HTTP/1.1\" 301 9166\\n148.185.136.238 - will3148 [21/Jun/2019:15:46:54 -0700] \"PUT /interactive/target HTTP/1.0\" 304 19597\\n217.244.200.194 - - [21/Jun/2019:15:46:55 -0700] \"PUT /plug-and-play/whiteboard/markets/seize HTTP/2.0\" 405 21381\\n192.57.65.185 - beatty2311 [21/Jun/2019:15:46:56 -0700] \"GET /customized/incentivize HTTP/2.0\" 503 27629\\n34.188.163.50 - - [21/Jun/2019:15:46:57 -0700] \"PATCH /interactive/architect/innovative/24%2f7 HTTP/1.1\" 203 24462\\n174.36.25.145 - reinger5141 [21/Jun/2019:15:46:58 -0700] \"GET /e-business/reintermediate/magnetic HTTP/1.1\" 502 18569\\n109.108.118.102 - greenfelder4613 [21/Jun/2019:15:46:59 -0700] \"PUT /networks/strategize/b2c HTTP/2.0\" 405 1249\\n207.93.9.141 - kulas9437 [21/Jun/2019:15:47:00 -0700] \"PATCH /user-centric HTTP/2.0\" 502 23213\\n23.48.88.246 - boyer9465 [21/Jun/2019:15:47:01 -0700] \"PUT /global/collaborative/synthesize HTTP/1.0\" 204 27752\\n11.130.135.213 - - [21/Jun/2019:15:47:02 -0700] \"POST /plug-and-play/harness HTTP/2.0\" 205 15456\\n135.213.8.200 - - [21/Jun/2019:15:47:03 -0700] \"HEAD /strategize/synergies/e-services/synthesize HTTP/1.1\" 416 1886\\n60.123.73.56 - - [21/Jun/2019:15:47:04 -0700] \"HEAD /cross-media/optimize HTTP/2.0\" 200 1213\\n13.24.14.8 - - [21/Jun/2019:15:47:05 -0700] \"POST /schemas/innovative/paradigms HTTP/1.1\" 302 4626\\n45.177.213.234 - - [21/Jun/2019:15:47:06 -0700] \"PUT /24%2f365/supply-chains/vortals HTTP/1.0\" 503 6503\\n129.233.38.84 - - [21/Jun/2019:15:47:07 -0700] \"DELETE /front-end HTTP/1.1\" 403 10190\\n80.153.139.233 - - [21/Jun/2019:15:47:08 -0700] \"POST /supply-chains/magnetic HTTP/1.1\" 404 571\\n199.111.169.6 - jaskolski5282 [21/Jun/2019:15:47:09 -0700] \"PUT /distributed/eyeballs/value-added/unleash HTTP/1.1\" 203 19352\\n21.24.38.93 - roob7248 [21/Jun/2019:15:47:10 -0700] \"DELETE /synergistic HTTP/1.1\" 304 15809\\n121.104.130.220 - dach6856 [21/Jun/2019:15:47:11 -0700] \"GET /infomediaries/e-business/metrics/interfaces HTTP/1.0\" 201 15366\\n132.15.162.37 - - [21/Jun/2019:15:47:12 -0700] \"PUT /incentivize/open-source/exploit HTTP/1.0\" 502 28021\\n91.107.45.211 - roob7504 [21/Jun/2019:15:47:13 -0700] \"POST /transparent/one-to-one HTTP/1.0\" 502 22499\\n72.157.89.10 - - [21/Jun/2019:15:47:14 -0700] \"PATCH /clicks-and-mortar/metrics HTTP/1.0\" 205 23070\\n105.8.97.99 - nader4497 [21/Jun/2019:15:47:15 -0700] \"PATCH /repurpose/b2b HTTP/1.0\" 500 26826\\n92.176.179.73 - tromp7323 [21/Jun/2019:15:47:16 -0700] \"POST /web+services/monetize/infomediaries HTTP/1.0\" 504 14107\\n124.113.245.136 - koch7592 [21/Jun/2019:15:47:17 -0700] \"PATCH /interfaces/portals HTTP/1.1\" 204 13348\\n153.207.83.135 - fritsch7933 [21/Jun/2019:15:47:18 -0700] \"POST /exploit/methodologies/proactive/paradigms HTTP/1.0\" 204 27010\\n118.174.11.239 - - [21/Jun/2019:15:47:19 -0700] \"PATCH /front-end/communities HTTP/2.0\" 203 5723\\n210.99.35.196 - nitzsche6699 [21/Jun/2019:15:47:20 -0700] \"DELETE /wireless HTTP/1.1\" 204 26288\\n25.60.172.114 - - [21/Jun/2019:15:47:21 -0700] \"HEAD /robust/systems/architect HTTP/2.0\" 405 16579\\n9.123.243.85 - - [21/Jun/2019:15:47:22 -0700] \"DELETE /efficient/compelling/back-end HTTP/1.1\" 405 19102\\n187.185.236.178 - - [21/Jun/2019:15:47:23 -0700] \"HEAD /bandwidth/harness HTTP/1.0\" 503 29449\\n245.247.95.68 - cummerata3376 [21/Jun/2019:15:47:24 -0700] \"GET /redefine HTTP/2.0\" 200 20207\\n203.217.133.243 - gislason8036 [21/Jun/2019:15:47:25 -0700] \"POST /visualize/incubate HTTP/1.0\" 500 17318\\n183.199.215.84 - homenick3730 [21/Jun/2019:15:47:26 -0700] \"POST /infrastructures/rich HTTP/2.0\" 503 15924\\n82.207.85.184 - hansen5317 [21/Jun/2019:15:47:27 -0700] \"POST /initiatives/vertical/leading-edge HTTP/2.0\" 500 9559\\n210.180.251.130 - - [21/Jun/2019:15:47:28 -0700] \"GET /brand/implement/proactive HTTP/1.1\" 204 9421\\n22.135.157.6 - runolfsdottir9957 [21/Jun/2019:15:47:29 -0700] \"PUT /synergies/b2c HTTP/1.1\" 504 19481\\n34.185.208.17 - wilderman1726 [21/Jun/2019:15:47:30 -0700] \"DELETE /e-enable/granular/scale HTTP/2.0\" 100 25359\\n147.106.164.197 - huels5802 [21/Jun/2019:15:47:31 -0700] \"PATCH /communities/cultivate HTTP/1.1\" 502 11904\\n237.149.195.234 - powlowski8494 [21/Jun/2019:15:47:32 -0700] \"PATCH /productize HTTP/2.0\" 302 3745\\n10.180.30.149 - farrell3121 [21/Jun/2019:15:47:33 -0700] \"HEAD /vertical/schemas/rich/bandwidth HTTP/1.1\" 406 22646\\n42.27.103.225 - - [21/Jun/2019:15:47:34 -0700] \"GET /expedite HTTP/1.1\" 204 7238\\n223.244.102.20 - kozey1688 [21/Jun/2019:15:47:35 -0700] \"HEAD /rich/models/user-centric/synergize HTTP/1.0\" 501 25173\\n97.79.223.219 - - [21/Jun/2019:15:47:36 -0700] \"PUT /engage HTTP/1.1\" 500 19920\\n247.173.105.48 - mosciski4497 [21/Jun/2019:15:47:37 -0700] \"GET /visualize HTTP/1.0\" 405 26527\\n48.17.245.135 - thompson4253 [21/Jun/2019:15:47:38 -0700] \"HEAD /dynamic HTTP/1.1\" 405 24014\\n2.50.83.232 - - [21/Jun/2019:15:47:39 -0700] \"POST /seamless/unleash HTTP/1.0\" 405 28170\\n147.226.217.25 - stark2160 [21/Jun/2019:15:47:40 -0700] \"GET /synergistic/utilize HTTP/1.0\" 403 7156\\n97.106.142.43 - - [21/Jun/2019:15:47:41 -0700] \"HEAD /productize/leading-edge/expedite/harness HTTP/1.1\" 416 177\\n4.68.176.38 - - [21/Jun/2019:15:47:42 -0700] \"POST /enterprise HTTP/2.0\" 100 16022\\n225.65.31.51 - koss1626 [21/Jun/2019:15:47:43 -0700] \"DELETE /frictionless/transparent/extensible/revolutionary HTTP/1.1\" 200 10201\\n68.121.206.246 - - [21/Jun/2019:15:47:44 -0700] \"POST /exploit/vertical HTTP/1.1\" 100 10294\\n137.121.171.78 - mckenzie9789 [21/Jun/2019:15:47:45 -0700] \"DELETE /seize/global HTTP/1.0\" 403 3657\\n130.219.221.187 - auer9353 [21/Jun/2019:15:47:46 -0700] \"GET /interactive/real-time/target HTTP/2.0\" 504 8388\\n245.30.107.108 - - [21/Jun/2019:15:47:47 -0700] \"PATCH /sticky/scale/deploy/seamless HTTP/1.0\" 400 29014\\n9.67.204.83 - - [21/Jun/2019:15:47:48 -0700] \"POST /infomediaries/innovative HTTP/1.0\" 100 13705\\n49.195.132.6 - collins9784 [21/Jun/2019:15:47:49 -0700] \"DELETE /bricks-and-clicks/recontextualize/seize HTTP/2.0\" 404 25524\\n233.53.164.32 - maggio9908 [21/Jun/2019:15:47:50 -0700] \"POST /global/channels/cross-media HTTP/1.1\" 200 19752\\n130.231.243.226 - - [21/Jun/2019:15:47:51 -0700] \"GET /holistic HTTP/2.0\" 400 23625\\n124.10.38.5 - hickle4568 [21/Jun/2019:15:47:52 -0700] \"HEAD /bandwidth/users/morph HTTP/1.0\" 302 4539\\n143.36.60.178 - - [21/Jun/2019:15:47:53 -0700] \"PUT /expedite/granular HTTP/2.0\" 500 28791\\n141.59.150.229 - tremblay7489 [21/Jun/2019:15:47:54 -0700] \"DELETE /platforms/maximize/interfaces/clicks-and-mortar HTTP/2.0\" 405 23148\\n230.250.234.246 - - [21/Jun/2019:15:47:55 -0700] \"GET /experiences HTTP/1.0\" 203 17881\\n31.215.24.55 - pfeffer6357 [21/Jun/2019:15:47:56 -0700] \"HEAD /engage/magnetic HTTP/2.0\" 500 17268\\n148.137.75.120 - gibson4540 [21/Jun/2019:15:47:57 -0700] \"HEAD /b2b HTTP/2.0\" 416 9880\\n111.63.41.199 - kirlin4598 [21/Jun/2019:15:47:58 -0700] \"PUT /unleash/grow/models HTTP/2.0\" 504 568\\n106.80.125.72 - nienow5906 [21/Jun/2019:15:47:59 -0700] \"GET /engineer/compelling/robust/infrastructures HTTP/1.0\" 501 9481\\n221.195.122.7 - - [21/Jun/2019:15:48:00 -0700] \"PATCH /portals/channels/value-added HTTP/2.0\" 500 20889\\n75.233.100.105 - - [21/Jun/2019:15:48:01 -0700] \"GET /generate/models/users HTTP/1.0\" 204 15909\\n65.42.94.224 - wolff6881 [21/Jun/2019:15:48:02 -0700] \"POST /extend/empower HTTP/1.1\" 100 27264\\n195.229.232.110 - - [21/Jun/2019:15:48:03 -0700] \"POST /aggregate/bricks-and-clicks HTTP/1.1\" 304 7558\\n140.85.11.133 - - [21/Jun/2019:15:48:04 -0700] \"PUT /e-commerce/niches/compelling HTTP/2.0\" 304 14065\\n63.106.221.202 - roberts8938 [21/Jun/2019:15:48:05 -0700] \"DELETE /reintermediate/envisioneer/innovative HTTP/1.1\" 500 21872\\n230.107.250.209 - - [21/Jun/2019:15:48:06 -0700] \"PUT /e-tailers/turn-key/syndicate HTTP/1.0\" 304 9750\\n209.104.240.59 - - [21/Jun/2019:15:48:07 -0700] \"PUT /brand/evolve HTTP/1.0\" 205 8691\\n177.112.83.120 - - [21/Jun/2019:15:48:08 -0700] \"GET /convergence/enterprise HTTP/1.0\" 405 6897\\n66.233.63.11 - yost2119 [21/Jun/2019:15:48:09 -0700] \"PATCH /out-of-the-box/action-items HTTP/1.0\" 406 17062\\n44.103.233.51 - krajcik9464 [21/Jun/2019:15:48:10 -0700] \"DELETE /portals/extend/methodologies/integrate HTTP/1.0\" 100 12191\\n178.41.82.142 - wuckert7752 [21/Jun/2019:15:48:11 -0700] \"DELETE /evolve/clicks-and-mortar/architect HTTP/1.1\" 205 24735\\n27.213.87.112 - kirlin4667 [21/Jun/2019:15:48:12 -0700] \"PUT /models/best-of-breed/bricks-and-clicks HTTP/2.0\" 304 6681\\n75.237.100.203 - - [21/Jun/2019:15:48:13 -0700] \"HEAD /incubate HTTP/1.0\" 501 1659\\n194.73.206.238 - - [21/Jun/2019:15:48:14 -0700] \"PUT /intuitive HTTP/1.0\" 502 17992\\n125.236.198.20 - - [21/Jun/2019:15:48:15 -0700] \"PATCH /strategize HTTP/1.1\" 403 15138\\n148.73.183.231 - - [21/Jun/2019:15:48:16 -0700] \"PATCH /incentivize/target/engineer/engineer HTTP/1.0\" 504 23088\\n176.18.202.192 - - [21/Jun/2019:15:48:17 -0700] \"PUT /leading-edge/synergies/infrastructures/user-centric HTTP/1.1\" 400 24654\\n73.112.25.186 - - [21/Jun/2019:15:48:18 -0700] \"DELETE /partnerships/e-markets/efficient HTTP/1.1\" 503 17253\\n65.113.165.7 - nitzsche2796 [21/Jun/2019:15:48:19 -0700] \"DELETE /infomediaries/harness/expedite/orchestrate HTTP/2.0\" 401 3037\\n223.75.102.252 - zemlak4312 [21/Jun/2019:15:48:20 -0700] \"HEAD /e-tailers/sexy/extensible HTTP/1.0\" 503 16103\\n83.12.28.227 - nolan1426 [21/Jun/2019:15:48:21 -0700] \"DELETE /global/reintermediate HTTP/1.1\" 203 1432\\n129.194.112.95 - - [21/Jun/2019:15:48:22 -0700] \"POST /seamless/leverage HTTP/1.0\" 203 4858\\n178.20.130.66 - mayer2417 [21/Jun/2019:15:48:23 -0700] \"GET /transparent HTTP/1.0\" 100 24019\\n93.61.70.250 - cassin5420 [21/Jun/2019:15:48:24 -0700] \"DELETE /portals HTTP/1.0\" 416 12205\\n77.5.250.80 - bailey4806 [21/Jun/2019:15:48:25 -0700] \"DELETE /enhance/e-business/impactful HTTP/2.0\" 501 13562\\n10.229.72.234 - rogahn7487 [21/Jun/2019:15:48:26 -0700] \"GET /web-readiness HTTP/1.0\" 203 21690\\n114.182.112.12 - walter1917 [21/Jun/2019:15:48:27 -0700] \"PUT /deliverables/benchmark HTTP/1.0\" 406 25329\\n197.35.190.56 - cole1245 [21/Jun/2019:15:48:28 -0700] \"HEAD /whiteboard/bleeding-edge/disintermediate/cultivate HTTP/1.0\" 416 19713\\n215.55.230.78 - - [21/Jun/2019:15:48:29 -0700] \"PATCH /unleash/schemas HTTP/2.0\" 403 7476\\n147.108.125.10 - - [21/Jun/2019:15:48:30 -0700] \"DELETE /architect HTTP/1.1\" 401 5002\\n44.147.46.145 - runolfsdottir2005 [21/Jun/2019:15:48:31 -0700] \"DELETE /web+services/reinvent/real-time/cross-media HTTP/1.0\" 400 11395\\n197.185.253.55 - cormier5217 [21/Jun/2019:15:48:32 -0700] \"PATCH /dynamic/eyeballs/incentivize HTTP/2.0\" 503 24975\\n79.4.211.247 - - [21/Jun/2019:15:48:33 -0700] \"DELETE /deliver/partnerships/exploit HTTP/1.0\" 400 18962\\n171.201.31.179 - - [21/Jun/2019:15:48:34 -0700] \"DELETE /compelling HTTP/2.0\" 406 19062\\n116.132.156.28 - emard5518 [21/Jun/2019:15:48:35 -0700] \"GET /robust/efficient/sticky/robust HTTP/2.0\" 405 21159\\n46.94.236.10 - jacobi6125 [21/Jun/2019:15:48:36 -0700] \"GET /mindshare/e-services/action-items HTTP/1.1\" 503 10411\\n196.16.205.128 - stanton2862 [21/Jun/2019:15:48:37 -0700] \"DELETE /recontextualize HTTP/1.1\" 304 9363\\n65.160.59.55 - ortiz2311 [21/Jun/2019:15:48:38 -0700] \"HEAD /interactive/integrated/incentivize HTTP/1.1\" 201 2524\\n107.253.103.62 - maggio7837 [21/Jun/2019:15:48:39 -0700] \"GET /infomediaries HTTP/1.1\" 100 3569\\n13.253.202.85 - nader6495 [21/Jun/2019:15:48:40 -0700] \"HEAD /extend/scale/whiteboard HTTP/1.0\" 406 2956\\n219.234.129.250 - - [21/Jun/2019:15:48:41 -0700] \"HEAD /real-time/24%2f365 HTTP/1.1\" 404 24050\\n108.226.15.178 - - [21/Jun/2019:15:48:42 -0700] \"DELETE /revolutionary/collaborative/e-commerce/incubate HTTP/1.0\" 302 23952\\n120.3.195.188 - zboncak8896 [21/Jun/2019:15:48:43 -0700] \"HEAD /monetize/matrix/incentivize/paradigms HTTP/1.0\" 304 25191\\n243.82.252.241 - - [21/Jun/2019:15:48:44 -0700] \"GET /incubate HTTP/2.0\" 503 13390\\n175.95.90.163 - - [21/Jun/2019:15:48:45 -0700] \"POST /transform HTTP/1.0\" 200 4589\\n205.183.132.210 - - [21/Jun/2019:15:48:46 -0700] \"DELETE /distributed HTTP/1.1\" 304 16502\\n67.91.67.236 - hammes1596 [21/Jun/2019:15:48:47 -0700] \"HEAD /models/enhance/streamline HTTP/2.0\" 504 16973\\n201.66.251.172 - - [21/Jun/2019:15:48:48 -0700] \"GET /global HTTP/2.0\" 203 8595\\n221.105.56.181 - - [21/Jun/2019:15:48:49 -0700] \"HEAD /extend/schemas/relationships/world-class HTTP/2.0\" 302 20997\\n206.237.108.242 - - [21/Jun/2019:15:48:50 -0700] \"PUT /markets/networks/matrix HTTP/1.1\" 203 6611\\n242.173.145.218 - - [21/Jun/2019:15:48:51 -0700] \"PUT /robust/rich HTTP/1.1\" 205 16691\\n143.117.208.51 - - [21/Jun/2019:15:48:52 -0700] \"POST /visionary/synthesize/embrace/leverage HTTP/1.0\" 302 24158\\n159.5.202.167 - moen9202 [21/Jun/2019:15:48:53 -0700] \"DELETE /technologies/schemas/methodologies/mission-critical HTTP/2.0\" 416 25130\\n166.255.221.168 - - [21/Jun/2019:15:48:54 -0700] \"PATCH /schemas HTTP/1.1\" 205 18404\\n232.181.229.75 - lehner6109 [21/Jun/2019:15:48:55 -0700] \"PUT /transition HTTP/1.1\" 203 483\\n254.88.251.245 - nolan6998 [21/Jun/2019:15:48:56 -0700] \"DELETE /whiteboard HTTP/1.1\" 404 16608\\n110.112.78.242 - kling1525 [21/Jun/2019:15:48:57 -0700] \"POST /paradigms/integrated HTTP/1.1\" 200 13019\\n116.55.22.122 - bahringer5369 [21/Jun/2019:15:48:58 -0700] \"PATCH /compelling/disintermediate HTTP/1.1\" 100 22010\\n172.124.11.171 - quitzon1416 [21/Jun/2019:15:48:59 -0700] \"POST /out-of-the-box/roi/e-enable HTTP/1.0\" 403 28164\\n58.159.26.50 - - [21/Jun/2019:15:49:00 -0700] \"PATCH /supply-chains/architect/e-business HTTP/1.0\" 204 10472\\n188.193.116.45 - - [21/Jun/2019:15:49:01 -0700] \"POST /e-tailers/strategize HTTP/1.1\" 201 4304\\n210.255.229.144 - moen2716 [21/Jun/2019:15:49:02 -0700] \"POST /end-to-end/applications HTTP/2.0\" 301 15046\\n74.21.133.131 - waters3612 [21/Jun/2019:15:49:03 -0700] \"GET /bleeding-edge/applications HTTP/2.0\" 304 15281\\n93.88.34.132 - - [21/Jun/2019:15:49:04 -0700] \"POST /24%2f365 HTTP/2.0\" 100 12780\\n134.190.123.28 - braun2437 [21/Jun/2019:15:49:05 -0700] \"POST /extend/initiatives HTTP/2.0\" 304 25392\\n145.131.76.133 - kling3290 [21/Jun/2019:15:49:06 -0700] \"HEAD /e-business/holistic/mindshare/magnetic HTTP/2.0\" 304 25231\\n215.214.69.146 - kuhic1127 [21/Jun/2019:15:49:07 -0700] \"PATCH /holistic/exploit/transition HTTP/2.0\" 406 21426\\n157.161.20.178 - - [21/Jun/2019:15:49:08 -0700] \"GET /metrics/paradigms/reinvent/enable HTTP/2.0\" 504 27235\\n206.227.78.159 - - [21/Jun/2019:15:49:09 -0700] \"GET /orchestrate HTTP/2.0\" 204 17518\\n20.179.60.207 - mcglynn3415 [21/Jun/2019:15:49:10 -0700] \"PUT /grow HTTP/2.0\" 401 12062\\n217.60.55.82 - boyer9211 [21/Jun/2019:15:49:11 -0700] \"GET /relationships/embrace/models HTTP/1.0\" 204 6822\\n177.66.154.38 - - [21/Jun/2019:15:49:12 -0700] \"PATCH /synergize/relationships HTTP/1.1\" 400 572\\n190.236.134.191 - - [21/Jun/2019:15:49:13 -0700] \"PATCH /bleeding-edge/roi HTTP/1.0\" 200 13645\\n240.57.86.78 - thompson7192 [21/Jun/2019:15:49:14 -0700] \"HEAD /strategic/strategic/open-source/maximize HTTP/1.0\" 502 17673\\n164.128.154.124 - effertz4240 [21/Jun/2019:15:49:15 -0700] \"PATCH /visualize/cross-platform/intuitive HTTP/1.1\" 400 28726\\n219.150.27.76 - reinger6377 [21/Jun/2019:15:49:16 -0700] \"GET /scale/grow/disintermediate/e-enable HTTP/2.0\" 301 13624\\n45.154.94.28 - - [21/Jun/2019:15:49:17 -0700] \"HEAD /scale/open-source HTTP/1.0\" 416 445\\n66.157.144.220 - - [21/Jun/2019:15:49:18 -0700] \"GET /reintermediate/reinvent/convergence/killer HTTP/1.1\" 401 8918\\n4.245.27.54 - - [21/Jun/2019:15:49:19 -0700] \"PUT /orchestrate/generate HTTP/1.1\" 201 28953\\n218.100.131.71 - leffler3986 [21/Jun/2019:15:49:20 -0700] \"PATCH /orchestrate/monetize/relationships HTTP/1.1\" 501 24543\\n72.205.105.73 - - [21/Jun/2019:15:49:21 -0700] \"POST /innovative/b2b HTTP/1.1\" 201 18073\\n132.186.52.137 - wunsch3097 [21/Jun/2019:15:49:22 -0700] \"DELETE /viral/eyeballs/brand HTTP/2.0\" 416 8003\\n48.70.58.4 - - [21/Jun/2019:15:49:23 -0700] \"PUT /paradigms/repurpose HTTP/2.0\" 401 8468\\n29.3.16.175 - wolf7357 [21/Jun/2019:15:49:24 -0700] \"PUT /b2c HTTP/2.0\" 201 8395\\n55.255.42.34 - erdman7847 [21/Jun/2019:15:49:25 -0700] \"POST /one-to-one/viral/interfaces/embrace HTTP/1.0\" 404 16840\\n102.2.37.136 - - [21/Jun/2019:15:49:26 -0700] \"HEAD /granular HTTP/2.0\" 200 15004\\n244.32.122.180 - shanahan9241 [21/Jun/2019:15:49:27 -0700] \"PATCH /cutting-edge HTTP/1.1\" 200 23358\\n196.95.163.236 - lockman1471 [21/Jun/2019:15:49:28 -0700] \"PATCH /niches/front-end/dot-com HTTP/1.0\" 200 29973\\n165.157.86.133 - runte2017 [21/Jun/2019:15:49:29 -0700] \"DELETE /grow/channels HTTP/1.0\" 400 13930\\n213.243.28.116 - - [21/Jun/2019:15:49:30 -0700] \"HEAD /bleeding-edge/granular HTTP/1.1\" 504 26957\\n30.254.125.19 - - [21/Jun/2019:15:49:31 -0700] \"PUT /iterate/distributed/unleash/interfaces HTTP/1.1\" 503 6406\\n187.240.183.141 - sauer3376 [21/Jun/2019:15:49:32 -0700] \"DELETE /frictionless/platforms/networks HTTP/1.0\" 200 21857\\n226.239.91.74 - jakubowski4018 [21/Jun/2019:15:49:33 -0700] \"HEAD /vertical/models/cross-media/reintermediate HTTP/1.1\" 301 14555\\n118.163.58.231 - - [21/Jun/2019:15:49:34 -0700] \"POST /web-enabled/paradigms HTTP/1.1\" 302 23966\\n228.112.124.191 - - [21/Jun/2019:15:49:35 -0700] \"POST /syndicate/roi/target/morph HTTP/1.1\" 502 9422\\n243.47.73.109 - - [21/Jun/2019:15:49:36 -0700] \"POST /users/enterprise HTTP/2.0\" 204 13574\\n125.202.126.201 - - [21/Jun/2019:15:49:37 -0700] \"PUT /robust HTTP/2.0\" 304 24262\\n50.142.221.159 - durgan7044 [21/Jun/2019:15:49:38 -0700] \"DELETE /one-to-one/experiences/content HTTP/1.1\" 203 20906\\n92.180.240.91 - - [21/Jun/2019:15:49:39 -0700] \"GET /target/integrate/mission-critical HTTP/1.0\" 100 14057\\n153.86.38.119 - gaylord9827 [21/Jun/2019:15:49:40 -0700] \"HEAD /drive/content/action-items HTTP/1.1\" 301 16191\\n240.5.131.182 - - [21/Jun/2019:15:49:41 -0700] \"PATCH /proactive/front-end/24%2f365/implement HTTP/1.0\" 504 14204\\n232.131.251.10 - kutch1902 [21/Jun/2019:15:49:42 -0700] \"DELETE /disintermediate/benchmark/envisioneer HTTP/1.0\" 203 2026\\n69.98.159.130 - turner6424 [21/Jun/2019:15:49:43 -0700] \"PATCH /harness HTTP/2.0\" 205 15394\\n113.179.165.89 - - [21/Jun/2019:15:49:44 -0700] \"HEAD /models/innovative/cultivate HTTP/1.0\" 503 17242\\n223.182.232.174 - maggio8143 [21/Jun/2019:15:49:45 -0700] \"PUT /embrace HTTP/2.0\" 401 18858\\n191.118.123.46 - simonis6976 [21/Jun/2019:15:49:46 -0700] \"PATCH /web-enabled/harness/transparent HTTP/1.0\" 400 10969\\n53.51.106.59 - - [21/Jun/2019:15:49:47 -0700] \"HEAD /systems/streamline/front-end HTTP/2.0\" 503 9456\\n206.163.96.216 - buckridge3917 [21/Jun/2019:15:49:48 -0700] \"HEAD /transparent HTTP/2.0\" 200 1768\\n80.61.205.38 - - [21/Jun/2019:15:49:49 -0700] \"HEAD /distributed/embrace HTTP/1.1\" 503 2204\\n163.27.80.92 - monahan7718 [21/Jun/2019:15:49:50 -0700] \"POST /clicks-and-mortar/vortals HTTP/2.0\" 100 22784\\n148.175.205.121 - sipes2845 [21/Jun/2019:15:49:51 -0700] \"PATCH /brand/vertical/revolutionize/killer HTTP/1.0\" 201 9848\\n199.88.191.4 - breitenberg8163 [21/Jun/2019:15:49:52 -0700] \"PATCH /unleash HTTP/1.0\" 500 8169\\n68.49.235.87 - - [21/Jun/2019:15:49:53 -0700] \"HEAD /models/synergies HTTP/1.1\" 205 7253\\n127.220.163.49 - wisozk6703 [21/Jun/2019:15:49:54 -0700] \"PATCH /utilize HTTP/2.0\" 204 15950\\n99.231.139.196 - - [21/Jun/2019:15:49:55 -0700] \"DELETE /innovate/mesh/envisioneer HTTP/2.0\" 100 16022\\n30.184.31.218 - - [21/Jun/2019:15:49:56 -0700] \"POST /expedite/front-end HTTP/1.0\" 201 22592\\n184.191.5.166 - - [21/Jun/2019:15:49:57 -0700] \"HEAD /sticky/open-source HTTP/1.1\" 203 14260\\n51.2.232.211 - rutherford4378 [21/Jun/2019:15:49:58 -0700] \"POST /strategize/strategize/innovate HTTP/1.0\" 403 25238\\n11.177.206.75 - - [21/Jun/2019:15:49:59 -0700] \"PATCH /seize/metrics/killer HTTP/2.0\" 504 15392\\n32.4.248.193 - - [21/Jun/2019:15:50:00 -0700] \"DELETE /cross-platform/integrate HTTP/1.1\" 405 5783\\n231.72.174.26 - hills3866 [21/Jun/2019:15:50:01 -0700] \"POST /bleeding-edge/user-centric/embrace/wireless HTTP/1.1\" 502 7276\\n170.201.249.253 - - [21/Jun/2019:15:50:02 -0700] \"GET /holistic HTTP/1.0\" 504 11046\\n41.208.246.19 - jacobi7143 [21/Jun/2019:15:50:03 -0700] \"DELETE /e-enable HTTP/1.0\" 200 24763\\n227.166.16.104 - - [21/Jun/2019:15:50:04 -0700] \"PUT /compelling/enable/web-readiness HTTP/2.0\" 500 25221\\n158.141.93.234 - - [21/Jun/2019:15:50:05 -0700] \"GET /target/matrix/e-markets/scale HTTP/1.1\" 203 28277\\n86.222.54.122 - - [21/Jun/2019:15:50:06 -0700] \"DELETE /roi HTTP/1.0\" 302 4586\\n142.218.156.62 - - [21/Jun/2019:15:50:07 -0700] \"GET /productize/customized HTTP/1.1\" 501 28792\\n160.10.75.87 - - [21/Jun/2019:15:50:08 -0700] \"PATCH /deliverables/engineer/implement HTTP/1.0\" 100 24006\\n8.31.177.12 - braun1922 [21/Jun/2019:15:50:09 -0700] \"PUT /transparent/niches HTTP/1.1\" 404 13410\\n205.163.93.58 - - [21/Jun/2019:15:50:10 -0700] \"HEAD /recontextualize/vertical/roi/virtual HTTP/1.1\" 100 27393\\n80.169.112.239 - - [21/Jun/2019:15:50:11 -0700] \"GET /monetize/technologies HTTP/2.0\" 400 6074\\n240.189.198.133 - price7294 [21/Jun/2019:15:50:12 -0700] \"PATCH /b2b/24%2f365 HTTP/1.0\" 405 6178\\n30.9.43.134 - marvin4115 [21/Jun/2019:15:50:13 -0700] \"GET /front-end/mindshare/bandwidth/paradigms HTTP/1.0\" 416 6955\\n88.211.3.111 - turner9291 [21/Jun/2019:15:50:14 -0700] \"PATCH /networks/grow/exploit/proactive HTTP/1.1\" 401 502\\n208.45.172.73 - vonrueden9811 [21/Jun/2019:15:50:15 -0700] \"POST /drive HTTP/1.0\" 405 25988\\n143.194.39.107 - anderson7046 [21/Jun/2019:15:50:16 -0700] \"HEAD /intuitive HTTP/1.1\" 406 10060\\n106.205.65.57 - - [21/Jun/2019:15:50:17 -0700] \"POST /mesh/scale/exploit/envisioneer HTTP/1.0\" 500 20111\\n157.163.234.192 - stamm2348 [21/Jun/2019:15:50:18 -0700] \"PUT /e-business/web-readiness/grow HTTP/1.0\" 302 20577\\n167.162.121.227 - - [21/Jun/2019:15:50:19 -0700] \"GET /target HTTP/2.0\" 500 2526\\n59.142.194.241 - - [21/Jun/2019:15:50:20 -0700] \"GET /reintermediate/bandwidth/e-business HTTP/1.0\" 203 16727\\n163.153.145.8 - doyle2015 [21/Jun/2019:15:50:21 -0700] \"PUT /engineer HTTP/1.1\" 405 25476\\n165.8.44.192 - kemmer8421 [21/Jun/2019:15:50:22 -0700] \"HEAD /repurpose HTTP/1.0\" 502 21762\\n165.99.52.175 - - [21/Jun/2019:15:50:23 -0700] \"GET /world-class/target/cross-platform HTTP/1.0\" 301 13112\\n178.84.242.98 - dare5841 [21/Jun/2019:15:50:24 -0700] \"POST /synergies/enhance/repurpose HTTP/2.0\" 500 19488\\n121.47.120.137 - - [21/Jun/2019:15:50:25 -0700] \"PUT /visualize/killer/innovative/24%2f365 HTTP/2.0\" 204 14268\\n79.123.137.87 - cassin8778 [21/Jun/2019:15:50:26 -0700] \"PATCH /e-markets/solutions/b2c/generate HTTP/2.0\" 304 2040\\n249.87.214.29 - - [21/Jun/2019:15:50:27 -0700] \"DELETE /bleeding-edge/impactful HTTP/2.0\" 302 10028\\n166.159.77.202 - - [21/Jun/2019:15:50:28 -0700] \"DELETE /reintermediate/back-end HTTP/1.0\" 304 23664\\n61.125.26.251 - - [21/Jun/2019:15:50:29 -0700] \"PUT /engineer/cutting-edge/best-of-breed/deploy HTTP/2.0\" 201 5815\\n49.118.219.8 - koelpin5285 [21/Jun/2019:15:50:30 -0700] \"HEAD /collaborative/partnerships/aggregate HTTP/1.1\" 302 20719\\n88.124.34.218 - haag5592 [21/Jun/2019:15:50:31 -0700] \"PUT /turn-key/bleeding-edge HTTP/2.0\" 203 28998\\n191.117.232.204 - kohler4380 [21/Jun/2019:15:50:32 -0700] \"GET /enterprise HTTP/2.0\" 400 6311\\n240.119.176.34 - lubowitz6149 [21/Jun/2019:15:50:33 -0700] \"DELETE /systems/one-to-one HTTP/2.0\" 501 16454\\n65.51.150.39 - - [21/Jun/2019:15:50:34 -0700] \"HEAD /platforms HTTP/1.1\" 302 11250\\n63.67.111.71 - - [21/Jun/2019:15:50:35 -0700] \"GET /content/seamless HTTP/1.1\" 502 5839\\n16.79.94.160 - - [21/Jun/2019:15:50:36 -0700] \"POST /infrastructures/models/unleash/action-items HTTP/1.1\" 200 21216\\n228.155.223.214 - - [21/Jun/2019:15:50:37 -0700] \"PATCH /cultivate/scalable/clicks-and-mortar/strategic HTTP/1.0\" 416 8451\\n235.75.106.65 - - [21/Jun/2019:15:50:38 -0700] \"PATCH /generate/visualize HTTP/2.0\" 200 29731\\n25.177.33.181 - - [21/Jun/2019:15:50:39 -0700] \"DELETE /intuitive HTTP/1.0\" 203 15552\\n79.185.171.163 - block1079 [21/Jun/2019:15:50:40 -0700] \"GET /repurpose/partnerships/bleeding-edge HTTP/2.0\" 100 19778\\n169.3.145.24 - - [21/Jun/2019:15:50:41 -0700] \"DELETE /models/collaborative/cross-media/infomediaries HTTP/1.1\" 100 27817\\n156.58.195.56 - bogisich7897 [21/Jun/2019:15:50:42 -0700] \"PUT /portals/deliverables HTTP/1.1\" 304 20982\\n150.139.169.192 - mann8285 [21/Jun/2019:15:50:43 -0700] \"PUT /e-business/bleeding-edge/optimize HTTP/1.0\" 500 17529\\n184.246.41.227 - mayert4085 [21/Jun/2019:15:50:44 -0700] \"GET /transition HTTP/2.0\" 405 21068\\n15.129.45.246 - - [21/Jun/2019:15:50:45 -0700] \"DELETE /24%2f7 HTTP/2.0\" 401 2090\\n251.38.225.127 - - [21/Jun/2019:15:50:46 -0700] \"GET /markets HTTP/2.0\" 304 7719\\n202.6.77.154 - thompson6002 [21/Jun/2019:15:50:47 -0700] \"HEAD /open-source/revolutionary/initiatives/dot-com HTTP/1.1\" 205 2638\\n140.199.235.104 - - [21/Jun/2019:15:50:48 -0700] \"GET /initiatives/e-business HTTP/1.1\" 416 21041\\n64.115.197.209 - - [21/Jun/2019:15:50:49 -0700] \"GET /applications/monetize/expedite/global HTTP/2.0\" 400 14977\\n174.184.22.106 - - [21/Jun/2019:15:50:50 -0700] \"DELETE /scale/front-end HTTP/1.1\" 301 19834\\n189.62.5.214 - romaguera5473 [21/Jun/2019:15:50:51 -0700] \"DELETE /sticky HTTP/2.0\" 201 8554\\n38.111.64.134 - bins4571 [21/Jun/2019:15:50:52 -0700] \"HEAD /bricks-and-clicks HTTP/1.1\" 406 26261\\n122.9.81.194 - stoltenberg8660 [21/Jun/2019:15:50:53 -0700] \"PUT /convergence/global/vertical/engineer HTTP/1.1\" 406 6105\\n175.68.167.31 - - [21/Jun/2019:15:50:54 -0700] \"DELETE /e-markets/b2b/robust HTTP/1.1\" 204 13955\\n7.205.75.72 - west2407 [21/Jun/2019:15:50:55 -0700] \"GET /technologies HTTP/1.1\" 203 15179\\n146.217.161.62 - - [21/Jun/2019:15:50:56 -0700] \"PUT /interfaces/leading-edge HTTP/2.0\" 401 24483\\n246.163.3.11 - willms1885 [21/Jun/2019:15:50:57 -0700] \"DELETE /dot-com HTTP/1.0\" 504 18240\\n223.235.234.173 - - [21/Jun/2019:15:50:58 -0700] \"HEAD /scalable/synergies/compelling/real-time HTTP/2.0\" 304 25415\\n203.33.27.240 - - [21/Jun/2019:15:50:59 -0700] \"HEAD /mesh HTTP/1.1\" 203 22703\\n128.7.197.97 - - [21/Jun/2019:15:51:00 -0700] \"DELETE /extensible/exploit HTTP/2.0\" 406 25717\\n120.237.31.63 - - [21/Jun/2019:15:51:01 -0700] \"GET /cross-platform/integrate/models/redefine HTTP/2.0\" 203 9037\\n23.6.200.51 - marvin8479 [21/Jun/2019:15:51:02 -0700] \"PUT /maximize/utilize HTTP/1.1\" 304 24785\\n87.56.184.191 - funk5262 [21/Jun/2019:15:51:03 -0700] \"POST /scalable/integrated HTTP/1.0\" 401 15439\\n46.252.3.42 - - [21/Jun/2019:15:51:04 -0700] \"DELETE /schemas/revolutionary/recontextualize HTTP/1.0\" 405 25198\\n96.76.27.126 - haley9579 [21/Jun/2019:15:51:05 -0700] \"PATCH /visualize/web-enabled/enhance/synergize HTTP/1.0\" 406 14324\\n130.181.59.232 - towne3635 [21/Jun/2019:15:51:06 -0700] \"GET /dot-com/functionalities HTTP/1.1\" 201 19870\\n165.111.167.225 - gottlieb6924 [21/Jun/2019:15:51:07 -0700] \"PUT /envisioneer HTTP/1.1\" 404 25080\\n223.170.242.159 - okuneva8628 [21/Jun/2019:15:51:08 -0700] \"POST /enhance/cross-platform/interactive HTTP/2.0\" 203 10629\\n202.162.118.175 - greenholt5589 [21/Jun/2019:15:51:09 -0700] \"PATCH /maximize HTTP/1.1\" 205 7623\\n230.220.15.38 - gulgowski7868 [21/Jun/2019:15:51:10 -0700] \"DELETE /innovate/facilitate/users HTTP/1.0\" 403 5670\\n104.142.156.232 - - [21/Jun/2019:15:51:11 -0700] \"GET /enterprise/envisioneer HTTP/1.1\" 304 13944\\n154.8.73.245 - - [21/Jun/2019:15:51:12 -0700] \"GET /best-of-breed HTTP/1.0\" 501 18764\\n33.26.188.200 - raynor9337 [21/Jun/2019:15:51:13 -0700] \"POST /24%2f7 HTTP/2.0\" 204 9223\\n211.17.216.102 - kshlerin3121 [21/Jun/2019:15:51:14 -0700] \"DELETE /functionalities HTTP/1.1\" 503 1890\\n188.10.135.15 - - [21/Jun/2019:15:51:15 -0700] \"HEAD /roi/enterprise HTTP/1.0\" 100 11229\\n163.157.76.212 - - [21/Jun/2019:15:51:16 -0700] \"HEAD /orchestrate/embrace/empower HTTP/1.0\" 406 8932\\n45.100.57.217 - - [21/Jun/2019:15:51:17 -0700] \"POST /unleash/aggregate/integrate HTTP/2.0\" 100 8376\\n58.169.115.117 - - [21/Jun/2019:15:51:18 -0700] \"POST /plug-and-play/facilitate/synergies/rich HTTP/2.0\" 401 19651\\n93.153.48.201 - cruickshank4469 [21/Jun/2019:15:51:19 -0700] \"GET /interactive/e-business/architect HTTP/2.0\" 404 4262\\n228.203.34.179 - bednar2337 [21/Jun/2019:15:51:20 -0700] \"HEAD /implement HTTP/1.0\" 100 8454\\n64.87.108.81 - - [21/Jun/2019:15:51:21 -0700] \"PATCH /leverage HTTP/1.0\" 301 8279\\n66.198.80.221 - ebert4690 [21/Jun/2019:15:51:22 -0700] \"PUT /leading-edge HTTP/1.0\" 503 1802\\n127.251.49.55 - bednar7249 [21/Jun/2019:15:51:23 -0700] \"PATCH /dynamic/engage/facilitate HTTP/1.1\" 400 6194\\n67.232.93.92 - borer9296 [21/Jun/2019:15:51:24 -0700] \"POST /cultivate HTTP/1.0\" 100 22390\\n214.236.248.87 - considine7686 [21/Jun/2019:15:51:25 -0700] \"PUT /repurpose/24%2f365 HTTP/2.0\" 204 13481\\n193.228.202.211 - - [21/Jun/2019:15:51:26 -0700] \"POST /e-markets/seamless HTTP/1.0\" 204 7564\\n23.52.106.162 - hettinger9833 [21/Jun/2019:15:51:27 -0700] \"GET /leading-edge/24%2f365 HTTP/2.0\" 504 7854\\n132.233.4.128 - - [21/Jun/2019:15:51:28 -0700] \"GET /channels/orchestrate/drive/vortals HTTP/1.0\" 203 16590\\n249.183.121.148 - adams5230 [21/Jun/2019:15:51:29 -0700] \"PUT /world-class/models HTTP/1.1\" 203 21199\\n16.56.50.149 - friesen3358 [21/Jun/2019:15:51:30 -0700] \"GET /monetize/repurpose/infomediaries/infrastructures HTTP/2.0\" 501 16500\\n246.181.246.57 - hudson5809 [21/Jun/2019:15:51:31 -0700] \"PUT /transition/enhance/partnerships HTTP/2.0\" 500 1919\\n55.148.73.4 - - [21/Jun/2019:15:51:32 -0700] \"HEAD /interactive/infrastructures/interfaces HTTP/1.1\" 201 5886\\n39.149.166.187 - - [21/Jun/2019:15:51:33 -0700] \"GET /extensible HTTP/2.0\" 100 27347\\n249.132.14.253 - - [21/Jun/2019:15:51:34 -0700] \"POST /technologies/bricks-and-clicks/action-items HTTP/1.1\" 200 13405\\n199.251.34.231 - kilback6840 [21/Jun/2019:15:51:35 -0700] \"PUT /24%2f365/granular/synergistic HTTP/2.0\" 502 23140\\n161.216.88.248 - - [21/Jun/2019:15:51:36 -0700] \"PATCH /niches HTTP/1.0\" 200 20951\\n39.95.201.29 - dooley1637 [21/Jun/2019:15:51:37 -0700] \"DELETE /leading-edge HTTP/1.0\" 405 27084\\n29.183.210.228 - toy9491 [21/Jun/2019:15:51:38 -0700] \"DELETE /scale HTTP/1.0\" 401 13803\\n44.59.227.68 - - [21/Jun/2019:15:51:39 -0700] \"PUT /generate/unleash HTTP/1.0\" 501 15998\\n99.205.229.248 - - [21/Jun/2019:15:51:40 -0700] \"GET /experiences/extend/front-end/robust HTTP/1.1\" 404 28913\\n223.52.70.91 - - [21/Jun/2019:15:51:41 -0700] \"POST /integrated/deliverables/portals/orchestrate HTTP/1.1\" 503 26966\\n182.56.238.95 - - [21/Jun/2019:15:51:42 -0700] \"PATCH /content/models HTTP/1.1\" 205 6246\\n111.64.171.65 - stanton9204 [21/Jun/2019:15:51:43 -0700] \"PUT /cultivate HTTP/1.0\" 406 9545\\n157.117.129.160 - bogisich6895 [21/Jun/2019:15:51:44 -0700] \"PUT /open-source HTTP/2.0\" 201 6642\\n232.117.182.116 - conn7515 [21/Jun/2019:15:51:45 -0700] \"POST /empower/disintermediate/24%2f365 HTTP/1.0\" 205 3614\\n174.174.210.5 - funk5090 [21/Jun/2019:15:51:46 -0700] \"HEAD /intuitive HTTP/2.0\" 406 10069\\n94.96.145.184 - romaguera2467 [21/Jun/2019:15:51:47 -0700] \"DELETE /paradigms/reintermediate/e-services/cutting-edge HTTP/2.0\" 100 19433\\n174.67.179.60 - - [21/Jun/2019:15:51:48 -0700] \"POST /mission-critical/reintermediate/virtual HTTP/1.0\" 304 10757\\n249.71.172.194 - braun5844 [21/Jun/2019:15:51:49 -0700] \"PUT /unleash/enterprise/optimize HTTP/2.0\" 503 16903\\n164.195.121.133 - kutch2379 [21/Jun/2019:15:51:50 -0700] \"HEAD /maximize/back-end/metrics HTTP/1.0\" 302 28608\\n228.173.203.108 - harvey5371 [21/Jun/2019:15:51:51 -0700] \"POST /eyeballs/back-end/platforms HTTP/1.0\" 502 6243\\n158.216.44.90 - - [21/Jun/2019:15:51:52 -0700] \"POST /compelling/enable/communities HTTP/2.0\" 416 394\\n48.69.222.149 - - [21/Jun/2019:15:51:53 -0700] \"GET /plug-and-play/virtual/systems HTTP/2.0\" 301 15663\\n108.75.3.212 - cummings7077 [21/Jun/2019:15:51:54 -0700] \"PATCH /architect/e-business HTTP/1.1\" 200 29643\\n61.48.202.41 - walsh4800 [21/Jun/2019:15:51:55 -0700] \"POST /disintermediate HTTP/1.0\" 205 13833\\n158.231.61.197 - - [21/Jun/2019:15:51:56 -0700] \"PATCH /architectures/bleeding-edge HTTP/2.0\" 416 15634\\n155.35.201.177 - eichmann8620 [21/Jun/2019:15:51:57 -0700] \"POST /morph HTTP/1.1\" 200 17960\\n91.198.202.81 - - [21/Jun/2019:15:51:58 -0700] \"HEAD /architectures/visualize/innovate/target HTTP/1.1\" 500 17365\\n124.17.214.111 - kuhn7507 [21/Jun/2019:15:51:59 -0700] \"GET /orchestrate/vertical/technologies HTTP/2.0\" 501 19307\\n9.7.44.67 - - [21/Jun/2019:15:52:00 -0700] \"PATCH /b2c/optimize/channels HTTP/1.0\" 100 29761\\n137.220.255.247 - - [21/Jun/2019:15:52:01 -0700] \"POST /bleeding-edge/target/customized/frictionless HTTP/1.1\" 205 4630\\n114.109.41.74 - - [21/Jun/2019:15:52:02 -0700] \"GET /morph HTTP/2.0\" 406 27553\\n240.34.246.125 - - [21/Jun/2019:15:52:03 -0700] \"HEAD /monetize/sexy HTTP/1.1\" 100 25152\\n141.132.102.21 - - [21/Jun/2019:15:52:04 -0700] \"PUT /content/benchmark HTTP/1.1\" 400 5161\\n98.195.245.214 - - [21/Jun/2019:15:52:05 -0700] \"PUT /channels HTTP/2.0\" 203 19529\\n234.153.219.198 - - [21/Jun/2019:15:52:06 -0700] \"PATCH /partnerships/seamless HTTP/1.0\" 401 15575\\n188.250.73.73 - kohler6082 [21/Jun/2019:15:52:07 -0700] \"HEAD /mindshare/facilitate HTTP/1.0\" 301 20274\\n216.226.60.135 - - [21/Jun/2019:15:52:08 -0700] \"POST /user-centric/mesh/iterate HTTP/1.1\" 204 15566\\n11.138.50.170 - - [21/Jun/2019:15:52:09 -0700] \"HEAD /next-generation/paradigms HTTP/1.1\" 404 20839\\n208.116.224.152 - gutkowski5880 [21/Jun/2019:15:52:10 -0700] \"DELETE /revolutionary/portals HTTP/2.0\" 204 9389\\n192.186.62.61 - - [21/Jun/2019:15:52:11 -0700] \"POST /maximize/niches/channels HTTP/1.0\" 304 9944\\n191.79.84.144 - barrows5745 [21/Jun/2019:15:52:12 -0700] \"PUT /cross-platform HTTP/1.0\" 200 9595\\n177.166.106.59 - - [21/Jun/2019:15:52:13 -0700] \"PUT /holistic/models HTTP/1.1\" 401 153\\n33.36.92.97 - - [21/Jun/2019:15:52:14 -0700] \"PATCH /redefine/value-added/synergistic/customized HTTP/2.0\" 404 13358\\n63.4.200.214 - glover3672 [21/Jun/2019:15:52:15 -0700] \"PUT /architectures/infrastructures HTTP/1.1\" 405 15396\\n141.127.230.209 - bode3507 [21/Jun/2019:15:52:16 -0700] \"PUT /e-services/next-generation/efficient/ubiquitous HTTP/1.0\" 400 28705\\n169.143.27.7 - - [21/Jun/2019:15:52:17 -0700] \"PATCH /synthesize/methodologies HTTP/2.0\" 204 13840\\n129.130.170.57 - - [21/Jun/2019:15:52:18 -0700] \"HEAD /seize/deploy/strategic HTTP/1.0\" 404 27090\\n57.161.31.62 - - [21/Jun/2019:15:52:19 -0700] \"DELETE /viral HTTP/1.1\" 501 11817\\n24.212.111.42 - reilly5235 [21/Jun/2019:15:52:20 -0700] \"GET /niches HTTP/1.0\" 403 5553\\n210.159.24.173 - jacobs7691 [21/Jun/2019:15:52:21 -0700] \"PATCH /portals HTTP/1.0\" 501 8868\\n154.37.76.207 - schowalter4620 [21/Jun/2019:15:52:22 -0700] \"PATCH /envisioneer HTTP/1.0\" 406 14925\\n139.217.225.28 - schaden7207 [21/Jun/2019:15:52:23 -0700] \"GET /magnetic/bricks-and-clicks HTTP/1.0\" 304 22496\\n140.2.207.126 - - [21/Jun/2019:15:52:24 -0700] \"GET /impactful HTTP/1.1\" 301 17173\\n72.71.45.246 - beier2969 [21/Jun/2019:15:52:25 -0700] \"PATCH /generate/productize/disintermediate HTTP/2.0\" 200 5331\\n160.189.253.237 - - [21/Jun/2019:15:52:26 -0700] \"GET /aggregate HTTP/2.0\" 205 16278\\n107.32.126.199 - schmidt4514 [21/Jun/2019:15:52:27 -0700] \"GET /optimize HTTP/1.1\" 200 2564\\n5.36.208.122 - bayer5640 [21/Jun/2019:15:52:28 -0700] \"GET /repurpose/models HTTP/1.1\" 403 3406\\n44.215.179.53 - - [21/Jun/2019:15:52:29 -0700] \"POST /e-markets HTTP/2.0\" 416 15714\\n32.165.44.159 - - [21/Jun/2019:15:52:30 -0700] \"PUT /front-end/seize HTTP/1.1\" 502 17938\\n49.8.35.58 - donnelly9040 [21/Jun/2019:15:52:31 -0700] \"GET /architectures/compelling/networks HTTP/1.1\" 400 24420\\n120.69.200.153 - pfannerstill2409 [21/Jun/2019:15:52:32 -0700] \"POST /extend/portals/clicks-and-mortar/matrix HTTP/1.0\" 100 23795\\n225.216.200.227 - bartell3136 [21/Jun/2019:15:52:33 -0700] \"POST /enable HTTP/1.1\" 416 7726\\n129.4.94.31 - - [21/Jun/2019:15:52:34 -0700] \"GET /partnerships/cutting-edge HTTP/2.0\" 405 11388\\n124.142.244.60 - - [21/Jun/2019:15:52:35 -0700] \"GET /revolutionize/matrix/end-to-end/paradigms HTTP/1.0\" 301 11810\\n113.118.36.178 - abernathy3937 [21/Jun/2019:15:52:36 -0700] \"GET /expedite/web-readiness/cutting-edge HTTP/2.0\" 401 7770\\n244.172.72.142 - - [21/Jun/2019:15:52:37 -0700] \"PATCH /mindshare HTTP/2.0\" 401 4039\\n115.198.27.247 - denesik1416 [21/Jun/2019:15:52:38 -0700] \"PATCH /incubate/rich HTTP/1.0\" 302 16652\\n160.111.19.169 - roob2215 [21/Jun/2019:15:52:39 -0700] \"POST /transform/magnetic/grow/interfaces HTTP/1.1\" 204 28810\\n245.2.226.215 - rau3028 [21/Jun/2019:15:52:40 -0700] \"PUT /integrate HTTP/2.0\" 401 27900\\n100.34.101.236 - cartwright2493 [21/Jun/2019:15:52:41 -0700] \"PUT /mesh/bleeding-edge/sexy HTTP/2.0\" 501 4334\\n183.23.223.119 - - [21/Jun/2019:15:52:42 -0700] \"GET /roi/content/bleeding-edge HTTP/1.0\" 100 3204\\n196.228.156.210 - parisian7014 [21/Jun/2019:15:52:43 -0700] \"HEAD /synergize HTTP/1.0\" 302 528\\n107.121.136.255 - wolff3688 [21/Jun/2019:15:52:44 -0700] \"POST /portals HTTP/1.0\" 404 529\\n67.243.77.88 - - [21/Jun/2019:15:52:45 -0700] \"GET /architectures/streamline/integrated HTTP/1.0\" 302 18356\\n154.193.194.236 - - [21/Jun/2019:15:52:46 -0700] \"POST /open-source/exploit HTTP/1.1\" 403 29246\\n7.44.169.193 - - [21/Jun/2019:15:52:47 -0700] \"DELETE /models HTTP/2.0\" 502 21765\\n89.230.201.79 - - [21/Jun/2019:15:52:48 -0700] \"POST /efficient/morph/methodologies/e-enable HTTP/2.0\" 200 5960\\n102.74.238.85 - bosco8918 [21/Jun/2019:15:52:49 -0700] \"POST /viral/infomediaries/magnetic HTTP/1.0\" 403 27823\\n97.11.140.220 - - [21/Jun/2019:15:52:50 -0700] \"POST /one-to-one/solutions/visualize/out-of-the-box HTTP/1.0\" 504 21687\\n121.161.69.92 - - [21/Jun/2019:15:52:51 -0700] \"PUT /enable/seamless/strategize HTTP/1.0\" 500 14392\\n139.54.42.244 - - [21/Jun/2019:15:52:52 -0700] \"HEAD /content/implement HTTP/1.1\" 200 13971\\n90.96.49.33 - - [21/Jun/2019:15:52:53 -0700] \"PATCH /infomediaries/e-services/facilitate HTTP/1.1\" 400 14916\\n234.26.87.233 - stehr6393 [21/Jun/2019:15:52:54 -0700] \"DELETE /value-added/incubate/morph HTTP/1.0\" 504 26317\\n157.237.224.179 - wintheiser5662 [21/Jun/2019:15:52:55 -0700] \"POST /benchmark/generate/streamline/paradigms HTTP/1.0\" 100 18870\\n195.195.194.123 - raynor1706 [21/Jun/2019:15:52:56 -0700] \"PUT /whiteboard/roi/transition HTTP/1.1\" 502 12033\\n74.202.178.240 - gaylord7396 [21/Jun/2019:15:52:57 -0700] \"HEAD /visionary/incubate HTTP/1.1\" 400 19916\\n155.123.176.15 - streich4473 [21/Jun/2019:15:52:58 -0700] \"GET /content/optimize/benchmark HTTP/1.0\" 204 8570\\n249.33.212.82 - - [21/Jun/2019:15:52:59 -0700] \"POST /dot-com/granular HTTP/1.0\" 504 9753\\n189.254.43.43 - swift6867 [21/Jun/2019:15:53:00 -0700] \"GET /architectures/recontextualize/morph/scale HTTP/1.0\" 204 8976\\n20.80.28.12 - hagenes4423 [21/Jun/2019:15:53:01 -0700] \"POST /harness HTTP/1.1\" 404 28127\\n44.188.73.217 - volkman6528 [21/Jun/2019:15:53:02 -0700] \"POST /clicks-and-mortar/user-centric HTTP/1.1\" 400 29325\\n112.211.50.38 - - [21/Jun/2019:15:53:03 -0700] \"DELETE /harness/e-business/functionalities HTTP/1.1\" 405 7975\\n90.53.226.196 - bogan1483 [21/Jun/2019:15:53:04 -0700] \"PATCH /b2b/portals HTTP/2.0\" 205 10478\\n55.136.150.69 - - [21/Jun/2019:15:53:05 -0700] \"DELETE /transition/viral/deliver/repurpose HTTP/1.1\" 502 4920\\n243.93.66.22 - - [21/Jun/2019:15:53:06 -0700] \"HEAD /robust/channels/recontextualize HTTP/1.0\" 205 27408\\n15.42.157.35 - - [21/Jun/2019:15:53:07 -0700] \"PUT /bricks-and-clicks/extensible HTTP/2.0\" 100 24743\\n200.229.201.189 - donnelly8614 [21/Jun/2019:15:53:08 -0700] \"GET /interfaces/unleash/impactful/reinvent HTTP/1.0\" 205 23207\\n234.75.192.179 - - [21/Jun/2019:15:53:09 -0700] \"PUT /iterate/virtual/strategic/seamless HTTP/1.1\" 100 21181\\n212.96.45.103 - - [21/Jun/2019:15:53:10 -0700] \"PATCH /real-time/extend/relationships HTTP/1.0\" 403 29333\\n144.111.159.48 - - [21/Jun/2019:15:53:11 -0700] \"PUT /maximize/target/e-tailers HTTP/1.0\" 203 11373\\n172.82.22.49 - cummerata1461 [21/Jun/2019:15:53:12 -0700] \"GET /mindshare HTTP/1.1\" 302 28517\\n205.242.25.172 - - [21/Jun/2019:15:53:13 -0700] \"POST /integrate/cross-platform/evolve HTTP/1.0\" 205 5663\\n85.160.9.60 - - [21/Jun/2019:15:53:14 -0700] \"PATCH /incubate HTTP/2.0\" 502 4273\\n189.55.69.57 - huel9795 [21/Jun/2019:15:53:15 -0700] \"POST /interfaces/synthesize/methodologies HTTP/1.0\" 500 22663\\n181.223.103.195 - gerhold3770 [21/Jun/2019:15:53:16 -0700] \"PATCH /markets/disintermediate/orchestrate/mesh HTTP/1.1\" 504 21015\\n119.228.175.191 - mills5084 [21/Jun/2019:15:53:17 -0700] \"DELETE /robust HTTP/2.0\" 403 11283\\n139.238.48.126 - champlin2089 [21/Jun/2019:15:53:18 -0700] \"GET /frictionless/matrix/exploit HTTP/2.0\" 100 14676\\n220.144.18.79 - - [21/Jun/2019:15:53:19 -0700] \"GET /vortals/morph HTTP/1.1\" 205 11560\\n56.2.41.119 - - [21/Jun/2019:15:53:20 -0700] \"PUT /end-to-end/architect HTTP/1.1\" 504 24057\\n141.228.58.58 - - [21/Jun/2019:15:53:21 -0700] \"PATCH /mission-critical/convergence HTTP/1.1\" 404 4099\\n201.46.41.176 - - [21/Jun/2019:15:53:22 -0700] \"HEAD /harness/rich HTTP/2.0\" 401 9762\\n66.144.178.220 - beatty7852 [21/Jun/2019:15:53:23 -0700] \"PATCH /front-end HTTP/1.1\" 406 3054\\n70.117.216.192 - schultz9259 [21/Jun/2019:15:53:24 -0700] \"DELETE /strategic HTTP/2.0\" 504 25380\\n74.32.95.111 - - [21/Jun/2019:15:53:25 -0700] \"PUT /e-tailers/optimize/functionalities HTTP/1.1\" 201 23957\\n77.136.27.38 - - [21/Jun/2019:15:53:26 -0700] \"HEAD /visionary/repurpose/applications/markets HTTP/1.1\" 405 2521\\n205.95.15.13 - - [21/Jun/2019:15:53:27 -0700] \"GET /grow/recontextualize/visualize HTTP/2.0\" 500 14591\\n2.5.3.238 - - [21/Jun/2019:15:53:28 -0700] \"GET /evolve/compelling HTTP/1.1\" 301 16126\\n168.223.229.31 - lindgren9821 [21/Jun/2019:15:53:29 -0700] \"HEAD /b2c/expedite/innovate HTTP/1.1\" 201 791\\n205.174.167.205 - - [21/Jun/2019:15:53:30 -0700] \"PUT /partnerships HTTP/1.0\" 201 8884\\n169.142.205.93 - moore8388 [21/Jun/2019:15:53:31 -0700] \"HEAD /bricks-and-clicks HTTP/1.0\" 403 12098\\n86.48.209.75 - friesen4112 [21/Jun/2019:15:53:32 -0700] \"PATCH /turn-key HTTP/1.1\" 500 19470\\n154.4.3.89 - - [21/Jun/2019:15:53:33 -0700] \"POST /back-end/leverage HTTP/1.1\" 301 12638\\n128.29.111.92 - schiller1863 [21/Jun/2019:15:53:34 -0700] \"HEAD /transform/revolutionize HTTP/1.0\" 304 9069\\n177.82.19.108 - - [21/Jun/2019:15:53:35 -0700] \"POST /end-to-end/revolutionary/drive/partnerships HTTP/1.0\" 405 23347\\n187.108.233.86 - - [21/Jun/2019:15:53:36 -0700] \"POST /harness HTTP/1.0\" 504 3128\\n234.228.65.79 - littel6195 [21/Jun/2019:15:53:37 -0700] \"PATCH /aggregate/frictionless HTTP/1.0\" 403 11175\\n168.187.114.55 - - [21/Jun/2019:15:53:38 -0700] \"PATCH /synthesize HTTP/1.0\" 301 16905\\n161.215.232.221 - leffler5851 [21/Jun/2019:15:53:39 -0700] \"POST /incubate/integrate/evolve/dynamic HTTP/1.0\" 302 13236\\n243.52.53.16 - - [21/Jun/2019:15:53:40 -0700] \"POST /impactful HTTP/1.0\" 416 26972\\n26.228.235.113 - renner7608 [21/Jun/2019:15:53:41 -0700] \"GET /intuitive HTTP/1.0\" 406 4789\\n52.245.137.48 - torp1455 [21/Jun/2019:15:53:42 -0700] \"PUT /customized/front-end/compelling HTTP/2.0\" 302 15604\\n242.204.24.88 - flatley5085 [21/Jun/2019:15:53:43 -0700] \"GET /ubiquitous/out-of-the-box/embrace/roi HTTP/2.0\" 302 4188\\n57.79.67.84 - - [21/Jun/2019:15:53:44 -0700] \"HEAD /killer/reinvent HTTP/1.0\" 304 15739\\n98.228.147.147 - - [21/Jun/2019:15:53:45 -0700] \"DELETE /portals/b2c/world-class/networks HTTP/1.1\" 304 8396\\n152.235.217.21 - adams1613 [21/Jun/2019:15:53:46 -0700] \"GET /infrastructures/vortals/proactive/interactive HTTP/2.0\" 301 25297\\n65.9.18.209 - - [21/Jun/2019:15:53:47 -0700] \"PATCH /aggregate HTTP/1.0\" 301 13831\\n2.189.173.174 - - [21/Jun/2019:15:53:48 -0700] \"POST /web-readiness/end-to-end HTTP/1.1\" 100 22219\\n227.249.188.131 - kovacek4008 [21/Jun/2019:15:53:49 -0700] \"GET /action-items/strategize/visionary/channels HTTP/1.1\" 201 22885\\n111.215.175.31 - roob7404 [21/Jun/2019:15:53:50 -0700] \"PUT /envisioneer HTTP/2.0\" 501 26605\\n181.72.91.127 - - [21/Jun/2019:15:53:51 -0700] \"DELETE /grow HTTP/1.0\" 501 10508\\n24.20.15.114 - - [21/Jun/2019:15:53:52 -0700] \"PATCH /deploy HTTP/1.1\" 200 21737\\n126.117.53.188 - - [21/Jun/2019:15:53:53 -0700] \"POST /next-generation HTTP/1.1\" 501 857\\n34.37.57.246 - pacocha5980 [21/Jun/2019:15:53:54 -0700] \"PUT /architectures/recontextualize HTTP/1.0\" 200 26514\\n177.181.89.94 - friesen8390 [21/Jun/2019:15:53:55 -0700] \"DELETE /leverage/enhance HTTP/2.0\" 403 4882\\n135.219.76.189 - - [21/Jun/2019:15:53:56 -0700] \"GET /cross-platform/convergence/users/intuitive HTTP/1.0\" 401 9741\\n77.228.64.198 - steuber9732 [21/Jun/2019:15:53:57 -0700] \"PATCH /end-to-end/vortals/applications HTTP/1.0\" 501 25614\\n158.150.165.167 - - [21/Jun/2019:15:53:58 -0700] \"HEAD /strategic/aggregate/unleash/brand HTTP/2.0\" 304 12469\\n230.118.138.25 - - [21/Jun/2019:15:53:59 -0700] \"POST /mission-critical/dynamic/frictionless/interfaces HTTP/2.0\" 200 21888\\n8.164.90.252 - - [21/Jun/2019:15:54:00 -0700] \"DELETE /solutions/best-of-breed/empower HTTP/1.1\" 203 7877\\n126.202.3.228 - cassin9066 [21/Jun/2019:15:54:01 -0700] \"PATCH /brand/ubiquitous/scale HTTP/1.0\" 503 18477\\n134.146.54.60 - feil3529 [21/Jun/2019:15:54:02 -0700] \"DELETE /eyeballs/streamline/holistic HTTP/1.0\" 301 7528\\n19.245.212.207 - walsh8648 [21/Jun/2019:15:54:03 -0700] \"GET /recontextualize HTTP/1.1\" 100 23763\\n98.143.107.61 - reilly5813 [21/Jun/2019:15:54:04 -0700] \"HEAD /channels HTTP/1.1\" 205 23167\\n235.231.96.133 - feest6743 [21/Jun/2019:15:54:05 -0700] \"PATCH /24%2f365 HTTP/1.0\" 401 4756\\n199.202.145.137 - - [21/Jun/2019:15:54:06 -0700] \"POST /deliver/communities/transition/exploit HTTP/2.0\" 100 13511\\n61.67.88.190 - - [21/Jun/2019:15:54:07 -0700] \"PATCH /rich/user-centric HTTP/2.0\" 406 16524\\n207.78.145.233 - - [21/Jun/2019:15:54:08 -0700] \"DELETE /vortals/viral/integrated/deploy HTTP/1.0\" 405 13665\\n124.199.28.96 - conroy1743 [21/Jun/2019:15:54:09 -0700] \"PATCH /generate/global HTTP/2.0\" 401 14843\\n249.3.215.17 - daugherty5037 [21/Jun/2019:15:54:10 -0700] \"GET /cross-platform/syndicate/unleash HTTP/2.0\" 401 23079\\n213.54.223.189 - batz7344 [21/Jun/2019:15:54:11 -0700] \"DELETE /maximize/extensible/open-source/facilitate HTTP/1.0\" 302 11617\\n235.109.203.135 - mitchell2009 [21/Jun/2019:15:54:12 -0700] \"POST /holistic HTTP/2.0\" 205 29998\\n173.176.32.197 - reilly4254 [21/Jun/2019:15:54:13 -0700] \"HEAD /experiences/e-business/grow/matrix HTTP/1.0\" 404 1603\\n53.38.186.102 - - [21/Jun/2019:15:54:14 -0700] \"GET /utilize/convergence HTTP/2.0\" 401 10884\\n12.85.93.59 - - [21/Jun/2019:15:54:15 -0700] \"PATCH /supply-chains/viral HTTP/1.0\" 401 6389\\n20.180.86.45 - ritchie8554 [21/Jun/2019:15:54:16 -0700] \"PUT /holistic HTTP/1.1\" 301 22861\\n96.233.17.26 - - [21/Jun/2019:15:54:17 -0700] \"POST /deliver HTTP/1.0\" 501 14350\\n125.180.138.91 - corkery6385 [21/Jun/2019:15:54:18 -0700] \"HEAD /innovate/sticky/distributed HTTP/1.1\" 204 13097\\n112.107.18.54 - - [21/Jun/2019:15:54:19 -0700] \"PATCH /sexy/web-readiness/impactful HTTP/1.0\" 500 20589\\n227.156.209.101 - - [21/Jun/2019:15:54:20 -0700] \"PATCH /markets/revolutionary HTTP/1.1\" 500 25001\\n226.178.150.114 - donnelly1349 [21/Jun/2019:15:54:21 -0700] \"PATCH /productize/expedite HTTP/1.1\" 405 17901\\n222.111.57.138 - - [21/Jun/2019:15:54:22 -0700] \"POST /intuitive/revolutionize/networks HTTP/2.0\" 302 4716\\n185.16.173.169 - mcdermott9999 [21/Jun/2019:15:54:23 -0700] \"PUT /maximize/bricks-and-clicks HTTP/2.0\" 403 3985\\n82.165.247.195 - lueilwitz2757 [21/Jun/2019:15:54:24 -0700] \"DELETE /facilitate/bricks-and-clicks/models HTTP/1.1\" 504 5477\\n44.53.132.30 - beatty4977 [21/Jun/2019:15:54:25 -0700] \"HEAD /cross-platform HTTP/2.0\" 204 13191\\n203.86.100.44 - dickens5496 [21/Jun/2019:15:54:26 -0700] \"PATCH /integrated/distributed/streamline HTTP/2.0\" 201 28870\\n33.223.33.138 - kling6394 [21/Jun/2019:15:54:27 -0700] \"PUT /back-end/initiatives/monetize/repurpose HTTP/2.0\" 416 17917\\n140.133.33.65 - - [21/Jun/2019:15:54:28 -0700] \"PATCH /maximize/plug-and-play/disintermediate HTTP/1.0\" 304 636\\n98.50.208.199 - - [21/Jun/2019:15:54:29 -0700] \"GET /platforms/front-end/value-added/compelling HTTP/2.0\" 200 28563\\n143.178.70.198 - - [21/Jun/2019:15:54:30 -0700] \"HEAD /magnetic/architectures/communities HTTP/1.1\" 204 20913\\n143.90.188.100 - lebsack6923 [21/Jun/2019:15:54:31 -0700] \"PATCH /target/back-end HTTP/1.1\" 201 6259\\n49.177.24.144 - - [21/Jun/2019:15:54:32 -0700] \"PATCH /open-source/interactive/vortals HTTP/1.0\" 504 3643\\n135.82.180.104 - - [21/Jun/2019:15:54:33 -0700] \"DELETE /harness/innovate/synergize/innovative HTTP/2.0\" 205 28686\\n185.89.247.140 - leannon8734 [21/Jun/2019:15:54:34 -0700] \"GET /deliverables HTTP/2.0\" 503 5780\\n198.145.234.102 - - [21/Jun/2019:15:54:35 -0700] \"DELETE /24%2f7/networks/drive/mission-critical HTTP/2.0\" 403 21119\\n25.102.58.39 - - [21/Jun/2019:15:54:36 -0700] \"HEAD /maximize/transition HTTP/1.0\" 302 5016\\n47.245.29.79 - - [21/Jun/2019:15:54:37 -0700] \"GET /deliver/customized HTTP/1.0\" 205 22778\\n219.142.205.21 - oreilly3853 [21/Jun/2019:15:54:38 -0700] \"PUT /compelling HTTP/1.0\" 501 2873\\n196.254.67.141 - - [21/Jun/2019:15:54:39 -0700] \"PATCH /seize/users/users HTTP/1.0\" 204 20327\\n213.119.21.213 - thompson6913 [21/Jun/2019:15:54:40 -0700] \"PUT /bandwidth/holistic HTTP/2.0\" 404 18754\\n210.3.4.187 - - [21/Jun/2019:15:54:41 -0700] \"PUT /target/engineer/b2b/ubiquitous HTTP/2.0\" 401 25267\\n159.75.120.41 - muller7604 [21/Jun/2019:15:54:42 -0700] \"GET /incentivize HTTP/2.0\" 100 28646\\n191.87.212.31 - - [21/Jun/2019:15:54:43 -0700] \"POST /synergies/deliver/extend HTTP/1.1\" 406 16375\\n2.23.245.201 - swaniawski1648 [21/Jun/2019:15:54:44 -0700] \"DELETE /matrix/leverage/infomediaries/viral HTTP/1.0\" 304 25867\\n222.90.182.151 - braun1134 [21/Jun/2019:15:54:45 -0700] \"PATCH /transition HTTP/2.0\" 302 28995\\n193.65.135.69 - - [21/Jun/2019:15:54:46 -0700] \"POST /one-to-one HTTP/1.1\" 203 17712\\n180.133.234.236 - - [21/Jun/2019:15:54:47 -0700] \"DELETE /bandwidth/bricks-and-clicks/proactive HTTP/1.0\" 302 13612\\n39.13.230.225 - - [21/Jun/2019:15:54:48 -0700] \"POST /target/transition HTTP/1.1\" 404 20353\\n173.229.51.155 - fahey6288 [21/Jun/2019:15:54:49 -0700] \"PUT /grow HTTP/1.0\" 302 20549\\n181.166.48.160 - jacobi1228 [21/Jun/2019:15:54:50 -0700] \"HEAD /channels/enhance/magnetic/plug-and-play HTTP/1.1\" 416 15679\\n18.105.36.235 - - [21/Jun/2019:15:54:51 -0700] \"PUT /envisioneer/solutions/open-source/bandwidth HTTP/1.1\" 500 1524\\n94.55.84.135 - walker7116 [21/Jun/2019:15:54:52 -0700] \"DELETE /engineer/one-to-one/e-services HTTP/2.0\" 205 8246\\n230.19.217.65 - - [21/Jun/2019:15:54:53 -0700] \"HEAD /synergistic/initiatives/wireless/users HTTP/1.1\" 200 8094\\n36.169.23.149 - - [21/Jun/2019:15:54:54 -0700] \"DELETE /e-enable HTTP/1.0\" 403 4384\\n123.179.141.133 - hammes4241 [21/Jun/2019:15:54:55 -0700] \"GET /unleash HTTP/1.1\" 204 22303\\n132.175.224.20 - - [21/Jun/2019:15:54:56 -0700] \"DELETE /disintermediate/synergistic/next-generation HTTP/2.0\" 400 4645\\n174.214.159.95 - - [21/Jun/2019:15:54:57 -0700] \"PUT /visionary HTTP/1.0\" 204 11052\\n243.59.167.215 - - [21/Jun/2019:15:54:58 -0700] \"POST /world-class/value-added/frictionless/monetize HTTP/1.1\" 203 1143\\n67.233.253.149 - dubuque4293 [21/Jun/2019:15:54:59 -0700] \"PATCH /synthesize HTTP/1.1\" 200 8521\\n235.52.222.116 - williamson4151 [21/Jun/2019:15:55:00 -0700] \"HEAD /initiatives HTTP/1.1\" 200 23203\\n202.70.201.64 - - [21/Jun/2019:15:55:01 -0700] \"PUT /facilitate HTTP/2.0\" 203 5823\\n33.102.37.6 - - [21/Jun/2019:15:55:02 -0700] \"GET /cutting-edge/synergistic/solutions/systems HTTP/1.1\" 200 6472\\n248.51.2.230 - - [21/Jun/2019:15:55:03 -0700] \"DELETE /applications/recontextualize/synergies/web-enabled HTTP/1.1\" 203 27419\\n253.154.36.160 - - [21/Jun/2019:15:55:04 -0700] \"POST /e-markets/optimize HTTP/1.1\" 201 23471\\n162.104.12.102 - heidenreich1792 [21/Jun/2019:15:55:05 -0700] \"PUT /e-enable HTTP/2.0\" 503 20509\\n59.240.133.90 - - [21/Jun/2019:15:55:06 -0700] \"PUT /vertical/bricks-and-clicks/exploit/wireless HTTP/2.0\" 416 7065\\n91.164.20.118 - leffler4523 [21/Jun/2019:15:55:07 -0700] \"PUT /grow/granular/optimize HTTP/1.0\" 501 29927\\n28.107.146.49 - - [21/Jun/2019:15:55:08 -0700] \"PUT /leverage/platforms/customized/interfaces HTTP/1.0\" 100 3915\\n165.95.61.210 - - [21/Jun/2019:15:55:09 -0700] \"DELETE /efficient/benchmark HTTP/2.0\" 203 19117\\n43.204.214.54 - fritsch5442 [21/Jun/2019:15:55:10 -0700] \"HEAD /innovate/viral HTTP/1.0\" 401 5924\\n106.214.232.163 - - [21/Jun/2019:15:55:11 -0700] \"HEAD /revolutionary/efficient/relationships HTTP/2.0\" 405 29861\\n136.140.99.71 - jast3185 [21/Jun/2019:15:55:12 -0700] \"HEAD /systems/rich/best-of-breed HTTP/1.1\" 416 24933\\n131.11.85.131 - - [21/Jun/2019:15:55:13 -0700] \"DELETE /user-centric HTTP/1.0\" 501 5928\\n59.40.69.33 - kerluke1992 [21/Jun/2019:15:55:14 -0700] \"PUT /virtual/markets/compelling HTTP/2.0\" 501 26909\\n24.154.93.186 - - [21/Jun/2019:15:55:15 -0700] \"PUT /reintermediate/morph HTTP/1.1\" 100 22418\\n37.37.184.46 - west3231 [21/Jun/2019:15:55:16 -0700] \"HEAD /action-items/bricks-and-clicks/drive/envisioneer HTTP/1.1\" 304 10103\\n25.14.148.131 - - [21/Jun/2019:15:55:17 -0700] \"DELETE /synthesize HTTP/2.0\" 401 23909\\n123.169.170.45 - - [21/Jun/2019:15:55:18 -0700] \"HEAD /dot-com/synergies HTTP/1.0\" 403 176\\n96.182.241.84 - - [21/Jun/2019:15:55:19 -0700] \"POST /viral/recontextualize HTTP/2.0\" 504 28749\\n202.152.160.70 - ankunding8652 [21/Jun/2019:15:55:20 -0700] \"DELETE /e-tailers/granular/value-added HTTP/2.0\" 400 13583\\n45.161.168.198 - - [21/Jun/2019:15:55:21 -0700] \"PATCH /productize/end-to-end/e-enable HTTP/1.0\" 404 9524\\n80.10.48.41 - - [21/Jun/2019:15:55:22 -0700] \"PATCH /markets/sticky/relationships HTTP/2.0\" 500 950\\n68.250.127.219 - - [21/Jun/2019:15:55:23 -0700] \"PUT /productize/revolutionize/mesh/initiatives HTTP/1.1\" 416 27321\\n121.11.126.214 - barton5952 [21/Jun/2019:15:55:24 -0700] \"DELETE /user-centric/leading-edge HTTP/2.0\" 504 22403\\n144.210.9.156 - - [21/Jun/2019:15:55:25 -0700] \"POST /compelling/user-centric/embrace/channels HTTP/2.0\" 304 22432\\n116.66.227.58 - boyle7076 [21/Jun/2019:15:55:26 -0700] \"PATCH /mission-critical/action-items/niches/strategize HTTP/1.0\" 416 11523\\n239.150.104.236 - - [21/Jun/2019:15:55:27 -0700] \"POST /reintermediate/collaborative/extensible HTTP/1.0\" 404 19707\\n139.116.88.147 - haag9280 [21/Jun/2019:15:55:28 -0700] \"HEAD /transparent/redefine/methodologies/exploit HTTP/1.0\" 501 10163\\n29.58.6.219 - - [21/Jun/2019:15:55:29 -0700] \"GET /bandwidth/cross-media/clicks-and-mortar HTTP/1.0\" 406 5093\\n183.117.169.253 - morar4269 [21/Jun/2019:15:55:30 -0700] \"HEAD /architectures/user-centric HTTP/1.1\" 400 16375\\n60.155.203.130 - vonrueden7712 [21/Jun/2019:15:55:31 -0700] \"DELETE /metrics/infomediaries/enterprise/b2b HTTP/1.0\" 403 15223\\n173.140.74.179 - rippin3809 [21/Jun/2019:15:55:32 -0700] \"POST /engage HTTP/2.0\" 200 22575\\n221.208.57.139 - bayer1705 [21/Jun/2019:15:55:33 -0700] \"HEAD /reintermediate/target HTTP/1.1\" 416 19184\\n232.75.253.162 - - [21/Jun/2019:15:55:34 -0700] \"HEAD /customized/plug-and-play/portals/repurpose HTTP/2.0\" 100 21951\\n149.212.98.132 - kerluke1906 [21/Jun/2019:15:55:35 -0700] \"HEAD /reintermediate HTTP/1.1\" 416 23592\\n79.233.211.50 - lowe5988 [21/Jun/2019:15:55:36 -0700] \"GET /vortals/world-class/next-generation/maximize HTTP/2.0\" 205 7397\\n208.84.72.231 - abshire5304 [21/Jun/2019:15:55:37 -0700] \"HEAD /deliverables/web-enabled HTTP/1.1\" 201 27284\\n149.136.187.57 - weissnat1689 [21/Jun/2019:15:55:38 -0700] \"HEAD /cross-platform/engineer HTTP/1.0\" 502 9386\\n115.49.61.215 - - [21/Jun/2019:15:55:39 -0700] \"PUT /rich/global HTTP/2.0\" 502 22679\\n135.210.80.189 - schultz6585 [21/Jun/2019:15:55:40 -0700] \"GET /bricks-and-clicks/portals/synthesize HTTP/1.0\" 502 8349\\n237.220.204.73 - - [21/Jun/2019:15:55:41 -0700] \"PATCH /communities/scale/integrate/grow HTTP/2.0\" 403 19135\\n25.81.83.78 - - [21/Jun/2019:15:55:42 -0700] \"POST /innovative/end-to-end HTTP/2.0\" 203 21530\\n228.215.5.75 - - [21/Jun/2019:15:55:43 -0700] \"PUT /matrix/enterprise/matrix HTTP/2.0\" 405 19197\\n134.199.128.205 - - [21/Jun/2019:15:55:44 -0700] \"PATCH /productize/embrace/channels/unleash HTTP/2.0\" 501 23597\\n36.5.255.184 - - [21/Jun/2019:15:55:45 -0700] \"GET /unleash/extensible/interactive/solutions HTTP/2.0\" 201 9467\\n232.154.95.220 - veum7721 [21/Jun/2019:15:55:46 -0700] \"GET /rich/bandwidth HTTP/1.0\" 500 3360\\n174.34.35.186 - mueller9581 [21/Jun/2019:15:55:47 -0700] \"GET /leading-edge/expedite/networks HTTP/1.0\" 502 26017\\n222.100.58.70 - - [21/Jun/2019:15:55:48 -0700] \"HEAD /web-readiness/innovative/mindshare HTTP/2.0\" 204 29305\\n164.234.6.134 - - [21/Jun/2019:15:55:49 -0700] \"POST /bricks-and-clicks/revolutionize/maximize/visionary HTTP/1.1\" 100 24735\\n28.62.52.85 - - [21/Jun/2019:15:55:50 -0700] \"PUT /global/killer/ubiquitous HTTP/1.1\" 406 19499\\n95.189.63.113 - - [21/Jun/2019:15:55:51 -0700] \"DELETE /generate HTTP/2.0\" 302 17136\\n158.174.132.213 - - [21/Jun/2019:15:55:52 -0700] \"POST /sexy/synergize/sticky/revolutionize HTTP/1.1\" 502 29613\\n104.140.27.56 - - [21/Jun/2019:15:55:53 -0700] \"GET /intuitive/virtual/robust/dynamic HTTP/1.0\" 405 15799\\n119.211.94.216 - - [21/Jun/2019:15:55:54 -0700] \"GET /disintermediate/innovative/vertical/architectures HTTP/1.0\" 100 29093\\n210.10.227.187 - ebert3533 [21/Jun/2019:15:55:55 -0700] \"GET /cultivate/models HTTP/2.0\" 501 5481\\n188.164.86.241 - heller4638 [21/Jun/2019:15:55:56 -0700] \"PUT /repurpose HTTP/1.0\" 504 9277\\n212.66.63.132 - lesch1937 [21/Jun/2019:15:55:57 -0700] \"PATCH /users/compelling HTTP/2.0\" 405 4808\\n172.31.189.243 - - [21/Jun/2019:15:55:58 -0700] \"DELETE /sexy HTTP/1.1\" 405 22140\\n73.18.220.130 - - [21/Jun/2019:15:55:59 -0700] \"GET /global/customized HTTP/1.1\" 201 28253\\n201.39.186.141 - hansen7326 [21/Jun/2019:15:56:00 -0700] \"POST /b2c HTTP/1.0\" 204 27549\\n242.117.244.136 - - [21/Jun/2019:15:56:01 -0700] \"HEAD /strategize/viral/real-time HTTP/1.0\" 203 24573\\n239.247.96.179 - - [21/Jun/2019:15:56:02 -0700] \"PATCH /reintermediate/vortals/deliverables HTTP/1.1\" 203 17636\\n228.5.90.92 - - [21/Jun/2019:15:56:03 -0700] \"PATCH /supply-chains/web+services/syndicate HTTP/1.0\" 406 24794\\n106.176.215.133 - - [21/Jun/2019:15:56:04 -0700] \"POST /dot-com/ubiquitous HTTP/2.0\" 201 23594\\n182.198.5.92 - morar7272 [21/Jun/2019:15:56:05 -0700] \"POST /systems/b2c HTTP/1.1\" 203 15494\\n118.137.109.160 - johnston9060 [21/Jun/2019:15:56:06 -0700] \"PATCH /scalable HTTP/1.1\" 200 16174\\n2.103.71.27 - - [21/Jun/2019:15:56:07 -0700] \"HEAD /frictionless/leverage/one-to-one HTTP/1.1\" 405 26385\\n229.3.198.160 - heathcote3797 [21/Jun/2019:15:56:08 -0700] \"POST /recontextualize/back-end HTTP/1.0\" 502 5274\\n148.174.255.122 - - [21/Jun/2019:15:56:09 -0700] \"PATCH /recontextualize HTTP/2.0\" 502 16814\\n35.23.172.9 - bruen3016 [21/Jun/2019:15:56:10 -0700] \"POST /whiteboard/e-commerce HTTP/2.0\" 504 521\\n165.188.38.42 - bogisich4929 [21/Jun/2019:15:56:11 -0700] \"HEAD /paradigms/supply-chains HTTP/1.1\" 203 28511\\n95.206.60.9 - hyatt2671 [21/Jun/2019:15:56:12 -0700] \"PATCH /generate/strategize/real-time HTTP/1.1\" 301 23908\\n247.172.12.81 - - [21/Jun/2019:15:56:13 -0700] \"PATCH /schemas/envisioneer HTTP/2.0\" 406 22095\\n224.31.249.118 - mohr3100 [21/Jun/2019:15:56:14 -0700] \"DELETE /platforms/back-end/24%2f365 HTTP/1.1\" 405 23105\\n115.161.42.97 - - [21/Jun/2019:15:56:15 -0700] \"GET /e-business/vertical/drive/architectures HTTP/1.0\" 304 28602\\n97.115.43.107 - - [21/Jun/2019:15:56:16 -0700] \"PUT /e-business HTTP/2.0\" 200 2384\\n51.68.54.173 - - [21/Jun/2019:15:56:17 -0700] \"GET /vertical/channels/intuitive/drive HTTP/1.1\" 200 15681\\n112.36.64.150 - purdy1613 [21/Jun/2019:15:56:18 -0700] \"POST /optimize/content HTTP/1.0\" 100 25283\\n197.140.130.185 - - [21/Jun/2019:15:56:19 -0700] \"HEAD /architect HTTP/1.1\" 301 19346\\n107.7.167.233 - murray3331 [21/Jun/2019:15:56:20 -0700] \"GET /redefine HTTP/2.0\" 100 1426\\n164.108.238.46 - - [21/Jun/2019:15:56:21 -0700] \"HEAD /seamless/cross-platform/productize HTTP/2.0\" 301 26515\\n50.30.161.80 - - [21/Jun/2019:15:56:22 -0700] \"PUT /incubate/e-enable/mission-critical/bricks-and-clicks HTTP/1.0\" 504 16724\\n192.57.52.145 - towne4044 [21/Jun/2019:15:56:23 -0700] \"GET /content HTTP/1.1\" 401 20884\\n86.165.165.210 - kuhlman9507 [21/Jun/2019:15:56:24 -0700] \"GET /metrics/robust/architect HTTP/2.0\" 406 20459\\n218.5.170.117 - murray8861 [21/Jun/2019:15:56:25 -0700] \"PATCH /redefine/enhance/integrate/b2c HTTP/1.0\" 403 20448\\n113.98.197.126 - - [21/Jun/2019:15:56:26 -0700] \"POST /niches/generate/networks/deliverables HTTP/1.1\" 501 11309\\n127.205.99.23 - - [21/Jun/2019:15:56:27 -0700] \"GET /portals HTTP/2.0\" 302 363\\n78.76.237.225 - - [21/Jun/2019:15:56:28 -0700] \"PUT /rich/facilitate HTTP/1.0\" 302 23110\\n111.9.21.106 - bernier6988 [21/Jun/2019:15:56:29 -0700] \"GET /web-enabled HTTP/1.0\" 501 24023\\n168.84.143.129 - casper5038 [21/Jun/2019:15:56:30 -0700] \"DELETE /markets/customized/synergistic HTTP/1.0\" 416 2256\\n219.111.98.96 - - [21/Jun/2019:15:56:31 -0700] \"DELETE /mesh/aggregate/networks/syndicate HTTP/1.0\" 504 28122\\n104.174.76.211 - boyer4235 [21/Jun/2019:15:56:32 -0700] \"POST /expedite/open-source/viral/convergence HTTP/2.0\" 502 27421\\n37.147.102.35 - towne2518 [21/Jun/2019:15:56:33 -0700] \"PATCH /revolutionize/morph HTTP/1.1\" 400 10156\\n75.150.169.23 - collins2767 [21/Jun/2019:15:56:34 -0700] \"PATCH /markets/e-business HTTP/2.0\" 405 2662\\n164.179.97.108 - - [21/Jun/2019:15:56:35 -0700] \"GET /strategize/relationships HTTP/1.0\" 416 11600\\n155.76.94.82 - murphy2732 [21/Jun/2019:15:56:36 -0700] \"POST /applications/e-business/action-items/deploy HTTP/2.0\" 405 29642\\n247.88.142.108 - - [21/Jun/2019:15:56:37 -0700] \"GET /clicks-and-mortar/bricks-and-clicks/interfaces/transform HTTP/2.0\" 200 22242\\n238.76.184.36 - - [21/Jun/2019:15:56:38 -0700] \"PUT /web-readiness/iterate/real-time/reinvent HTTP/1.1\" 200 3740\\n148.183.181.78 - lehner5449 [21/Jun/2019:15:56:39 -0700] \"DELETE /compelling/metrics/enterprise HTTP/1.0\" 304 29090\\n117.200.242.154 - - [21/Jun/2019:15:56:40 -0700] \"DELETE /next-generation HTTP/1.1\" 100 4159\\n241.39.66.207 - - [21/Jun/2019:15:56:41 -0700] \"GET /solutions/one-to-one HTTP/1.0\" 205 16550\\n31.107.41.233 - zieme7259 [21/Jun/2019:15:56:42 -0700] \"GET /communities/bleeding-edge HTTP/1.1\" 501 14853\\n212.223.87.96 - - [21/Jun/2019:15:56:43 -0700] \"PATCH /technologies/evolve HTTP/1.0\" 405 24634\\n25.225.179.202 - runte4912 [21/Jun/2019:15:56:44 -0700] \"HEAD /mesh/orchestrate/syndicate/e-services HTTP/1.1\" 503 15286\\n135.115.206.67 - smitham4435 [21/Jun/2019:15:56:45 -0700] \"PUT /distributed/benchmark/interactive HTTP/1.1\" 200 8951\\n75.44.33.26 - boyle5892 [21/Jun/2019:15:56:46 -0700] \"GET /relationships/incubate/technologies HTTP/1.1\" 404 18790\\n188.190.101.81 - klocko5793 [21/Jun/2019:15:56:47 -0700] \"POST /strategic HTTP/2.0\" 500 25031\\n123.242.122.171 - haley3504 [21/Jun/2019:15:56:48 -0700] \"HEAD /repurpose/viral HTTP/2.0\" 504 12071\\n235.29.130.76 - - [21/Jun/2019:15:56:49 -0700] \"HEAD /recontextualize/synergistic/convergence/best-of-breed HTTP/1.1\" 204 22816\\n206.228.203.64 - kozey6525 [21/Jun/2019:15:56:50 -0700] \"POST /utilize/brand HTTP/2.0\" 203 18705\\n208.159.232.62 - mcclure3645 [21/Jun/2019:15:56:51 -0700] \"HEAD /channels/web-enabled/markets HTTP/2.0\" 502 24511\\n131.238.104.21 - - [21/Jun/2019:15:56:52 -0700] \"PUT /web+services/distributed/interactive/sticky HTTP/1.1\" 502 961\\n212.250.42.208 - - [21/Jun/2019:15:56:53 -0700] \"PUT /interfaces/seamless/integrated HTTP/1.0\" 204 11696\\n72.89.45.205 - parisian3697 [21/Jun/2019:15:56:54 -0700] \"GET /empower/impactful/channels HTTP/1.1\" 500 1437\\n213.173.183.16 - - [21/Jun/2019:15:56:55 -0700] \"HEAD /mesh/viral/transform/optimize HTTP/1.0\" 301 22971\\n28.67.8.218 - bernier2981 [21/Jun/2019:15:56:56 -0700] \"HEAD /target/implement/sticky HTTP/1.0\" 404 1008\\n39.118.203.43 - - [21/Jun/2019:15:56:57 -0700] \"HEAD /global/compelling/solutions HTTP/2.0\" 500 20619\\n226.64.38.128 - - [21/Jun/2019:15:56:58 -0700] \"HEAD /redefine/cross-platform/schemas HTTP/1.1\" 201 7789\\n59.124.141.224 - - [21/Jun/2019:15:56:59 -0700] \"PATCH /networks HTTP/1.1\" 403 17776\\n156.213.93.143 - steuber8372 [21/Jun/2019:15:57:00 -0700] \"HEAD /scale HTTP/1.1\" 100 7692\\n251.112.169.29 - - [21/Jun/2019:15:57:01 -0700] \"PATCH /exploit/harness HTTP/1.1\" 504 29795\\n149.41.86.4 - lynch9212 [21/Jun/2019:15:57:02 -0700] \"POST /innovate/streamline/engineer HTTP/1.1\" 406 2097\\n175.93.165.37 - carter4580 [21/Jun/2019:15:57:03 -0700] \"HEAD /world-class/roi HTTP/1.1\" 503 11609\\n234.204.188.165 - sanford7143 [21/Jun/2019:15:57:04 -0700] \"HEAD /bleeding-edge/exploit HTTP/2.0\" 405 9427\\n145.216.71.219 - - [21/Jun/2019:15:57:05 -0700] \"PUT /seamless/e-commerce/unleash HTTP/1.0\" 400 7407\\n36.72.238.73 - - [21/Jun/2019:15:57:06 -0700] \"POST /scalable HTTP/2.0\" 416 8538\\n82.73.107.79 - roberts8371 [21/Jun/2019:15:57:07 -0700] \"GET /compelling/deliver HTTP/2.0\" 416 19553\\n180.126.85.151 - deckow7418 [21/Jun/2019:15:57:08 -0700] \"POST /unleash HTTP/1.1\" 405 17023\\n126.71.163.170 - - [21/Jun/2019:15:57:09 -0700] \"PATCH /dot-com/revolutionary/models/engineer HTTP/1.1\" 401 9775\\n136.89.236.111 - beatty2891 [21/Jun/2019:15:57:10 -0700] \"GET /front-end HTTP/2.0\" 100 1939\\n233.132.129.215 - roberts9852 [21/Jun/2019:15:57:11 -0700] \"HEAD /24%2f365/impactful/cutting-edge HTTP/2.0\" 406 12795\\n247.125.3.15 - auer8021 [21/Jun/2019:15:57:12 -0700] \"POST /cutting-edge/schemas HTTP/1.0\" 502 25020\\n57.230.231.161 - - [21/Jun/2019:15:57:13 -0700] \"PUT /magnetic/maximize/plug-and-play/deliver HTTP/1.1\" 204 23540\\n179.143.58.54 - hoeger4763 [21/Jun/2019:15:57:14 -0700] \"POST /initiatives/revolutionary HTTP/1.0\" 304 2672\\n89.45.77.201 - - [21/Jun/2019:15:57:15 -0700] \"PUT /next-generation/cross-media HTTP/1.0\" 203 26704\\n96.231.226.192 - - [21/Jun/2019:15:57:16 -0700] \"DELETE /rich HTTP/1.1\" 500 22988\\n7.206.19.172 - - [21/Jun/2019:15:57:17 -0700] \"HEAD /extensible HTTP/1.0\" 404 27596\\n109.116.7.153 - gaylord6916 [21/Jun/2019:15:57:18 -0700] \"PATCH /users HTTP/1.0\" 501 4709\\n229.10.24.149 - - [21/Jun/2019:15:57:19 -0700] \"PATCH /maximize/infomediaries HTTP/1.0\" 404 5549\\n130.185.8.168 - - [21/Jun/2019:15:57:20 -0700] \"POST /granular/evolve/cross-platform HTTP/1.1\" 406 11052\\n180.239.96.198 - - [21/Jun/2019:15:57:21 -0700] \"GET /e-commerce HTTP/1.0\" 405 10522\\n234.239.225.164 - sporer4003 [21/Jun/2019:15:57:22 -0700] \"POST /recontextualize HTTP/2.0\" 205 28470\\n41.140.68.194 - - [21/Jun/2019:15:57:23 -0700] \"PUT /killer/seamless/streamline HTTP/2.0\" 301 22277\\n45.207.246.151 - schuppe9150 [21/Jun/2019:15:57:24 -0700] \"PATCH /viral/incubate/one-to-one HTTP/2.0\" 502 2220\\n189.105.143.151 - ortiz8221 [21/Jun/2019:15:57:25 -0700] \"GET /web-readiness/clicks-and-mortar/revolutionize HTTP/1.1\" 403 28481\\n80.239.204.171 - fisher5449 [21/Jun/2019:15:57:26 -0700] \"POST /customized/paradigms/harness/markets HTTP/2.0\" 403 1100\\n198.44.245.192 - towne8430 [21/Jun/2019:15:57:27 -0700] \"PUT /unleash/portals/generate/collaborative HTTP/2.0\" 502 8407\\n92.13.119.65 - mayer6781 [21/Jun/2019:15:57:28 -0700] \"POST /robust/drive/e-business/bandwidth HTTP/1.1\" 301 7628\\n124.13.254.49 - sanford8578 [21/Jun/2019:15:57:29 -0700] \"DELETE /synthesize HTTP/1.1\" 302 26907\\n3.198.219.157 - ruecker5168 [21/Jun/2019:15:57:30 -0700] \"PUT /granular/virtual/vertical/bricks-and-clicks HTTP/2.0\" 504 11238\\n150.168.105.7 - hartmann1002 [21/Jun/2019:15:57:31 -0700] \"PATCH /models HTTP/1.0\" 503 9844\\n180.137.81.102 - - [21/Jun/2019:15:57:32 -0700] \"HEAD /value-added HTTP/1.0\" 204 22178\\n18.100.51.14 - zieme2525 [21/Jun/2019:15:57:33 -0700] \"POST /exploit/strategize HTTP/2.0\" 204 5167\\n201.210.171.192 - stokes4347 [21/Jun/2019:15:57:34 -0700] \"HEAD /empower/next-generation HTTP/1.0\" 301 3836\\n206.226.110.110 - marks4471 [21/Jun/2019:15:57:35 -0700] \"HEAD /methodologies/niches HTTP/1.0\" 404 10365\\n73.223.129.11 - feil4273 [21/Jun/2019:15:57:36 -0700] \"GET /transform HTTP/1.1\" 403 14172\\n32.130.221.133 - luettgen7885 [21/Jun/2019:15:57:37 -0700] \"PATCH /proactive/aggregate/cutting-edge HTTP/2.0\" 400 26108\\n128.126.48.81 - bergnaum1861 [21/Jun/2019:15:57:38 -0700] \"PATCH /syndicate/scalable HTTP/2.0\" 502 22376\\n3.185.222.13 - - [21/Jun/2019:15:57:39 -0700] \"GET /synergize/utilize HTTP/1.0\" 302 9419\\n97.198.65.211 - - [21/Jun/2019:15:57:40 -0700] \"PATCH /roi HTTP/1.1\" 503 8025\\n216.10.218.158 - ritchie5623 [21/Jun/2019:15:57:41 -0700] \"POST /ubiquitous/mesh/reintermediate/extend HTTP/1.0\" 302 10636\\n133.180.255.152 - erdman7321 [21/Jun/2019:15:57:42 -0700] \"HEAD /transparent/proactive/strategic HTTP/2.0\" 416 165\\n74.18.125.198 - - [21/Jun/2019:15:57:43 -0700] \"DELETE /deploy/aggregate/cross-media HTTP/1.0\" 406 90\\n233.217.110.117 - - [21/Jun/2019:15:57:44 -0700] \"PATCH /24%2f7/networks/leverage/magnetic HTTP/1.1\" 205 20782\\n172.244.20.80 - - [21/Jun/2019:15:57:45 -0700] \"GET /e-business HTTP/2.0\" 204 14433\\n157.100.32.21 - hettinger9752 [21/Jun/2019:15:57:46 -0700] \"DELETE /sexy/brand/implement/viral HTTP/1.0\" 501 9660\\n244.171.113.250 - - [21/Jun/2019:15:57:47 -0700] \"GET /seamless/cultivate/infrastructures HTTP/1.0\" 301 20654\\n209.245.213.122 - satterfield5767 [21/Jun/2019:15:57:48 -0700] \"POST /monetize/revolutionary/compelling HTTP/1.0\" 405 22440\\n251.63.126.220 - - [21/Jun/2019:15:57:49 -0700] \"GET /e-tailers/leverage HTTP/1.1\" 416 18378\\n253.69.133.7 - grimes3189 [21/Jun/2019:15:57:50 -0700] \"PUT /facilitate/relationships/channels/plug-and-play HTTP/2.0\" 403 10294\\n44.115.48.147 - - [21/Jun/2019:15:57:51 -0700] \"DELETE /incubate/value-added/recontextualize/incubate HTTP/1.1\" 400 21660\\n138.247.187.49 - pfannerstill1340 [21/Jun/2019:15:57:52 -0700] \"PUT /orchestrate/convergence HTTP/1.0\" 201 8847\\n110.19.75.32 - - [21/Jun/2019:15:57:53 -0700] \"HEAD /empower/convergence/aggregate/interfaces HTTP/1.0\" 406 12042\\n103.66.52.114 - - [21/Jun/2019:15:57:54 -0700] \"PATCH /streamline/infomediaries/viral HTTP/1.0\" 500 10540\\n193.131.168.19 - - [21/Jun/2019:15:57:55 -0700] \"HEAD /rich HTTP/1.0\" 302 14371\\n101.251.123.5 - gutkowski6387 [21/Jun/2019:15:57:56 -0700] \"POST /extend/schemas/channels/deliver HTTP/2.0\" 200 12398\\n113.153.54.78 - - [21/Jun/2019:15:57:57 -0700] \"PUT /mindshare/paradigms/incubate/scalable HTTP/2.0\" 204 28624\\n183.129.120.175 - - [21/Jun/2019:15:57:58 -0700] \"GET /granular/sticky HTTP/1.1\" 100 28509\\n201.42.169.129 - ferry3047 [21/Jun/2019:15:57:59 -0700] \"POST /e-tailers/e-business HTTP/2.0\" 404 10029\\n17.167.75.23 - - [21/Jun/2019:15:58:00 -0700] \"PATCH /ubiquitous/benchmark/web-readiness/24%2f365 HTTP/1.0\" 302 19564\\n64.224.243.90 - - [21/Jun/2019:15:58:01 -0700] \"DELETE /utilize/matrix/users HTTP/1.0\" 406 10868\\n71.115.235.14 - lindgren8686 [21/Jun/2019:15:58:02 -0700] \"POST /compelling/engineer/utilize/target HTTP/1.1\" 405 20116\\n54.244.162.130 - kilback2657 [21/Jun/2019:15:58:03 -0700] \"GET /engineer HTTP/1.0\" 504 28351\\n251.214.3.43 - ebert8205 [21/Jun/2019:15:58:04 -0700] \"PUT /front-end HTTP/2.0\" 416 16599\\n43.60.137.5 - - [21/Jun/2019:15:58:05 -0700] \"GET /back-end/orchestrate/productize/monetize HTTP/1.0\" 100 10073\\n140.250.112.142 - - [21/Jun/2019:15:58:06 -0700] \"PATCH /channels HTTP/1.0\" 204 8029\\n217.4.123.90 - - [21/Jun/2019:15:58:07 -0700] \"GET /partnerships/bricks-and-clicks HTTP/2.0\" 406 29383\\n164.242.68.20 - - [21/Jun/2019:15:58:08 -0700] \"DELETE /revolutionary HTTP/1.1\" 502 21875\\n201.84.58.42 - - [21/Jun/2019:15:58:09 -0700] \"HEAD /strategize/paradigms/methodologies/markets HTTP/1.0\" 302 16375\\n69.36.214.13 - weimann2707 [21/Jun/2019:15:58:10 -0700] \"HEAD /niches/sticky/web-enabled/vertical HTTP/1.1\" 403 10804\\n25.141.173.190 - - [21/Jun/2019:15:58:11 -0700] \"DELETE /embrace/killer/synergistic/empower HTTP/1.1\" 100 29919\\n123.63.4.204 - rolfson6644 [21/Jun/2019:15:58:12 -0700] \"PUT /visionary/communities/aggregate/e-business HTTP/1.1\" 502 14503\\n251.75.123.253 - shields3654 [21/Jun/2019:15:58:13 -0700] \"POST /morph/visionary/engage/wireless HTTP/1.0\" 504 5608\\n253.155.125.104 - brakus4461 [21/Jun/2019:15:58:14 -0700] \"GET /bandwidth HTTP/1.0\" 504 12640\\n251.95.126.146 - - [21/Jun/2019:15:58:15 -0700] \"DELETE /scale/revolutionary HTTP/2.0\" 405 9949\\n45.36.97.213 - stehr9039 [21/Jun/2019:15:58:16 -0700] \"POST /rich/markets/mission-critical/deliverables HTTP/2.0\" 100 4495\\n255.143.24.161 - gerlach7985 [21/Jun/2019:15:58:17 -0700] \"HEAD /customized/vertical HTTP/1.1\" 304 7610\\n214.169.147.186 - howe7427 [21/Jun/2019:15:58:18 -0700] \"PUT /envisioneer/leading-edge/productize HTTP/2.0\" 503 232\\n37.248.195.215 - - [21/Jun/2019:15:58:19 -0700] \"DELETE /visualize/strategic HTTP/1.0\" 205 27807\\n24.91.107.215 - - [21/Jun/2019:15:58:20 -0700] \"POST /transform/seamless/synergies HTTP/2.0\" 201 27384\\n117.4.76.172 - reichert6210 [21/Jun/2019:15:58:21 -0700] \"PUT /collaborative/holistic/recontextualize HTTP/2.0\" 201 6679\\n187.238.112.72 - - [21/Jun/2019:15:58:22 -0700] \"GET /e-business/web-enabled HTTP/1.0\" 403 25919\\n47.137.168.94 - - [21/Jun/2019:15:58:23 -0700] \"DELETE /supply-chains/end-to-end HTTP/1.1\" 503 20611\\n244.62.118.75 - - [21/Jun/2019:15:58:24 -0700] \"GET /unleash/e-commerce/iterate HTTP/1.0\" 201 10495\\n41.174.211.212 - - [21/Jun/2019:15:58:25 -0700] \"GET /applications HTTP/1.0\" 400 195\\n71.122.96.131 - - [21/Jun/2019:15:58:26 -0700] \"POST /revolutionary/redefine/holistic/holistic HTTP/2.0\" 401 6495\\n194.203.51.120 - boyer5523 [21/Jun/2019:15:58:27 -0700] \"PATCH /frictionless HTTP/1.0\" 205 21285\\n71.121.222.200 - russel8326 [21/Jun/2019:15:58:28 -0700] \"PUT /deliver/schemas HTTP/1.0\" 504 7065\\n166.178.196.8 - - [21/Jun/2019:15:58:29 -0700] \"DELETE /back-end/schemas/paradigms HTTP/2.0\" 405 13918\\n171.218.147.47 - white9937 [21/Jun/2019:15:58:30 -0700] \"HEAD /cutting-edge/grow HTTP/1.0\" 403 7615\\n165.249.92.241 - - [21/Jun/2019:15:58:31 -0700] \"GET /synergize HTTP/1.0\" 204 19892\\n234.117.105.178 - - [21/Jun/2019:15:58:32 -0700] \"PATCH /iterate HTTP/2.0\" 403 28926\\n56.202.221.63 - - [21/Jun/2019:15:58:33 -0700] \"GET /magnetic/aggregate/embrace HTTP/2.0\" 503 13860\\n46.16.192.9 - - [21/Jun/2019:15:58:34 -0700] \"GET /productize HTTP/2.0\" 201 2268\\n54.189.234.211 - - [21/Jun/2019:15:58:35 -0700] \"GET /synergistic/syndicate/enterprise HTTP/2.0\" 400 13463\\n114.26.219.139 - - [21/Jun/2019:15:58:36 -0700] \"DELETE /cross-platform HTTP/1.1\" 302 4102\\n122.81.125.121 - bednar2405 [21/Jun/2019:15:58:37 -0700] \"POST /partnerships/experiences HTTP/1.0\" 416 18527\\n222.176.136.241 - - [21/Jun/2019:15:58:38 -0700] \"POST /holistic HTTP/1.0\" 501 20985\\n117.9.40.171 - - [21/Jun/2019:15:58:39 -0700] \"PUT /web-enabled/transition HTTP/1.1\" 203 5871\\n108.248.72.200 - - [21/Jun/2019:15:58:40 -0700] \"PUT /metrics HTTP/2.0\" 501 22851\\n102.153.28.144 - - [21/Jun/2019:15:58:41 -0700] \"PATCH /applications/end-to-end/sexy/target HTTP/2.0\" 200 21815\\n192.202.173.198 - yost8436 [21/Jun/2019:15:58:42 -0700] \"GET /mindshare/aggregate/deliverables/global HTTP/2.0\" 204 9512\\n18.180.167.166 - - [21/Jun/2019:15:58:43 -0700] \"HEAD /supply-chains/content/killer HTTP/1.1\" 403 25462\\n33.174.225.22 - - [21/Jun/2019:15:58:44 -0700] \"PATCH /architectures HTTP/1.0\" 504 1397\\n189.226.103.3 - kemmer7294 [21/Jun/2019:15:58:45 -0700] \"PUT /sexy/transition/enterprise HTTP/1.1\" 203 24898\\n135.82.100.60 - wuckert5235 [21/Jun/2019:15:58:46 -0700] \"HEAD /leading-edge/solutions/robust HTTP/1.1\" 204 23792\\n243.151.163.69 - lueilwitz6619 [21/Jun/2019:15:58:47 -0700] \"POST /experiences/value-added HTTP/1.0\" 504 26703\\n167.55.97.60 - terry5334 [21/Jun/2019:15:58:48 -0700] \"PATCH /monetize/proactive HTTP/1.1\" 416 3706\\n100.145.250.142 - - [21/Jun/2019:15:58:49 -0700] \"POST /envisioneer HTTP/1.1\" 404 4216\\n159.65.201.34 - bergnaum8203 [21/Jun/2019:15:58:50 -0700] \"PUT /intuitive/revolutionize/experiences HTTP/2.0\" 416 11970\\n153.130.13.108 - - [21/Jun/2019:15:58:51 -0700] \"GET /incubate/wireless HTTP/1.0\" 204 15948\\n184.245.98.205 - oreilly1191 [21/Jun/2019:15:58:52 -0700] \"GET /users/real-time HTTP/2.0\" 200 22825\\n244.152.133.87 - - [21/Jun/2019:15:58:53 -0700] \"POST /metrics HTTP/1.1\" 501 11538\\n142.145.20.95 - - [21/Jun/2019:15:58:54 -0700] \"HEAD /extend/cross-media/convergence HTTP/2.0\" 416 20974\\n68.168.186.14 - weissnat9339 [21/Jun/2019:15:58:55 -0700] \"DELETE /schemas/user-centric HTTP/2.0\" 500 11283\\n165.78.13.175 - - [21/Jun/2019:15:58:56 -0700] \"POST /iterate/intuitive/best-of-breed HTTP/2.0\" 201 14641\\n235.12.80.233 - - [21/Jun/2019:15:58:57 -0700] \"PATCH /customized/24%2f365/magnetic HTTP/1.0\" 403 13920\\n8.117.240.56 - pouros2120 [21/Jun/2019:15:58:58 -0700] \"GET /reintermediate HTTP/1.0\" 400 15934\\n207.81.12.169 - jerde5243 [21/Jun/2019:15:58:59 -0700] \"PUT /architectures/extend HTTP/2.0\" 201 348\\n229.128.199.145 - kris7724 [21/Jun/2019:15:59:00 -0700] \"POST /reinvent HTTP/1.1\" 501 5315\\n226.153.34.134 - boyer6744 [21/Jun/2019:15:59:01 -0700] \"PUT /robust/incubate HTTP/1.1\" 405 8488\\n84.168.91.70 - wilderman5041 [21/Jun/2019:15:59:02 -0700] \"DELETE /expedite/rich HTTP/2.0\" 504 7680\\n2.241.18.210 - cassin3470 [21/Jun/2019:15:59:03 -0700] \"DELETE /mission-critical/technologies HTTP/1.0\" 404 594\\n84.224.140.93 - - [21/Jun/2019:15:59:04 -0700] \"PUT /magnetic/deploy/eyeballs/disintermediate HTTP/1.1\" 504 27127\\n80.109.208.191 - - [21/Jun/2019:15:59:05 -0700] \"GET /leverage HTTP/1.0\" 404 5029\\n84.197.17.2 - - [21/Jun/2019:15:59:06 -0700] \"PATCH /orchestrate/repurpose HTTP/1.0\" 401 398\\n240.71.224.216 - weimann5347 [21/Jun/2019:15:59:07 -0700] \"HEAD /matrix/integrated/e-commerce HTTP/1.1\" 502 4283\\n110.45.207.230 - boyer3703 [21/Jun/2019:15:59:08 -0700] \"GET /strategize/sticky/portals/applications HTTP/1.1\" 503 20525\\n236.56.14.183 - - [21/Jun/2019:15:59:09 -0700] \"POST /content/end-to-end/turn-key HTTP/2.0\" 416 66\\n115.149.3.200 - - [21/Jun/2019:15:59:10 -0700] \"PUT /next-generation/action-items HTTP/1.0\" 205 13481\\n107.217.24.59 - - [21/Jun/2019:15:59:11 -0700] \"GET /expedite HTTP/1.1\" 404 22663\\n38.245.196.159 - - [21/Jun/2019:15:59:12 -0700] \"POST /relationships/web-readiness/optimize/infrastructures HTTP/1.1\" 201 27917\\n217.48.238.45 - - [21/Jun/2019:15:59:13 -0700] \"GET /paradigms HTTP/1.0\" 403 25130\\n187.88.205.168 - - [21/Jun/2019:15:59:14 -0700] \"GET /virtual/real-time/24%2f7 HTTP/1.0\" 201 24821\\n117.106.157.40 - - [21/Jun/2019:15:59:15 -0700] \"DELETE /synergize/generate/out-of-the-box HTTP/2.0\" 304 23915\\n219.164.33.53 - - [21/Jun/2019:15:59:16 -0700] \"PUT /architectures/integrate/embrace HTTP/2.0\" 404 28981\\n67.17.225.243 - mann4196 [21/Jun/2019:15:59:17 -0700] \"DELETE /initiatives/synergize/enable HTTP/1.1\" 200 16829\\n187.110.178.207 - - [21/Jun/2019:15:59:18 -0700] \"PATCH /compelling/extensible/grow HTTP/1.1\" 502 5826\\n118.197.126.108 - - [21/Jun/2019:15:59:19 -0700] \"GET /enhance/target/benchmark/eyeballs HTTP/2.0\" 205 23190\\n102.253.250.180 - marks6484 [21/Jun/2019:15:59:20 -0700] \"POST /portals/communities HTTP/1.1\" 416 660\\n188.55.154.154 - kling2211 [21/Jun/2019:15:59:21 -0700] \"PUT /transparent/strategic/efficient HTTP/1.0\" 204 18894\\n109.249.168.154 - barrows4994 [21/Jun/2019:15:59:22 -0700] \"POST /ubiquitous/supply-chains/utilize/facilitate HTTP/2.0\" 203 21335\\n71.206.76.249 - schimmel7061 [21/Jun/2019:15:59:23 -0700] \"POST /24%2f7/mindshare HTTP/1.0\" 304 22597\\n68.121.25.29 - - [21/Jun/2019:15:59:24 -0700] \"POST /deliver/mesh/supply-chains/synthesize HTTP/2.0\" 501 23867\\n118.215.32.132 - - [21/Jun/2019:15:59:25 -0700] \"PUT /strategic HTTP/1.1\" 302 24127\\n106.31.77.118 - - [21/Jun/2019:15:59:26 -0700] \"GET /roi/experiences HTTP/1.0\" 504 18498\\n157.114.250.181 - witting4267 [21/Jun/2019:15:59:27 -0700] \"PUT /web-readiness/embrace HTTP/1.1\" 403 984\\n206.255.34.232 - - [21/Jun/2019:15:59:28 -0700] \"PATCH /plug-and-play/e-tailers/grow HTTP/1.1\" 302 16878\\n175.192.140.87 - abernathy8063 [21/Jun/2019:15:59:29 -0700] \"GET /experiences/one-to-one HTTP/1.1\" 400 20111\\n53.179.178.201 - pagac4236 [21/Jun/2019:15:59:30 -0700] \"PATCH /one-to-one/b2b HTTP/1.1\" 405 29770\\n202.83.14.204 - - [21/Jun/2019:15:59:31 -0700] \"GET /benchmark/rich HTTP/2.0\" 403 24947\\n204.6.151.116 - feeney1779 [21/Jun/2019:15:59:32 -0700] \"PATCH /dot-com HTTP/1.1\" 304 787\\n128.137.44.120 - gulgowski4789 [21/Jun/2019:15:59:33 -0700] \"POST /envisioneer/convergence HTTP/1.1\" 500 25272\\n175.241.237.106 - - [21/Jun/2019:15:59:34 -0700] \"POST /robust/seamless/transform/transform HTTP/1.0\" 201 5184\\n240.183.219.246 - - [21/Jun/2019:15:59:35 -0700] \"GET /collaborative/revolutionize/synthesize/viral HTTP/1.0\" 405 18655\\n101.236.173.161 - - [21/Jun/2019:15:59:36 -0700] \"GET /e-markets/b2c HTTP/1.1\" 203 26216\\n233.42.173.172 - - [21/Jun/2019:15:59:37 -0700] \"GET /expedite HTTP/1.0\" 501 14278\\n160.83.97.225 - gaylord3825 [21/Jun/2019:15:59:38 -0700] \"DELETE /infomediaries HTTP/1.1\" 400 26259\\n214.138.208.200 - - [21/Jun/2019:15:59:39 -0700] \"GET /synergistic/collaborative/visionary/vortals HTTP/1.0\" 416 1349\\n57.250.82.249 - abshire9350 [21/Jun/2019:15:59:40 -0700] \"HEAD /web-enabled/mindshare/open-source HTTP/1.0\" 406 8565\\n181.255.30.241 - - [21/Jun/2019:15:59:41 -0700] \"GET /engineer/e-services HTTP/2.0\" 404 890\\n105.214.125.218 - - [21/Jun/2019:15:59:42 -0700] \"DELETE /one-to-one/syndicate/iterate HTTP/2.0\" 404 22779\\n201.74.167.219 - dickinson7510 [21/Jun/2019:15:59:43 -0700] \"DELETE /functionalities/b2b HTTP/1.1\" 205 8835\\n247.66.231.101 - schroeder6056 [21/Jun/2019:15:59:44 -0700] \"PATCH /viral/global/e-markets/synergistic HTTP/1.0\" 205 27720\\n49.218.35.102 - - [21/Jun/2019:15:59:45 -0700] \"PATCH /reinvent/holistic HTTP/1.0\" 501 3861\\n187.151.112.252 - cronin9150 [21/Jun/2019:15:59:46 -0700] \"POST /holistic/plug-and-play HTTP/1.1\" 416 16630\\n56.134.159.6 - - [21/Jun/2019:15:59:47 -0700] \"POST /turn-key/distributed HTTP/1.0\" 404 9834\\n184.49.40.239 - cronin7061 [21/Jun/2019:15:59:48 -0700] \"POST /turn-key/maximize/vertical/harness HTTP/1.1\" 502 6314\\n205.214.141.88 - - [21/Jun/2019:15:59:49 -0700] \"PUT /vertical/models/b2c HTTP/1.0\" 304 6444\\n161.40.136.30 - hackett2278 [21/Jun/2019:15:59:50 -0700] \"HEAD /bandwidth/syndicate/extend HTTP/2.0\" 503 3600\\n129.163.228.209 - - [21/Jun/2019:15:59:51 -0700] \"DELETE /envisioneer/portals/sexy HTTP/2.0\" 302 5732\\n90.219.89.134 - - [21/Jun/2019:15:59:52 -0700] \"HEAD /sticky/initiatives/brand/bleeding-edge HTTP/1.1\" 204 5394\\n73.245.186.113 - johnston8800 [21/Jun/2019:15:59:53 -0700] \"HEAD /technologies/monetize/visualize HTTP/1.1\" 401 510\\n11.9.180.195 - - [21/Jun/2019:15:59:54 -0700] \"HEAD /methodologies/mindshare/e-business HTTP/1.1\" 200 26133\\n251.66.234.159 - casper4259 [21/Jun/2019:15:59:55 -0700] \"PATCH /envisioneer/web+services/e-tailers HTTP/1.1\" 404 3189\\n58.216.217.213 - - [21/Jun/2019:15:59:56 -0700] \"PUT /technologies/mesh/disintermediate/visualize HTTP/1.0\" 504 12331\\n144.154.200.29 - - [21/Jun/2019:15:59:57 -0700] \"HEAD /seamless/seamless/synergies HTTP/1.0\" 100 1022\\n69.168.5.186 - hudson3060 [21/Jun/2019:15:59:58 -0700] \"GET /seamless/applications HTTP/1.1\" 405 24746\\n178.51.230.221 - beer4262 [21/Jun/2019:15:59:59 -0700] \"PUT /portals HTTP/1.0\" 401 2712\\n17.32.23.78 - - [21/Jun/2019:16:00:00 -0700] \"POST /engineer/visionary/mesh/empower HTTP/2.0\" 301 5336\\n202.254.80.9 - - [21/Jun/2019:16:00:01 -0700] \"PUT /e-services/frictionless/web-readiness HTTP/1.1\" 204 17323\\n167.14.84.150 - corkery7009 [21/Jun/2019:16:00:02 -0700] \"PATCH /cross-platform/engage HTTP/2.0\" 205 11138\\n108.73.111.91 - rolfson4266 [21/Jun/2019:16:00:03 -0700] \"POST /sexy/relationships/envisioneer HTTP/1.1\" 404 4012\\n255.34.248.138 - lehner7598 [21/Jun/2019:16:00:04 -0700] \"PUT /visionary/exploit/strategize HTTP/1.1\" 100 17607\\n175.248.234.53 - connelly6139 [21/Jun/2019:16:00:05 -0700] \"GET /end-to-end/initiatives HTTP/1.0\" 504 26939\\n54.182.101.16 - - [21/Jun/2019:16:00:06 -0700] \"DELETE /schemas HTTP/2.0\" 404 7568\\n197.102.163.140 - - [21/Jun/2019:16:00:07 -0700] \"HEAD /incentivize/impactful/world-class HTTP/1.0\" 405 25476\\n114.121.4.5 - dickinson1321 [21/Jun/2019:16:00:08 -0700] \"HEAD /ubiquitous/strategic/innovative HTTP/2.0\" 500 9756\\n75.128.148.229 - - [21/Jun/2019:16:00:09 -0700] \"GET /leverage/deliverables/aggregate/supply-chains HTTP/1.0\" 401 22388\\n87.120.190.31 - mraz2398 [21/Jun/2019:16:00:10 -0700] \"PUT /incentivize/deliver/frictionless HTTP/1.0\" 205 18766\\n123.55.15.237 - stracke7667 [21/Jun/2019:16:00:11 -0700] \"POST /bricks-and-clicks/wireless/iterate HTTP/2.0\" 403 11788\\n76.179.226.223 - gleichner8645 [21/Jun/2019:16:00:12 -0700] \"PATCH /incubate/enhance/enhance/plug-and-play HTTP/1.1\" 406 16334\\n18.251.182.128 - huels1658 [21/Jun/2019:16:00:13 -0700] \"PATCH /benchmark/seize/end-to-end HTTP/1.0\" 400 19364\\n130.4.238.6 - thompson4128 [21/Jun/2019:16:00:14 -0700] \"PUT /whiteboard HTTP/1.1\" 100 18951\\n30.235.201.100 - labadie1675 [21/Jun/2019:16:00:15 -0700] \"HEAD /sexy/seamless/channels HTTP/1.0\" 403 180\\n172.200.189.116 - moen2257 [21/Jun/2019:16:00:16 -0700] \"PUT /visionary HTTP/2.0\" 504 19011\\n129.243.225.31 - gerlach4189 [21/Jun/2019:16:00:17 -0700] \"HEAD /turn-key/enhance/deploy HTTP/1.1\" 201 3247\\n234.151.43.108 - gutkowski1749 [21/Jun/2019:16:00:18 -0700] \"POST /experiences/cultivate/communities HTTP/2.0\" 503 28441\\n128.230.157.15 - koch1729 [21/Jun/2019:16:00:19 -0700] \"POST /revolutionize HTTP/1.1\" 503 2054\\n70.128.242.203 - - [21/Jun/2019:16:00:20 -0700] \"POST /dot-com/efficient/e-tailers HTTP/1.1\" 406 28152\\n153.118.103.28 - - [21/Jun/2019:16:00:21 -0700] \"POST /action-items/seize/whiteboard HTTP/1.1\" 100 29028\\n147.89.158.20 - sawayn3251 [21/Jun/2019:16:00:22 -0700] \"PUT /clicks-and-mortar/b2c/e-enable HTTP/1.1\" 504 21163\\n144.30.162.29 - - [21/Jun/2019:16:00:23 -0700] \"GET /next-generation/magnetic/paradigms HTTP/2.0\" 100 437\\n98.221.131.91 - heaney8725 [21/Jun/2019:16:00:24 -0700] \"POST /seamless/scale HTTP/1.0\" 406 21102\\n116.135.195.23 - - [21/Jun/2019:16:00:25 -0700] \"HEAD /deliverables HTTP/1.0\" 406 1129\\n178.205.28.42 - koss1578 [21/Jun/2019:16:00:26 -0700] \"DELETE /convergence HTTP/2.0\" 100 2318\\n193.150.28.242 - - [21/Jun/2019:16:00:27 -0700] \"DELETE /best-of-breed HTTP/1.0\" 201 7787\\n85.65.192.87 - - [21/Jun/2019:16:00:28 -0700] \"DELETE /platforms HTTP/1.0\" 416 10675\\n80.172.108.88 - - [21/Jun/2019:16:00:29 -0700] \"PATCH /recontextualize/aggregate/front-end HTTP/2.0\" 301 1472\\n116.144.162.173 - - [21/Jun/2019:16:00:30 -0700] \"POST /sticky HTTP/2.0\" 503 7943\\n203.6.73.103 - kerluke4964 [21/Jun/2019:16:00:31 -0700] \"DELETE /collaborative/magnetic HTTP/1.1\" 405 11817\\n30.200.244.157 - zieme4477 [21/Jun/2019:16:00:32 -0700] \"HEAD /virtual/sticky/leading-edge/reintermediate HTTP/2.0\" 403 16473\\n217.77.132.36 - - [21/Jun/2019:16:00:33 -0700] \"DELETE /real-time/seamless/visualize/sexy HTTP/2.0\" 416 25555\\n168.91.121.134 - - [21/Jun/2019:16:00:34 -0700] \"GET /metrics/bleeding-edge HTTP/1.1\" 400 2069\\n104.242.54.162 - weber7878 [21/Jun/2019:16:00:35 -0700] \"HEAD /dynamic/models/productize HTTP/1.0\" 302 25146\\n210.119.75.247 - lemke8387 [21/Jun/2019:16:00:36 -0700] \"PATCH /partnerships/deploy/impactful/infomediaries HTTP/1.1\" 401 24246\\n189.164.49.80 - - [21/Jun/2019:16:00:37 -0700] \"DELETE /viral/incentivize/web-readiness HTTP/1.1\" 404 8726\\n151.70.203.139 - reinger7161 [21/Jun/2019:16:00:38 -0700] \"DELETE /strategic/repurpose/infrastructures HTTP/2.0\" 404 6941\\n100.200.147.71 - - [21/Jun/2019:16:00:39 -0700] \"DELETE /incubate HTTP/2.0\" 200 10687\\n146.50.234.201 - glover8440 [21/Jun/2019:16:00:40 -0700] \"PUT /partnerships/networks/frictionless HTTP/1.0\" 503 19853\\n195.58.191.112 - boyer8373 [21/Jun/2019:16:00:41 -0700] \"DELETE /integrate HTTP/2.0\" 500 17042\\n82.181.220.184 - - [21/Jun/2019:16:00:42 -0700] \"DELETE /deliverables/24%2f365/exploit/24%2f365 HTTP/1.0\" 403 21275\\n24.7.110.141 - hilpert8913 [21/Jun/2019:16:00:43 -0700] \"GET /syndicate/bleeding-edge/implement/24%2f365 HTTP/1.0\" 302 15253\\n167.254.190.8 - - [21/Jun/2019:16:00:44 -0700] \"GET /extensible/solutions/efficient HTTP/1.0\" 403 23745\\n219.107.204.228 - - [21/Jun/2019:16:00:45 -0700] \"HEAD /networks/aggregate/monetize/iterate HTTP/1.1\" 200 12926\\n189.49.24.146 - wunsch1258 [21/Jun/2019:16:00:46 -0700] \"GET /users/extend/expedite/channels HTTP/1.1\" 204 27622\\n145.65.159.31 - - [21/Jun/2019:16:00:47 -0700] \"DELETE /granular/bleeding-edge/innovate/incubate HTTP/2.0\" 503 14043\\n137.216.228.137 - - [21/Jun/2019:16:00:48 -0700] \"DELETE /efficient HTTP/1.0\" 404 434\\n186.190.140.96 - - [21/Jun/2019:16:00:49 -0700] \"PUT /infomediaries/orchestrate/cultivate/monetize HTTP/1.1\" 503 21516\\n148.191.73.128 - - [21/Jun/2019:16:00:50 -0700] \"PUT /schemas HTTP/2.0\" 205 3789\\n59.66.248.21 - kutch7667 [21/Jun/2019:16:00:51 -0700] \"GET /expedite/turn-key/exploit HTTP/1.1\" 504 10388\\n23.120.229.182 - - [21/Jun/2019:16:00:52 -0700] \"HEAD /utilize/synergistic/transition HTTP/1.0\" 503 28634\\n218.91.27.210 - turcotte8545 [21/Jun/2019:16:00:53 -0700] \"POST /redefine HTTP/1.0\" 401 750\\n235.76.221.72 - - [21/Jun/2019:16:00:54 -0700] \"PATCH /b2c/collaborative HTTP/2.0\" 302 21187\\n176.54.168.8 - - [21/Jun/2019:16:00:55 -0700] \"PATCH /orchestrate/redefine/platforms/generate HTTP/1.0\" 403 17299\\n250.183.230.208 - - [21/Jun/2019:16:00:56 -0700] \"DELETE /seamless/iterate HTTP/1.1\" 200 1800\\n100.95.44.151 - - [21/Jun/2019:16:00:57 -0700] \"PATCH /synergize/bricks-and-clicks/maximize/extend HTTP/1.0\" 100 6250\\n246.51.6.27 - - [21/Jun/2019:16:00:58 -0700] \"HEAD /e-business/applications HTTP/1.1\" 405 10953\\n107.152.217.102 - - [21/Jun/2019:16:00:59 -0700] \"PATCH /solutions/cultivate HTTP/1.0\" 304 23099\\n122.194.3.144 - - [21/Jun/2019:16:01:00 -0700] \"DELETE /cutting-edge/grow/target HTTP/1.0\" 501 29471\\n91.39.192.43 - thompson4010 [21/Jun/2019:16:01:01 -0700] \"PATCH /e-tailers HTTP/1.0\" 302 26183\\n248.24.178.242 - - [21/Jun/2019:16:01:02 -0700] \"HEAD /recontextualize/transparent/engineer HTTP/1.0\" 304 13879\\n251.28.161.44 - - [21/Jun/2019:16:01:03 -0700] \"HEAD /cross-media/aggregate/optimize/next-generation HTTP/1.0\" 205 24020\\n94.99.199.30 - - [21/Jun/2019:16:01:04 -0700] \"HEAD /extend/target/sexy/iterate HTTP/2.0\" 405 11901\\n197.150.196.204 - thiel4558 [21/Jun/2019:16:01:05 -0700] \"PATCH /compelling HTTP/2.0\" 500 14180\\n199.10.120.170 - murazik3963 [21/Jun/2019:16:01:06 -0700] \"DELETE /frictionless/magnetic/e-markets/visionary HTTP/1.0\" 502 21884\\n21.65.184.146 - lockman2593 [21/Jun/2019:16:01:07 -0700] \"DELETE /sexy HTTP/1.1\" 204 13464\\n36.191.173.200 - metz3511 [21/Jun/2019:16:01:08 -0700] \"POST /revolutionary/seamless/disintermediate/generate HTTP/1.0\" 400 18081\\n47.131.136.173 - - [21/Jun/2019:16:01:09 -0700] \"PATCH /global/whiteboard/architect HTTP/1.0\" 203 246\\n219.163.127.189 - - [21/Jun/2019:16:01:10 -0700] \"POST /sticky/efficient HTTP/1.0\" 400 13950\\n95.253.30.75 - herzog9094 [21/Jun/2019:16:01:11 -0700] \"POST /mindshare HTTP/1.1\" 400 3699\\n89.146.38.96 - - [21/Jun/2019:16:01:12 -0700] \"POST /partnerships/drive HTTP/1.0\" 504 23180\\n149.70.38.192 - gorczany7585 [21/Jun/2019:16:01:13 -0700] \"POST /real-time/utilize/relationships/leverage HTTP/1.0\" 302 5931\\n109.208.102.251 - schroeder2270 [21/Jun/2019:16:01:14 -0700] \"DELETE /leverage HTTP/2.0\" 500 16931\\n236.59.161.14 - - [21/Jun/2019:16:01:15 -0700] \"GET /sexy/b2c/e-business HTTP/1.1\" 205 2325\\n233.40.58.83 - - [21/Jun/2019:16:01:16 -0700] \"GET /impactful HTTP/2.0\" 504 22931\\n204.236.10.235 - rodriguez5244 [21/Jun/2019:16:01:17 -0700] \"GET /synergies/expedite/deploy HTTP/1.0\" 201 1938\\n158.49.98.6 - breitenberg4724 [21/Jun/2019:16:01:18 -0700] \"DELETE /global/channels/relationships HTTP/1.1\" 503 13365\\n52.90.48.138 - - [21/Jun/2019:16:01:19 -0700] \"DELETE /brand/architect/distributed/unleash HTTP/1.1\" 201 9681\\n131.137.166.85 - - [21/Jun/2019:16:01:20 -0700] \"HEAD /evolve/deploy/extensible/harness HTTP/2.0\" 205 18845\\n156.192.201.86 - connelly5114 [21/Jun/2019:16:01:21 -0700] \"PATCH /whiteboard/optimize HTTP/2.0\" 200 27720\\n189.85.107.237 - - [21/Jun/2019:16:01:22 -0700] \"GET /cross-platform/e-markets/b2b/exploit HTTP/1.1\" 406 5427\\n214.115.87.186 - gorczany2750 [21/Jun/2019:16:01:23 -0700] \"GET /plug-and-play/productize/deliverables HTTP/1.1\" 100 27250\\n98.220.2.44 - - [21/Jun/2019:16:01:24 -0700] \"HEAD /mission-critical HTTP/1.1\" 503 23067\\n173.31.138.234 - - [21/Jun/2019:16:01:25 -0700] \"DELETE /models HTTP/1.1\" 200 16362\\n69.218.146.39 - kohler8056 [21/Jun/2019:16:01:26 -0700] \"HEAD /systems HTTP/1.0\" 504 1226\\n71.86.213.196 - - [21/Jun/2019:16:01:27 -0700] \"DELETE /convergence/best-of-breed/platforms HTTP/1.0\" 302 8418\\n70.68.196.179 - cartwright5970 [21/Jun/2019:16:01:28 -0700] \"POST /b2c/cross-media HTTP/1.0\" 405 2171\\n126.63.247.146 - leuschke4130 [21/Jun/2019:16:01:29 -0700] \"GET /collaborative HTTP/2.0\" 504 21859\\n132.117.183.187 - - [21/Jun/2019:16:01:30 -0700] \"HEAD /synthesize/bandwidth/harness HTTP/2.0\" 203 20038\\n196.88.105.189 - lynch1110 [21/Jun/2019:16:01:31 -0700] \"POST /convergence/web-enabled/turn-key HTTP/1.1\" 304 20160\\n173.100.77.100 - goodwin1310 [21/Jun/2019:16:01:32 -0700] \"HEAD /integrate/visualize/implement/infomediaries HTTP/1.0\" 501 23263\\n17.106.152.183 - thiel8831 [21/Jun/2019:16:01:33 -0700] \"POST /architect/supply-chains/rich/cultivate HTTP/1.0\" 405 14929\\n93.67.196.131 - - [21/Jun/2019:16:01:34 -0700] \"PUT /generate/infrastructures HTTP/1.1\" 205 10151\\n229.231.201.185 - - [21/Jun/2019:16:01:35 -0700] \"HEAD /supply-chains/brand/strategic HTTP/1.1\" 405 28109\\n193.252.191.251 - roob3235 [21/Jun/2019:16:01:36 -0700] \"POST /extensible HTTP/1.1\" 503 26214\\n93.57.150.237 - - [21/Jun/2019:16:01:37 -0700] \"HEAD /real-time HTTP/2.0\" 404 22392\\n22.112.119.27 - - [21/Jun/2019:16:01:38 -0700] \"PUT /roi/collaborative HTTP/1.1\" 100 22881\\n205.98.120.209 - trantow6874 [21/Jun/2019:16:01:39 -0700] \"PUT /front-end/world-class/partnerships/schemas HTTP/1.0\" 401 25144\\n148.196.48.243 - ondricka6863 [21/Jun/2019:16:01:40 -0700] \"GET /best-of-breed/reinvent HTTP/1.1\" 501 29641\\n130.229.174.187 - hackett3055 [21/Jun/2019:16:01:41 -0700] \"GET /sticky/deliver HTTP/2.0\" 404 5708\\n115.27.231.250 - - [21/Jun/2019:16:01:42 -0700] \"PUT /drive/sexy/e-markets/brand HTTP/1.0\" 401 22035\\n188.30.88.134 - - [21/Jun/2019:16:01:43 -0700] \"PUT /end-to-end/architectures/convergence HTTP/1.1\" 302 3054\\n105.162.151.140 - herzog1680 [21/Jun/2019:16:01:44 -0700] \"POST /24%2f365/next-generation HTTP/1.1\" 301 25478\\n64.14.181.183 - gleichner2813 [21/Jun/2019:16:01:45 -0700] \"GET /innovate/mesh HTTP/2.0\" 400 4058\\n183.150.10.151 - hammes8029 [21/Jun/2019:16:01:46 -0700] \"HEAD /clicks-and-mortar HTTP/1.0\" 403 11496\\n137.138.99.222 - doyle8430 [21/Jun/2019:16:01:47 -0700] \"DELETE /e-commerce/brand/extend/innovative HTTP/2.0\" 304 20053\\n31.191.115.136 - parker1133 [21/Jun/2019:16:01:48 -0700] \"PATCH /visualize/clicks-and-mortar/facilitate HTTP/1.0\" 503 2609\\n32.163.208.9 - - [21/Jun/2019:16:01:49 -0700] \"POST /strategic/dynamic HTTP/1.0\" 403 28918\\n147.114.137.55 - - [21/Jun/2019:16:01:50 -0700] \"POST /brand/frictionless/markets/incentivize HTTP/1.0\" 416 26361\\n24.29.142.39 - koelpin1900 [21/Jun/2019:16:01:51 -0700] \"DELETE /monetize/user-centric HTTP/1.1\" 205 12477\\n56.36.101.14 - davis6497 [21/Jun/2019:16:01:52 -0700] \"GET /cutting-edge/matrix/productize/web+services HTTP/1.1\" 501 18684\\n98.140.180.244 - harber4797 [21/Jun/2019:16:01:53 -0700] \"POST /seize/b2b/synergistic HTTP/2.0\" 203 9396\\n54.92.231.149 - ziemann5634 [21/Jun/2019:16:01:54 -0700] \"GET /revolutionize/matrix HTTP/2.0\" 304 27968\\n96.250.132.151 - - [21/Jun/2019:16:01:55 -0700] \"HEAD /users/revolutionize HTTP/1.1\" 203 28242\\n29.193.55.212 - - [21/Jun/2019:16:01:56 -0700] \"DELETE /strategic/e-tailers/scalable HTTP/1.0\" 205 1197\\n255.61.55.129 - - [21/Jun/2019:16:01:57 -0700] \"DELETE /applications/infomediaries/reinvent/cultivate HTTP/1.0\" 401 10082\\n135.186.69.192 - - [21/Jun/2019:16:01:58 -0700] \"PATCH /best-of-breed HTTP/1.1\" 405 3910\\n32.86.3.51 - - [21/Jun/2019:16:01:59 -0700] \"GET /optimize/impactful/sexy/channels HTTP/2.0\" 405 18443\\n176.68.62.252 - turner3261 [21/Jun/2019:16:02:00 -0700] \"GET /viral HTTP/1.1\" 405 16692\\n35.86.149.61 - zemlak6334 [21/Jun/2019:16:02:01 -0700] \"HEAD /incentivize HTTP/2.0\" 304 9962\\n30.95.91.251 - larson8319 [21/Jun/2019:16:02:02 -0700] \"PUT /one-to-one/whiteboard HTTP/1.0\" 401 7270\\n'"
      ]
     },
     "execution_count": 417,
     "metadata": {},
     "output_type": "execute_result"
    }
   ],
   "source": [
    "with open('/home/nitin/work/coursera_python_datascience/assignments/course1_assignment1/assets/logdata.txt', mode='r') as file:\n",
    "    logs = file.read()\n",
    "    \n",
    "logs"
   ]
  },
  {
   "cell_type": "code",
   "execution_count": 474,
   "id": "34d69264",
   "metadata": {},
   "outputs": [
    {
     "data": {
      "text/plain": [
       "979"
      ]
     },
     "execution_count": 474,
     "metadata": {},
     "output_type": "execute_result"
    }
   ],
   "source": [
    "sample = '146.204.224.152 - feest6811 [21/Jun/2019:15:45:24 -0700] \"POST /incentivize HTTP/1.1\" 302 4622\\n197.109.77.178 - kertzmann3129 [21/Jun/2019:15:45:25 -0700] \"DELETE /virtual/solutions/target/web+services HTTP/2.0\" 203 26554\\n156.127.178.177 - okuneva5222 [21/Jun/2019:15:45:27 -0700] \"DELETE /interactive/transparent/niches/revolutionize HTTP/1.1\" 416 14701\\n100.32.205.59 - ortiz8891 [21/Jun/2019:15:45:28 -0700] \"PATCH /architectures HTTP/1.0\" 204 6048\\n'\n",
    "\n",
    "# pattern = '([\\:\\-\\[\\]\\w\\d.\\\"\\/\\s\\+]*)(?=\\n)'\n",
    "# re.findall(pattern,sample)\n",
    "\n",
    "pattern = \"\"\"\n",
    "(?P<host>[\\d]+.[\\d]+.[\\d]+.[\\d]+)\n",
    "(\\ -\\ )\n",
    "(?P<username>[\\w-]*)\n",
    "(\\ \\[)\n",
    "(?P<time>\\w*/\\w*/.*)\n",
    "(\\]\\s\")\n",
    "(?P<request>.*)\n",
    "(\")\n",
    "\"\"\"\n",
    "logs_list = []\n",
    "for item in re.finditer(pattern,logs,re.VERBOSE):\n",
    "    logs_list.append(item.groupdict())\n",
    "len(logs_list)    "
   ]
  },
  {
   "cell_type": "code",
   "execution_count": null,
   "id": "2009b002",
   "metadata": {},
   "outputs": [],
   "source": []
  },
  {
   "cell_type": "code",
   "execution_count": null,
   "id": "168a523f",
   "metadata": {},
   "outputs": [],
   "source": []
  }
 ],
 "metadata": {
  "kernelspec": {
   "display_name": "data_env",
   "language": "python",
   "name": "data_env"
  },
  "language_info": {
   "codemirror_mode": {
    "name": "ipython",
    "version": 3
   },
   "file_extension": ".py",
   "mimetype": "text/x-python",
   "name": "python",
   "nbconvert_exporter": "python",
   "pygments_lexer": "ipython3",
   "version": "3.10.6"
  }
 },
 "nbformat": 4,
 "nbformat_minor": 5
}
